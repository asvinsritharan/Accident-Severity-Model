{
 "cells": [
  {
   "cell_type": "markdown",
   "metadata": {},
   "source": [
    "# Introduction\n",
    "\n",
    "A GPS navigation system provides directions to thousands of users on a daily basis. The ultimate goal of a navigation system is to be able to get a user from point A to point B in the most efficient way possible. Dealing with accidents puts a great strain on this goal. Accidents are commonplace in every city, creating complication for drivers and navigation systems alike. Thus it is beneficial for the system to be able to detect the severity of an accident in order to determine if there are more efficient ways to route a user in a non conventional way. \n",
    "\n",
    "### Problem\n",
    "\n",
    "This project seeks to build a model which can successfully predict the severity of an accident.\n",
    "\n",
    "### Interest\n",
    "\n",
    "The interested party in this problem would be a a navigation company. A navigation company can use this model to determine whether it would be more efficient to let the driver pass through traffic, or avoid it. Furthermore, it could be a safety measure as well, deterring drivers from driving towards sites of heavy collision. It would be beneficial for both the driver and the GPS company."
   ]
  },
  {
   "cell_type": "markdown",
   "metadata": {},
   "source": [
    "# Data\n",
    "\n",
    "Based on our description of the problem it is important that we get relevant accident information in order to build our model. Factors which we we would need would include the location of the accident, the date, the weather, whether intoxication was involved and more. \n",
    "\n",
    "In order to obtain this information, a car accident dataset from data collected in Seattle will be used. This data was collected as part of the IBM Capstone Project Course which provided us with the dataset.\n",
    "\n",
    "The dataset contains columns: 'SEVERITYCODE', 'X', 'Y', 'OBJECTID', 'INCKEY', 'COLDETKEY', 'REPORTNO','STATUS', 'ADDRTYPE', 'INTKEY', 'LOCATION', 'EXCEPTRSNCODE','EXCEPTRSNDESC', 'SEVERITYCODE.1', 'SEVERITYDESC', 'COLLISIONTYPE','PERSONCOUNT', 'PEDCOUNT', 'PEDCYLCOUNT', 'VEHCOUNT', 'INCDATE','INCDTTM', 'JUNCTIONTYPE', 'SDOT_COLCODE', 'SDOT_COLDESC','INATTENTIONIND', 'UNDERINFL', 'WEATHER', 'ROADCOND', 'LIGHTCOND','PEDROWNOTGRNT', 'SDOTCOLNUM', 'SPEEDING', 'ST_COLCODE', 'ST_COLDESC','SEGLANEKEY', 'CROSSWALKKEY' and 'HITPARKEDCAR'. We must first drop columns which are redundant or appear in other forms. An example of such columns are the SEVERITYCODE and SEVERITYCODE.1 columns. They hold the same values, so it is meaningless to include both columns in our dataset.\n",
    "\n",
    "After the relevant variables are gathered, we then plot the variables against the SEVERITYCODE labels to determine if they have any influence on whether or not an accident is an injury causing accident or a property damage causing. Dropping the irrelevant variables here, give us a more rigid set of variables which we can then use for training our model.\n",
    "\n",
    "The data then needs its categorical variables factorized so they can be used in models. Once it's all done, the data will be normalized so variables don't have more influence over others in the model. Finally, the Decision Trees, KNN, SVM and Logistic Regression models will be created using the data and the test data will be made using 10% of the dataset. The model with the best scores across precision, recall and f1-scores will be the model selected as the best model."
   ]
  },
  {
   "cell_type": "code",
   "execution_count": null,
   "metadata": {},
   "outputs": [],
   "source": []
  }
 ],
 "metadata": {
  "kernelspec": {
   "display_name": "Python 3",
   "language": "python",
   "name": "python3"
  },
  "language_info": {
   "codemirror_mode": {
    "name": "ipython",
    "version": 3
   },
   "file_extension": ".py",
   "mimetype": "text/x-python",
   "name": "python",
   "nbconvert_exporter": "python",
   "pygments_lexer": "ipython3",
   "version": "3.8.3"
  }
 },
 "nbformat": 4,
 "nbformat_minor": 4
}
