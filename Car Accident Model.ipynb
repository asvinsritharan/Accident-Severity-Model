{
 "cells": [
  {
   "cell_type": "markdown",
   "metadata": {},
   "source": [
    "# Introduction\n",
    "\n",
    "A GPS navigation system provides directions to thousands of users on a daily basis. The ultimate goal of a navigation system is to be able to get a user from point A to point B in the most efficient way possible. Dealing with accidents puts a great strain on this goal. Accidents are commonplace in every city, creating complication for drivers and navigation systems alike. Thus it is beneficial for the system to be able to detect the severity of an accident in order to determine if there are more efficient ways to route a user in a non conventional way. \n",
    "\n",
    "### Problem\n",
    "\n",
    "This project seeks to build a model which can successfully predict the severity of an accident.\n",
    "\n",
    "### Interest\n",
    "\n",
    "The interested party in this problem would be a a navigation company. A navigation company can use this model to determine whether it would be more efficient to let the driver pass through traffic, or avoid it. Furthermore, it could be a safety measure as well, deterring drivers from driving towards sites of heavy collision. It would be beneficial for both the driver and the GPS company."
   ]
  },
  {
   "cell_type": "markdown",
   "metadata": {},
   "source": [
    "# Data\n",
    "\n",
    "Based on our description of the problem it is important that we get relevant accident information in order to build our model. Factors which we we would need would include the location of the accident, the date, the weather, whether intoxication was involved and more. \n",
    "\n",
    "In order to obtain this information, a car accident dataset from data collected in Seattle will be used. This data was collected as part of the IBM Capstone Project Course which provided us with the dataset.\n",
    "\n",
    "The dataset contains columns: 'SEVERITYCODE', 'X', 'Y', 'OBJECTID', 'INCKEY', 'COLDETKEY', 'REPORTNO','STATUS', 'ADDRTYPE', 'INTKEY', 'LOCATION', 'EXCEPTRSNCODE','EXCEPTRSNDESC', 'SEVERITYCODE.1', 'SEVERITYDESC', 'COLLISIONTYPE','PERSONCOUNT', 'PEDCOUNT', 'PEDCYLCOUNT', 'VEHCOUNT', 'INCDATE','INCDTTM', 'JUNCTIONTYPE', 'SDOT_COLCODE', 'SDOT_COLDESC','INATTENTIONIND', 'UNDERINFL', 'WEATHER', 'ROADCOND', 'LIGHTCOND','PEDROWNOTGRNT', 'SDOTCOLNUM', 'SPEEDING', 'ST_COLCODE', 'ST_COLDESC','SEGLANEKEY', 'CROSSWALKKEY' and 'HITPARKEDCAR'. We must first drop columns which are redundant or appear in other forms. An example of such columns are the SEVERITYCODE and SEVERITYCODE.1 columns. They hold the same values, so it is meaningless to include both columns in our dataset.\n",
    "\n",
    "After the relevant variables are gathered, we then plot the variables against the SEVERITYCODE labels to determine if they have any influence on whether or not an accident is an injury causing accident or a property damage causing. Dropping the irrelevant variables here, give us a more rigid set of variables which we can then use for training our model.\n",
    "\n",
    "The data then needs its categorical variables factorized so they can be used in models. Once it's all done, the data will be normalized so variables don't have more influence over others in the model. Finally, the Decision Trees, KNN, SVM and Logistic Regression models will be created using the data and the test data will be made using 10% of the dataset. The model with the best scores across precision, recall and f1-scores will be the model selected as the best model."
   ]
  },
  {
   "cell_type": "markdown",
   "metadata": {},
   "source": [
    "# Methodology\n",
    "\n",
    "Our goal of this project is to successfully predict accidents by their true severity. To do this, we must have a large amount of samples for accident data. The dataset selected, contains data from Seattle which was provided by the IBM Applied Data Science Capstone Course. \n",
    "\n",
    "We will plot categorical variables against the severity code categorical variable by using bar charts to compare shapes to see if there are differences in distribution. Side by side boxplots will be used to plot quantitative variables against the severity categorical variable to see differences in distribution of data. Variables which are variations of other variables, have no variation in fraudulent transactions or are insignificant will be excluded from the model. \n",
    "\n",
    "After the unnecessary variables are dropped from our dataset, we factorize the categorical variables to give categories a numerical representation so that they can be modelled on. Normalization will take place so variables like state collision code, which have large number values, don't have higher impact on our model than other variables like category of purchase.\n",
    "\n",
    "Finally, since this is a classification problem, we will build a model using decision trees, KNN, SVM and logistic regression for fraud detection. Each model will then be tested by calculating it's precision, recall and f1-scores. We will not be focusing on precision or recall by itself, we will be considering models which have a high precision and recall score for greatest accuracy in our model. Models based around fraud detection may rely heavily on recall scores but since our goal is to detect the severity of an accident for consumer purposes, we will be focusing on all rounded model which excels in precision, recall and f1-score."
   ]
  },
  {
   "cell_type": "markdown",
   "metadata": {},
   "source": [
    "### Analysis\n",
    "\n",
    "We must combine the data and perform analysis on the relevant variables in order to determine which variables are crucial to our model."
   ]
  },
  {
   "cell_type": "code",
   "execution_count": 1,
   "metadata": {},
   "outputs": [],
   "source": [
    "import pandas as pd\n",
    "import numpy as np"
   ]
  },
  {
   "cell_type": "markdown",
   "metadata": {},
   "source": [
    "We have been given train and test datasets however instead of using split tables, lets split the data ourselves later. For now we will combine both train and test datasets. Now we look at the data types in the dataset "
   ]
  },
  {
   "cell_type": "code",
   "execution_count": 2,
   "metadata": {},
   "outputs": [
    {
     "data": {
      "text/plain": [
       "SEVERITYCODE        int64\n",
       "X                 float64\n",
       "Y                 float64\n",
       "OBJECTID            int64\n",
       "INCKEY              int64\n",
       "COLDETKEY           int64\n",
       "REPORTNO           object\n",
       "STATUS             object\n",
       "ADDRTYPE           object\n",
       "INTKEY            float64\n",
       "LOCATION           object\n",
       "EXCEPTRSNCODE      object\n",
       "EXCEPTRSNDESC      object\n",
       "SEVERITYCODE.1      int64\n",
       "SEVERITYDESC       object\n",
       "COLLISIONTYPE      object\n",
       "PERSONCOUNT         int64\n",
       "PEDCOUNT            int64\n",
       "PEDCYLCOUNT         int64\n",
       "VEHCOUNT            int64\n",
       "INCDATE            object\n",
       "INCDTTM            object\n",
       "JUNCTIONTYPE       object\n",
       "SDOT_COLCODE        int64\n",
       "SDOT_COLDESC       object\n",
       "INATTENTIONIND     object\n",
       "UNDERINFL          object\n",
       "WEATHER            object\n",
       "ROADCOND           object\n",
       "LIGHTCOND          object\n",
       "PEDROWNOTGRNT      object\n",
       "SDOTCOLNUM        float64\n",
       "SPEEDING           object\n",
       "ST_COLCODE         object\n",
       "ST_COLDESC         object\n",
       "SEGLANEKEY          int64\n",
       "CROSSWALKKEY        int64\n",
       "HITPARKEDCAR       object\n",
       "dtype: object"
      ]
     },
     "execution_count": 2,
     "metadata": {},
     "output_type": "execute_result"
    }
   ],
   "source": [
    "dataset = pd.read_csv(\"Data-Collisions.csv\", low_memory=False)\n",
    "dataset.dtypes"
   ]
  },
  {
   "cell_type": "code",
   "execution_count": 3,
   "metadata": {},
   "outputs": [
    {
     "data": {
      "text/plain": [
       "Index(['SEVERITYCODE', 'X', 'Y', 'OBJECTID', 'INCKEY', 'COLDETKEY', 'REPORTNO',\n",
       "       'STATUS', 'ADDRTYPE', 'INTKEY', 'LOCATION', 'EXCEPTRSNCODE',\n",
       "       'EXCEPTRSNDESC', 'SEVERITYCODE.1', 'SEVERITYDESC', 'COLLISIONTYPE',\n",
       "       'PERSONCOUNT', 'PEDCOUNT', 'PEDCYLCOUNT', 'VEHCOUNT', 'INCDATE',\n",
       "       'INCDTTM', 'JUNCTIONTYPE', 'SDOT_COLCODE', 'SDOT_COLDESC',\n",
       "       'INATTENTIONIND', 'UNDERINFL', 'WEATHER', 'ROADCOND', 'LIGHTCOND',\n",
       "       'PEDROWNOTGRNT', 'SDOTCOLNUM', 'SPEEDING', 'ST_COLCODE', 'ST_COLDESC',\n",
       "       'SEGLANEKEY', 'CROSSWALKKEY', 'HITPARKEDCAR'],\n",
       "      dtype='object')"
      ]
     },
     "execution_count": 3,
     "metadata": {},
     "output_type": "execute_result"
    }
   ],
   "source": [
    "dataset.columns"
   ]
  },
  {
   "cell_type": "code",
   "execution_count": 4,
   "metadata": {},
   "outputs": [],
   "source": [
    "df = dataset"
   ]
  },
  {
   "cell_type": "markdown",
   "metadata": {},
   "source": [
    "We will drop columns which are seemingly irrelevant to the output of the model. This includes unique values, redundant columns, values with very high values of NaN etc."
   ]
  },
  {
   "cell_type": "markdown",
   "metadata": {},
   "source": [
    "We can now get the counts of missing values in the dataset to determine which values we need to replace"
   ]
  },
  {
   "cell_type": "code",
   "execution_count": 5,
   "metadata": {},
   "outputs": [],
   "source": [
    "drop_list = ['OBJECTID', 'COLLISIONTYPE', 'INCKEY','SEVERITYCODE.1', 'COLDETKEY', 'REPORTNO', 'EXCEPTRSNCODE', 'EXCEPTRSNDESC',  'INCDATE' , 'SDOT_COLDESC', 'PEDROWNOTGRNT', 'ST_COLDESC' ]\n",
    "df = df.drop(drop_list, axis=1)"
   ]
  },
  {
   "cell_type": "code",
   "execution_count": 6,
   "metadata": {},
   "outputs": [
    {
     "name": "stdout",
     "output_type": "stream",
     "text": [
      "SEVERITYCODE\n",
      "False    194673\n",
      "Name: SEVERITYCODE, dtype: int64\n",
      "\n",
      "X\n",
      "False    189339\n",
      "True       5334\n",
      "Name: X, dtype: int64\n",
      "\n",
      "Y\n",
      "False    189339\n",
      "True       5334\n",
      "Name: Y, dtype: int64\n",
      "\n",
      "STATUS\n",
      "False    194673\n",
      "Name: STATUS, dtype: int64\n",
      "\n",
      "ADDRTYPE\n",
      "False    192747\n",
      "True       1926\n",
      "Name: ADDRTYPE, dtype: int64\n",
      "\n",
      "INTKEY\n",
      "True     129603\n",
      "False     65070\n",
      "Name: INTKEY, dtype: int64\n",
      "\n",
      "LOCATION\n",
      "False    191996\n",
      "True       2677\n",
      "Name: LOCATION, dtype: int64\n",
      "\n",
      "SEVERITYDESC\n",
      "False    194673\n",
      "Name: SEVERITYDESC, dtype: int64\n",
      "\n",
      "PERSONCOUNT\n",
      "False    194673\n",
      "Name: PERSONCOUNT, dtype: int64\n",
      "\n",
      "PEDCOUNT\n",
      "False    194673\n",
      "Name: PEDCOUNT, dtype: int64\n",
      "\n",
      "PEDCYLCOUNT\n",
      "False    194673\n",
      "Name: PEDCYLCOUNT, dtype: int64\n",
      "\n",
      "VEHCOUNT\n",
      "False    194673\n",
      "Name: VEHCOUNT, dtype: int64\n",
      "\n",
      "INCDTTM\n",
      "False    194673\n",
      "Name: INCDTTM, dtype: int64\n",
      "\n",
      "JUNCTIONTYPE\n",
      "False    188344\n",
      "True       6329\n",
      "Name: JUNCTIONTYPE, dtype: int64\n",
      "\n",
      "SDOT_COLCODE\n",
      "False    194673\n",
      "Name: SDOT_COLCODE, dtype: int64\n",
      "\n",
      "INATTENTIONIND\n",
      "True     164868\n",
      "False     29805\n",
      "Name: INATTENTIONIND, dtype: int64\n",
      "\n",
      "UNDERINFL\n",
      "False    189789\n",
      "True       4884\n",
      "Name: UNDERINFL, dtype: int64\n",
      "\n",
      "WEATHER\n",
      "False    189592\n",
      "True       5081\n",
      "Name: WEATHER, dtype: int64\n",
      "\n",
      "ROADCOND\n",
      "False    189661\n",
      "True       5012\n",
      "Name: ROADCOND, dtype: int64\n",
      "\n",
      "LIGHTCOND\n",
      "False    189503\n",
      "True       5170\n",
      "Name: LIGHTCOND, dtype: int64\n",
      "\n",
      "SDOTCOLNUM\n",
      "False    114936\n",
      "True      79737\n",
      "Name: SDOTCOLNUM, dtype: int64\n",
      "\n",
      "SPEEDING\n",
      "True     185340\n",
      "False      9333\n",
      "Name: SPEEDING, dtype: int64\n",
      "\n",
      "ST_COLCODE\n",
      "False    194655\n",
      "True         18\n",
      "Name: ST_COLCODE, dtype: int64\n",
      "\n",
      "SEGLANEKEY\n",
      "False    194673\n",
      "Name: SEGLANEKEY, dtype: int64\n",
      "\n",
      "CROSSWALKKEY\n",
      "False    194673\n",
      "Name: CROSSWALKKEY, dtype: int64\n",
      "\n",
      "HITPARKEDCAR\n",
      "False    194673\n",
      "Name: HITPARKEDCAR, dtype: int64\n",
      "\n"
     ]
    }
   ],
   "source": [
    "missing_data = df.isnull()\n",
    "for col in missing_data.columns.values.tolist():\n",
    "    print(col)\n",
    "    print(missing_data[col].value_counts())\n",
    "    print(\"\")"
   ]
  },
  {
   "cell_type": "markdown",
   "metadata": {},
   "source": [
    "We will now drop columns which have a high percentage of it's data missing"
   ]
  },
  {
   "cell_type": "code",
   "execution_count": 7,
   "metadata": {},
   "outputs": [],
   "source": [
    "drop_list = ['INTKEY', 'INATTENTIONIND', 'SDOTCOLNUM', 'SPEEDING']\n",
    "df = df.drop(drop_list, axis=1)"
   ]
  },
  {
   "cell_type": "markdown",
   "metadata": {},
   "source": [
    "Now we look at the data types again in the dataset to determine how to plot the variables. This is important because we can see the impact each variable has on fraudulent and non fraudulent transactions"
   ]
  },
  {
   "cell_type": "code",
   "execution_count": 8,
   "metadata": {},
   "outputs": [
    {
     "name": "stdout",
     "output_type": "stream",
     "text": [
      "SEVERITYCODE\n",
      "False    194673\n",
      "Name: SEVERITYCODE, dtype: int64\n",
      "\n",
      "X\n",
      "False    189339\n",
      "True       5334\n",
      "Name: X, dtype: int64\n",
      "\n",
      "Y\n",
      "False    189339\n",
      "True       5334\n",
      "Name: Y, dtype: int64\n",
      "\n",
      "STATUS\n",
      "False    194673\n",
      "Name: STATUS, dtype: int64\n",
      "\n",
      "ADDRTYPE\n",
      "False    192747\n",
      "True       1926\n",
      "Name: ADDRTYPE, dtype: int64\n",
      "\n",
      "LOCATION\n",
      "False    191996\n",
      "True       2677\n",
      "Name: LOCATION, dtype: int64\n",
      "\n",
      "SEVERITYDESC\n",
      "False    194673\n",
      "Name: SEVERITYDESC, dtype: int64\n",
      "\n",
      "PERSONCOUNT\n",
      "False    194673\n",
      "Name: PERSONCOUNT, dtype: int64\n",
      "\n",
      "PEDCOUNT\n",
      "False    194673\n",
      "Name: PEDCOUNT, dtype: int64\n",
      "\n",
      "PEDCYLCOUNT\n",
      "False    194673\n",
      "Name: PEDCYLCOUNT, dtype: int64\n",
      "\n",
      "VEHCOUNT\n",
      "False    194673\n",
      "Name: VEHCOUNT, dtype: int64\n",
      "\n",
      "INCDTTM\n",
      "False    194673\n",
      "Name: INCDTTM, dtype: int64\n",
      "\n",
      "JUNCTIONTYPE\n",
      "False    188344\n",
      "True       6329\n",
      "Name: JUNCTIONTYPE, dtype: int64\n",
      "\n",
      "SDOT_COLCODE\n",
      "False    194673\n",
      "Name: SDOT_COLCODE, dtype: int64\n",
      "\n",
      "UNDERINFL\n",
      "False    189789\n",
      "True       4884\n",
      "Name: UNDERINFL, dtype: int64\n",
      "\n",
      "WEATHER\n",
      "False    189592\n",
      "True       5081\n",
      "Name: WEATHER, dtype: int64\n",
      "\n",
      "ROADCOND\n",
      "False    189661\n",
      "True       5012\n",
      "Name: ROADCOND, dtype: int64\n",
      "\n",
      "LIGHTCOND\n",
      "False    189503\n",
      "True       5170\n",
      "Name: LIGHTCOND, dtype: int64\n",
      "\n",
      "ST_COLCODE\n",
      "False    194655\n",
      "True         18\n",
      "Name: ST_COLCODE, dtype: int64\n",
      "\n",
      "SEGLANEKEY\n",
      "False    194673\n",
      "Name: SEGLANEKEY, dtype: int64\n",
      "\n",
      "CROSSWALKKEY\n",
      "False    194673\n",
      "Name: CROSSWALKKEY, dtype: int64\n",
      "\n",
      "HITPARKEDCAR\n",
      "False    194673\n",
      "Name: HITPARKEDCAR, dtype: int64\n",
      "\n"
     ]
    }
   ],
   "source": [
    "missing_data = df.isnull()\n",
    "for col in missing_data.columns.values.tolist():\n",
    "    print(col)\n",
    "    print(missing_data[col].value_counts())\n",
    "    print(\"\")"
   ]
  },
  {
   "cell_type": "code",
   "execution_count": 9,
   "metadata": {},
   "outputs": [],
   "source": [
    "pd.set_option('max_columns', None)"
   ]
  },
  {
   "cell_type": "markdown",
   "metadata": {},
   "source": [
    "The only columns which can provide us with the information we need for SDOT_COLCODE are COLLISIONTYPE and SDOT_COLDESC"
   ]
  },
  {
   "cell_type": "code",
   "execution_count": 10,
   "metadata": {},
   "outputs": [
    {
     "data": {
      "text/html": [
       "<div>\n",
       "<style scoped>\n",
       "    .dataframe tbody tr th:only-of-type {\n",
       "        vertical-align: middle;\n",
       "    }\n",
       "\n",
       "    .dataframe tbody tr th {\n",
       "        vertical-align: top;\n",
       "    }\n",
       "\n",
       "    .dataframe thead th {\n",
       "        text-align: right;\n",
       "    }\n",
       "</style>\n",
       "<table border=\"1\" class=\"dataframe\">\n",
       "  <thead>\n",
       "    <tr style=\"text-align: right;\">\n",
       "      <th></th>\n",
       "      <th>SEVERITYCODE</th>\n",
       "      <th>X</th>\n",
       "      <th>Y</th>\n",
       "      <th>OBJECTID</th>\n",
       "      <th>INCKEY</th>\n",
       "      <th>COLDETKEY</th>\n",
       "      <th>REPORTNO</th>\n",
       "      <th>STATUS</th>\n",
       "      <th>ADDRTYPE</th>\n",
       "      <th>INTKEY</th>\n",
       "      <th>LOCATION</th>\n",
       "      <th>EXCEPTRSNCODE</th>\n",
       "      <th>EXCEPTRSNDESC</th>\n",
       "      <th>SEVERITYCODE.1</th>\n",
       "      <th>SEVERITYDESC</th>\n",
       "      <th>COLLISIONTYPE</th>\n",
       "      <th>PERSONCOUNT</th>\n",
       "      <th>PEDCOUNT</th>\n",
       "      <th>PEDCYLCOUNT</th>\n",
       "      <th>VEHCOUNT</th>\n",
       "      <th>INCDATE</th>\n",
       "      <th>INCDTTM</th>\n",
       "      <th>JUNCTIONTYPE</th>\n",
       "      <th>SDOT_COLCODE</th>\n",
       "      <th>SDOT_COLDESC</th>\n",
       "      <th>INATTENTIONIND</th>\n",
       "      <th>UNDERINFL</th>\n",
       "      <th>WEATHER</th>\n",
       "      <th>ROADCOND</th>\n",
       "      <th>LIGHTCOND</th>\n",
       "      <th>PEDROWNOTGRNT</th>\n",
       "      <th>SDOTCOLNUM</th>\n",
       "      <th>SPEEDING</th>\n",
       "      <th>ST_COLCODE</th>\n",
       "      <th>ST_COLDESC</th>\n",
       "      <th>SEGLANEKEY</th>\n",
       "      <th>CROSSWALKKEY</th>\n",
       "      <th>HITPARKEDCAR</th>\n",
       "    </tr>\n",
       "  </thead>\n",
       "  <tbody>\n",
       "    <tr>\n",
       "      <th>172392</th>\n",
       "      <td>2</td>\n",
       "      <td>-122.342372</td>\n",
       "      <td>47.622056</td>\n",
       "      <td>192928</td>\n",
       "      <td>265998</td>\n",
       "      <td>266798</td>\n",
       "      <td>3753785</td>\n",
       "      <td>Matched</td>\n",
       "      <td>Intersection</td>\n",
       "      <td>28783.0</td>\n",
       "      <td>DEXTER AVE N AND HARRISON ST</td>\n",
       "      <td></td>\n",
       "      <td>NaN</td>\n",
       "      <td>2</td>\n",
       "      <td>Injury Collision</td>\n",
       "      <td>NaN</td>\n",
       "      <td>2</td>\n",
       "      <td>0</td>\n",
       "      <td>1</td>\n",
       "      <td>1</td>\n",
       "      <td>2018/01/17 00:00:00+00</td>\n",
       "      <td>1/17/2018 8:50:00 AM</td>\n",
       "      <td>At Intersection (intersection related)</td>\n",
       "      <td>18</td>\n",
       "      <td>MOTOR VEHICLE STRUCK PEDALCYCLIST, FRONT END A...</td>\n",
       "      <td>NaN</td>\n",
       "      <td>N</td>\n",
       "      <td>Overcast</td>\n",
       "      <td>Wet</td>\n",
       "      <td>Daylight</td>\n",
       "      <td>Y</td>\n",
       "      <td>NaN</td>\n",
       "      <td>NaN</td>\n",
       "      <td>NaN</td>\n",
       "      <td>NaN</td>\n",
       "      <td>0</td>\n",
       "      <td>0</td>\n",
       "      <td>N</td>\n",
       "    </tr>\n",
       "    <tr>\n",
       "      <th>172836</th>\n",
       "      <td>2</td>\n",
       "      <td>-122.354678</td>\n",
       "      <td>47.677668</td>\n",
       "      <td>193514</td>\n",
       "      <td>265357</td>\n",
       "      <td>266157</td>\n",
       "      <td>3705689</td>\n",
       "      <td>Matched</td>\n",
       "      <td>Intersection</td>\n",
       "      <td>24351.0</td>\n",
       "      <td>PHINNEY AVE N AND N 67TH S ST</td>\n",
       "      <td></td>\n",
       "      <td>NaN</td>\n",
       "      <td>2</td>\n",
       "      <td>Injury Collision</td>\n",
       "      <td>NaN</td>\n",
       "      <td>2</td>\n",
       "      <td>0</td>\n",
       "      <td>1</td>\n",
       "      <td>1</td>\n",
       "      <td>2018/01/09 00:00:00+00</td>\n",
       "      <td>1/9/2018 10:13:00 AM</td>\n",
       "      <td>At Intersection (intersection related)</td>\n",
       "      <td>18</td>\n",
       "      <td>MOTOR VEHICLE STRUCK PEDALCYCLIST, FRONT END A...</td>\n",
       "      <td>NaN</td>\n",
       "      <td>N</td>\n",
       "      <td>Raining</td>\n",
       "      <td>Wet</td>\n",
       "      <td>Daylight</td>\n",
       "      <td>NaN</td>\n",
       "      <td>NaN</td>\n",
       "      <td>NaN</td>\n",
       "      <td>NaN</td>\n",
       "      <td>NaN</td>\n",
       "      <td>4288</td>\n",
       "      <td>0</td>\n",
       "      <td>N</td>\n",
       "    </tr>\n",
       "    <tr>\n",
       "      <th>172973</th>\n",
       "      <td>2</td>\n",
       "      <td>-122.358251</td>\n",
       "      <td>47.639596</td>\n",
       "      <td>193728</td>\n",
       "      <td>265181</td>\n",
       "      <td>265961</td>\n",
       "      <td>E757814</td>\n",
       "      <td>Matched</td>\n",
       "      <td>Intersection</td>\n",
       "      <td>27815.0</td>\n",
       "      <td>1ST AVE W AND W MCGRAW ST</td>\n",
       "      <td></td>\n",
       "      <td>NaN</td>\n",
       "      <td>2</td>\n",
       "      <td>Injury Collision</td>\n",
       "      <td>NaN</td>\n",
       "      <td>3</td>\n",
       "      <td>0</td>\n",
       "      <td>1</td>\n",
       "      <td>1</td>\n",
       "      <td>2018/01/08 00:00:00+00</td>\n",
       "      <td>1/8/2018 1:43:00 PM</td>\n",
       "      <td>At Intersection (intersection related)</td>\n",
       "      <td>18</td>\n",
       "      <td>MOTOR VEHICLE STRUCK PEDALCYCLIST, FRONT END A...</td>\n",
       "      <td>NaN</td>\n",
       "      <td>N</td>\n",
       "      <td>Overcast</td>\n",
       "      <td>Wet</td>\n",
       "      <td>Daylight</td>\n",
       "      <td>NaN</td>\n",
       "      <td>NaN</td>\n",
       "      <td>NaN</td>\n",
       "      <td>NaN</td>\n",
       "      <td>NaN</td>\n",
       "      <td>0</td>\n",
       "      <td>0</td>\n",
       "      <td>N</td>\n",
       "    </tr>\n",
       "    <tr>\n",
       "      <th>173295</th>\n",
       "      <td>2</td>\n",
       "      <td>-122.313262</td>\n",
       "      <td>47.656215</td>\n",
       "      <td>194181</td>\n",
       "      <td>267682</td>\n",
       "      <td>268462</td>\n",
       "      <td>3769416</td>\n",
       "      <td>Matched</td>\n",
       "      <td>Intersection</td>\n",
       "      <td>27143.0</td>\n",
       "      <td>UNIVERSITY WAY NE AND NE CAMPUS WB PY</td>\n",
       "      <td></td>\n",
       "      <td>NaN</td>\n",
       "      <td>2</td>\n",
       "      <td>Injury Collision</td>\n",
       "      <td>NaN</td>\n",
       "      <td>3</td>\n",
       "      <td>0</td>\n",
       "      <td>1</td>\n",
       "      <td>1</td>\n",
       "      <td>2018/01/25 00:00:00+00</td>\n",
       "      <td>1/25/2018 8:23:00 AM</td>\n",
       "      <td>At Intersection (intersection related)</td>\n",
       "      <td>18</td>\n",
       "      <td>MOTOR VEHICLE STRUCK PEDALCYCLIST, FRONT END A...</td>\n",
       "      <td>NaN</td>\n",
       "      <td>N</td>\n",
       "      <td>Overcast</td>\n",
       "      <td>Unknown</td>\n",
       "      <td>Daylight</td>\n",
       "      <td>Y</td>\n",
       "      <td>NaN</td>\n",
       "      <td>NaN</td>\n",
       "      <td>NaN</td>\n",
       "      <td>NaN</td>\n",
       "      <td>0</td>\n",
       "      <td>0</td>\n",
       "      <td>N</td>\n",
       "    </tr>\n",
       "    <tr>\n",
       "      <th>173402</th>\n",
       "      <td>1</td>\n",
       "      <td>-122.335976</td>\n",
       "      <td>47.607763</td>\n",
       "      <td>194341</td>\n",
       "      <td>267923</td>\n",
       "      <td>268703</td>\n",
       "      <td>3811927</td>\n",
       "      <td>Matched</td>\n",
       "      <td>Intersection</td>\n",
       "      <td>29601.0</td>\n",
       "      <td>3RD AVE AND UNIVERSITY ST</td>\n",
       "      <td></td>\n",
       "      <td>NaN</td>\n",
       "      <td>1</td>\n",
       "      <td>Property Damage Only Collision</td>\n",
       "      <td>NaN</td>\n",
       "      <td>3</td>\n",
       "      <td>0</td>\n",
       "      <td>1</td>\n",
       "      <td>1</td>\n",
       "      <td>2018/01/27 00:00:00+00</td>\n",
       "      <td>1/27/2018 3:20:00 PM</td>\n",
       "      <td>At Intersection (intersection related)</td>\n",
       "      <td>51</td>\n",
       "      <td>PEDALCYCLIST STRUCK MOTOR VEHICLE FRONT END AT...</td>\n",
       "      <td>NaN</td>\n",
       "      <td>N</td>\n",
       "      <td>Overcast</td>\n",
       "      <td>Dry</td>\n",
       "      <td>Daylight</td>\n",
       "      <td>NaN</td>\n",
       "      <td>NaN</td>\n",
       "      <td>NaN</td>\n",
       "      <td>NaN</td>\n",
       "      <td>NaN</td>\n",
       "      <td>0</td>\n",
       "      <td>0</td>\n",
       "      <td>N</td>\n",
       "    </tr>\n",
       "    <tr>\n",
       "      <th>173476</th>\n",
       "      <td>2</td>\n",
       "      <td>-122.334215</td>\n",
       "      <td>47.555663</td>\n",
       "      <td>194450</td>\n",
       "      <td>265138</td>\n",
       "      <td>265918</td>\n",
       "      <td>E757849</td>\n",
       "      <td>Matched</td>\n",
       "      <td>Intersection</td>\n",
       "      <td>33026.0</td>\n",
       "      <td>1ST AVE S AND S DAWSON ST</td>\n",
       "      <td></td>\n",
       "      <td>NaN</td>\n",
       "      <td>2</td>\n",
       "      <td>Injury Collision</td>\n",
       "      <td>NaN</td>\n",
       "      <td>2</td>\n",
       "      <td>0</td>\n",
       "      <td>1</td>\n",
       "      <td>1</td>\n",
       "      <td>2018/01/09 00:00:00+00</td>\n",
       "      <td>1/9/2018 12:59:00 PM</td>\n",
       "      <td>At Intersection (intersection related)</td>\n",
       "      <td>51</td>\n",
       "      <td>PEDALCYCLIST STRUCK MOTOR VEHICLE FRONT END AT...</td>\n",
       "      <td>NaN</td>\n",
       "      <td>N</td>\n",
       "      <td>Raining</td>\n",
       "      <td>Wet</td>\n",
       "      <td>Daylight</td>\n",
       "      <td>NaN</td>\n",
       "      <td>NaN</td>\n",
       "      <td>NaN</td>\n",
       "      <td>NaN</td>\n",
       "      <td>NaN</td>\n",
       "      <td>0</td>\n",
       "      <td>0</td>\n",
       "      <td>N</td>\n",
       "    </tr>\n",
       "    <tr>\n",
       "      <th>173683</th>\n",
       "      <td>2</td>\n",
       "      <td>-122.332538</td>\n",
       "      <td>47.662627</td>\n",
       "      <td>194752</td>\n",
       "      <td>264221</td>\n",
       "      <td>265001</td>\n",
       "      <td>3705804</td>\n",
       "      <td>Matched</td>\n",
       "      <td>Intersection</td>\n",
       "      <td>25875.0</td>\n",
       "      <td>BAGLEY AVE N AND N 46TH ST</td>\n",
       "      <td></td>\n",
       "      <td>NaN</td>\n",
       "      <td>2</td>\n",
       "      <td>Injury Collision</td>\n",
       "      <td>NaN</td>\n",
       "      <td>2</td>\n",
       "      <td>0</td>\n",
       "      <td>1</td>\n",
       "      <td>1</td>\n",
       "      <td>2018/01/05 00:00:00+00</td>\n",
       "      <td>1/5/2018 2:50:00 PM</td>\n",
       "      <td>At Intersection (intersection related)</td>\n",
       "      <td>18</td>\n",
       "      <td>MOTOR VEHICLE STRUCK PEDALCYCLIST, FRONT END A...</td>\n",
       "      <td>NaN</td>\n",
       "      <td>N</td>\n",
       "      <td>Raining</td>\n",
       "      <td>Wet</td>\n",
       "      <td>Daylight</td>\n",
       "      <td>NaN</td>\n",
       "      <td>NaN</td>\n",
       "      <td>Y</td>\n",
       "      <td>NaN</td>\n",
       "      <td>NaN</td>\n",
       "      <td>0</td>\n",
       "      <td>0</td>\n",
       "      <td>N</td>\n",
       "    </tr>\n",
       "    <tr>\n",
       "      <th>173904</th>\n",
       "      <td>2</td>\n",
       "      <td>-122.322130</td>\n",
       "      <td>47.615226</td>\n",
       "      <td>195028</td>\n",
       "      <td>272157</td>\n",
       "      <td>272997</td>\n",
       "      <td>3702429</td>\n",
       "      <td>Matched</td>\n",
       "      <td>Intersection</td>\n",
       "      <td>29735.0</td>\n",
       "      <td>HARVARD AVE AND E PINE ST</td>\n",
       "      <td></td>\n",
       "      <td>NaN</td>\n",
       "      <td>2</td>\n",
       "      <td>Injury Collision</td>\n",
       "      <td>NaN</td>\n",
       "      <td>1</td>\n",
       "      <td>0</td>\n",
       "      <td>1</td>\n",
       "      <td>0</td>\n",
       "      <td>2018/02/22 00:00:00+00</td>\n",
       "      <td>2/22/2018 8:25:00 AM</td>\n",
       "      <td>At Intersection (intersection related)</td>\n",
       "      <td>18</td>\n",
       "      <td>MOTOR VEHICLE STRUCK PEDALCYCLIST, FRONT END A...</td>\n",
       "      <td>NaN</td>\n",
       "      <td>N</td>\n",
       "      <td>Clear</td>\n",
       "      <td>Ice</td>\n",
       "      <td>Daylight</td>\n",
       "      <td>NaN</td>\n",
       "      <td>NaN</td>\n",
       "      <td>NaN</td>\n",
       "      <td>NaN</td>\n",
       "      <td>NaN</td>\n",
       "      <td>0</td>\n",
       "      <td>0</td>\n",
       "      <td>N</td>\n",
       "    </tr>\n",
       "    <tr>\n",
       "      <th>174197</th>\n",
       "      <td>2</td>\n",
       "      <td>-122.313460</td>\n",
       "      <td>47.555192</td>\n",
       "      <td>195363</td>\n",
       "      <td>266678</td>\n",
       "      <td>267458</td>\n",
       "      <td>3563140</td>\n",
       "      <td>Matched</td>\n",
       "      <td>Block</td>\n",
       "      <td>NaN</td>\n",
       "      <td>15TH AVE S BETWEEN S DAWSON ST AND S BENNETT ST</td>\n",
       "      <td></td>\n",
       "      <td>NaN</td>\n",
       "      <td>2</td>\n",
       "      <td>Injury Collision</td>\n",
       "      <td>NaN</td>\n",
       "      <td>2</td>\n",
       "      <td>0</td>\n",
       "      <td>1</td>\n",
       "      <td>1</td>\n",
       "      <td>2018/01/14 00:00:00+00</td>\n",
       "      <td>1/14/2018 11:28:00 PM</td>\n",
       "      <td>Mid-Block (not related to intersection)</td>\n",
       "      <td>14</td>\n",
       "      <td>MOTOR VEHICLE STRUCK MOTOR VEHICLE, REAR END</td>\n",
       "      <td>Y</td>\n",
       "      <td>N</td>\n",
       "      <td>Clear</td>\n",
       "      <td>Dry</td>\n",
       "      <td>Dark - Street Lights On</td>\n",
       "      <td>NaN</td>\n",
       "      <td>NaN</td>\n",
       "      <td>NaN</td>\n",
       "      <td>NaN</td>\n",
       "      <td>NaN</td>\n",
       "      <td>0</td>\n",
       "      <td>0</td>\n",
       "      <td>N</td>\n",
       "    </tr>\n",
       "    <tr>\n",
       "      <th>174365</th>\n",
       "      <td>1</td>\n",
       "      <td>-122.334215</td>\n",
       "      <td>47.554166</td>\n",
       "      <td>195566</td>\n",
       "      <td>274937</td>\n",
       "      <td>275777</td>\n",
       "      <td>E774902</td>\n",
       "      <td>Matched</td>\n",
       "      <td>Intersection</td>\n",
       "      <td>33029.0</td>\n",
       "      <td>1ST AVE S AND S BRANDON ST</td>\n",
       "      <td></td>\n",
       "      <td>NaN</td>\n",
       "      <td>1</td>\n",
       "      <td>Property Damage Only Collision</td>\n",
       "      <td>NaN</td>\n",
       "      <td>2</td>\n",
       "      <td>0</td>\n",
       "      <td>1</td>\n",
       "      <td>1</td>\n",
       "      <td>2018/02/08 00:00:00+00</td>\n",
       "      <td>2/8/2018 6:40:00 PM</td>\n",
       "      <td>At Intersection (intersection related)</td>\n",
       "      <td>18</td>\n",
       "      <td>MOTOR VEHICLE STRUCK PEDALCYCLIST, FRONT END A...</td>\n",
       "      <td>NaN</td>\n",
       "      <td>N</td>\n",
       "      <td>Raining</td>\n",
       "      <td>Wet</td>\n",
       "      <td>Dark - No Street Lights</td>\n",
       "      <td>NaN</td>\n",
       "      <td>NaN</td>\n",
       "      <td>NaN</td>\n",
       "      <td>NaN</td>\n",
       "      <td>NaN</td>\n",
       "      <td>0</td>\n",
       "      <td>0</td>\n",
       "      <td>N</td>\n",
       "    </tr>\n",
       "    <tr>\n",
       "      <th>174554</th>\n",
       "      <td>1</td>\n",
       "      <td>-122.359352</td>\n",
       "      <td>47.571627</td>\n",
       "      <td>195791</td>\n",
       "      <td>272161</td>\n",
       "      <td>273001</td>\n",
       "      <td>3742262</td>\n",
       "      <td>Matched</td>\n",
       "      <td>Intersection</td>\n",
       "      <td>32035.0</td>\n",
       "      <td>WEST MARGINAL TURN RD AND SW SPOKANE ST</td>\n",
       "      <td>NEI</td>\n",
       "      <td>Not Enough Information, or Insufficient Locati...</td>\n",
       "      <td>1</td>\n",
       "      <td>Property Damage Only Collision</td>\n",
       "      <td>NaN</td>\n",
       "      <td>2</td>\n",
       "      <td>0</td>\n",
       "      <td>0</td>\n",
       "      <td>2</td>\n",
       "      <td>2018/02/06 00:00:00+00</td>\n",
       "      <td>2/6/2018 9:56:00 AM</td>\n",
       "      <td>At Intersection (intersection related)</td>\n",
       "      <td>0</td>\n",
       "      <td>NOT ENOUGH INFORMATION / NOT APPLICABLE</td>\n",
       "      <td>NaN</td>\n",
       "      <td>N</td>\n",
       "      <td>Clear</td>\n",
       "      <td>Unknown</td>\n",
       "      <td>Daylight</td>\n",
       "      <td>NaN</td>\n",
       "      <td>NaN</td>\n",
       "      <td>NaN</td>\n",
       "      <td>NaN</td>\n",
       "      <td>NaN</td>\n",
       "      <td>0</td>\n",
       "      <td>0</td>\n",
       "      <td>N</td>\n",
       "    </tr>\n",
       "    <tr>\n",
       "      <th>174681</th>\n",
       "      <td>1</td>\n",
       "      <td>-122.329057</td>\n",
       "      <td>47.578768</td>\n",
       "      <td>195939</td>\n",
       "      <td>272506</td>\n",
       "      <td>273346</td>\n",
       "      <td>E772020</td>\n",
       "      <td>Matched</td>\n",
       "      <td>Block</td>\n",
       "      <td>NaN</td>\n",
       "      <td>4TH AVE S BETWEEN S LANDER ST AND S FOREST ST</td>\n",
       "      <td></td>\n",
       "      <td>NaN</td>\n",
       "      <td>1</td>\n",
       "      <td>Property Damage Only Collision</td>\n",
       "      <td>NaN</td>\n",
       "      <td>2</td>\n",
       "      <td>0</td>\n",
       "      <td>0</td>\n",
       "      <td>2</td>\n",
       "      <td>2018/02/21 00:00:00+00</td>\n",
       "      <td>2/21/2018 6:45:00 AM</td>\n",
       "      <td>Mid-Block (not related to intersection)</td>\n",
       "      <td>26</td>\n",
       "      <td>MOTOR VEHICLE STRUCK OBJECT IN ROAD</td>\n",
       "      <td>NaN</td>\n",
       "      <td>Y</td>\n",
       "      <td>Clear</td>\n",
       "      <td>Dry</td>\n",
       "      <td>Dawn</td>\n",
       "      <td>NaN</td>\n",
       "      <td>NaN</td>\n",
       "      <td>NaN</td>\n",
       "      <td>NaN</td>\n",
       "      <td>NaN</td>\n",
       "      <td>0</td>\n",
       "      <td>0</td>\n",
       "      <td>N</td>\n",
       "    </tr>\n",
       "    <tr>\n",
       "      <th>174705</th>\n",
       "      <td>2</td>\n",
       "      <td>-122.309512</td>\n",
       "      <td>47.661259</td>\n",
       "      <td>195967</td>\n",
       "      <td>274837</td>\n",
       "      <td>275677</td>\n",
       "      <td>E774216</td>\n",
       "      <td>Matched</td>\n",
       "      <td>Intersection</td>\n",
       "      <td>26092.0</td>\n",
       "      <td>17TH NB AVE NE AND NE 45TH ST</td>\n",
       "      <td></td>\n",
       "      <td>NaN</td>\n",
       "      <td>2</td>\n",
       "      <td>Injury Collision</td>\n",
       "      <td>NaN</td>\n",
       "      <td>2</td>\n",
       "      <td>0</td>\n",
       "      <td>1</td>\n",
       "      <td>1</td>\n",
       "      <td>2018/02/27 00:00:00+00</td>\n",
       "      <td>2/27/2018 1:51:00 PM</td>\n",
       "      <td>At Intersection (intersection related)</td>\n",
       "      <td>51</td>\n",
       "      <td>PEDALCYCLIST STRUCK MOTOR VEHICLE FRONT END AT...</td>\n",
       "      <td>NaN</td>\n",
       "      <td>N</td>\n",
       "      <td>Clear</td>\n",
       "      <td>Dry</td>\n",
       "      <td>Daylight</td>\n",
       "      <td>NaN</td>\n",
       "      <td>NaN</td>\n",
       "      <td>NaN</td>\n",
       "      <td>NaN</td>\n",
       "      <td>NaN</td>\n",
       "      <td>0</td>\n",
       "      <td>0</td>\n",
       "      <td>N</td>\n",
       "    </tr>\n",
       "    <tr>\n",
       "      <th>175072</th>\n",
       "      <td>2</td>\n",
       "      <td>-122.343637</td>\n",
       "      <td>47.610321</td>\n",
       "      <td>196401</td>\n",
       "      <td>274646</td>\n",
       "      <td>275506</td>\n",
       "      <td>E774522</td>\n",
       "      <td>Matched</td>\n",
       "      <td>Intersection</td>\n",
       "      <td>29583.0</td>\n",
       "      <td>VIRGINIA ST AND WESTERN AVE</td>\n",
       "      <td></td>\n",
       "      <td>NaN</td>\n",
       "      <td>2</td>\n",
       "      <td>Injury Collision</td>\n",
       "      <td>NaN</td>\n",
       "      <td>3</td>\n",
       "      <td>0</td>\n",
       "      <td>1</td>\n",
       "      <td>1</td>\n",
       "      <td>2018/02/28 00:00:00+00</td>\n",
       "      <td>2/28/2018 10:25:00 AM</td>\n",
       "      <td>At Intersection (intersection related)</td>\n",
       "      <td>14</td>\n",
       "      <td>MOTOR VEHICLE STRUCK MOTOR VEHICLE, REAR END</td>\n",
       "      <td>NaN</td>\n",
       "      <td>N</td>\n",
       "      <td>Raining</td>\n",
       "      <td>Wet</td>\n",
       "      <td>Daylight</td>\n",
       "      <td>NaN</td>\n",
       "      <td>NaN</td>\n",
       "      <td>NaN</td>\n",
       "      <td>NaN</td>\n",
       "      <td>NaN</td>\n",
       "      <td>0</td>\n",
       "      <td>0</td>\n",
       "      <td>N</td>\n",
       "    </tr>\n",
       "    <tr>\n",
       "      <th>175078</th>\n",
       "      <td>1</td>\n",
       "      <td>-122.334214</td>\n",
       "      <td>47.556539</td>\n",
       "      <td>196407</td>\n",
       "      <td>282660</td>\n",
       "      <td>283520</td>\n",
       "      <td>E777521</td>\n",
       "      <td>Matched</td>\n",
       "      <td>Block</td>\n",
       "      <td>NaN</td>\n",
       "      <td>1ST AVE S BETWEEN S HUDSON ST AND S DAWSON ST</td>\n",
       "      <td></td>\n",
       "      <td>NaN</td>\n",
       "      <td>1</td>\n",
       "      <td>Property Damage Only Collision</td>\n",
       "      <td>NaN</td>\n",
       "      <td>2</td>\n",
       "      <td>0</td>\n",
       "      <td>1</td>\n",
       "      <td>1</td>\n",
       "      <td>2018/01/04 00:00:00+00</td>\n",
       "      <td>1/4/2018 4:13:00 PM</td>\n",
       "      <td>Mid-Block (not related to intersection)</td>\n",
       "      <td>11</td>\n",
       "      <td>MOTOR VEHICLE STRUCK MOTOR VEHICLE, FRONT END ...</td>\n",
       "      <td>NaN</td>\n",
       "      <td>N</td>\n",
       "      <td>Overcast</td>\n",
       "      <td>Wet</td>\n",
       "      <td>Dusk</td>\n",
       "      <td>NaN</td>\n",
       "      <td>NaN</td>\n",
       "      <td>NaN</td>\n",
       "      <td>NaN</td>\n",
       "      <td>NaN</td>\n",
       "      <td>0</td>\n",
       "      <td>0</td>\n",
       "      <td>N</td>\n",
       "    </tr>\n",
       "    <tr>\n",
       "      <th>175152</th>\n",
       "      <td>2</td>\n",
       "      <td>-122.351303</td>\n",
       "      <td>47.649823</td>\n",
       "      <td>196495</td>\n",
       "      <td>264464</td>\n",
       "      <td>265244</td>\n",
       "      <td>E756193</td>\n",
       "      <td>Matched</td>\n",
       "      <td>Intersection</td>\n",
       "      <td>27038.0</td>\n",
       "      <td>EVANSTON AVE N AND N 34TH ST</td>\n",
       "      <td></td>\n",
       "      <td>NaN</td>\n",
       "      <td>2</td>\n",
       "      <td>Injury Collision</td>\n",
       "      <td>NaN</td>\n",
       "      <td>2</td>\n",
       "      <td>0</td>\n",
       "      <td>1</td>\n",
       "      <td>1</td>\n",
       "      <td>2018/01/05 00:00:00+00</td>\n",
       "      <td>1/5/2018 5:23:00 PM</td>\n",
       "      <td>At Intersection (intersection related)</td>\n",
       "      <td>11</td>\n",
       "      <td>MOTOR VEHICLE STRUCK MOTOR VEHICLE, FRONT END ...</td>\n",
       "      <td>NaN</td>\n",
       "      <td>N</td>\n",
       "      <td>Raining</td>\n",
       "      <td>Wet</td>\n",
       "      <td>Dark - Street Lights On</td>\n",
       "      <td>NaN</td>\n",
       "      <td>NaN</td>\n",
       "      <td>NaN</td>\n",
       "      <td>NaN</td>\n",
       "      <td>NaN</td>\n",
       "      <td>0</td>\n",
       "      <td>0</td>\n",
       "      <td>N</td>\n",
       "    </tr>\n",
       "    <tr>\n",
       "      <th>175774</th>\n",
       "      <td>2</td>\n",
       "      <td>-122.319741</td>\n",
       "      <td>47.615243</td>\n",
       "      <td>197223</td>\n",
       "      <td>272717</td>\n",
       "      <td>273557</td>\n",
       "      <td>E772296</td>\n",
       "      <td>Matched</td>\n",
       "      <td>Block</td>\n",
       "      <td>NaN</td>\n",
       "      <td>E PINE ST BETWEEN NAGLE PL AND 10TH AVE</td>\n",
       "      <td></td>\n",
       "      <td>NaN</td>\n",
       "      <td>2</td>\n",
       "      <td>Injury Collision</td>\n",
       "      <td>NaN</td>\n",
       "      <td>2</td>\n",
       "      <td>0</td>\n",
       "      <td>1</td>\n",
       "      <td>1</td>\n",
       "      <td>2018/02/23 00:00:00+00</td>\n",
       "      <td>2/23/2018 2:43:00 PM</td>\n",
       "      <td>Mid-Block (not related to intersection)</td>\n",
       "      <td>51</td>\n",
       "      <td>PEDALCYCLIST STRUCK MOTOR VEHICLE FRONT END AT...</td>\n",
       "      <td>NaN</td>\n",
       "      <td>N</td>\n",
       "      <td>Overcast</td>\n",
       "      <td>Dry</td>\n",
       "      <td>Daylight</td>\n",
       "      <td>NaN</td>\n",
       "      <td>NaN</td>\n",
       "      <td>NaN</td>\n",
       "      <td>NaN</td>\n",
       "      <td>NaN</td>\n",
       "      <td>0</td>\n",
       "      <td>0</td>\n",
       "      <td>N</td>\n",
       "    </tr>\n",
       "    <tr>\n",
       "      <th>176273</th>\n",
       "      <td>2</td>\n",
       "      <td>-122.342382</td>\n",
       "      <td>47.620888</td>\n",
       "      <td>197797</td>\n",
       "      <td>273497</td>\n",
       "      <td>274317</td>\n",
       "      <td>3753799</td>\n",
       "      <td>Matched</td>\n",
       "      <td>Intersection</td>\n",
       "      <td>28788.0</td>\n",
       "      <td>DEXTER AVE N AND THOMAS ST</td>\n",
       "      <td></td>\n",
       "      <td>NaN</td>\n",
       "      <td>2</td>\n",
       "      <td>Injury Collision</td>\n",
       "      <td>NaN</td>\n",
       "      <td>2</td>\n",
       "      <td>0</td>\n",
       "      <td>1</td>\n",
       "      <td>1</td>\n",
       "      <td>2018/02/28 00:00:00+00</td>\n",
       "      <td>2/28/2018 7:08:00 PM</td>\n",
       "      <td>At Intersection (intersection related)</td>\n",
       "      <td>18</td>\n",
       "      <td>MOTOR VEHICLE STRUCK PEDALCYCLIST, FRONT END A...</td>\n",
       "      <td>NaN</td>\n",
       "      <td>N</td>\n",
       "      <td>Raining</td>\n",
       "      <td>Wet</td>\n",
       "      <td>Dark - Street Lights On</td>\n",
       "      <td>Y</td>\n",
       "      <td>NaN</td>\n",
       "      <td>NaN</td>\n",
       "      <td>NaN</td>\n",
       "      <td>NaN</td>\n",
       "      <td>42777</td>\n",
       "      <td>0</td>\n",
       "      <td>N</td>\n",
       "    </tr>\n",
       "  </tbody>\n",
       "</table>\n",
       "</div>"
      ],
      "text/plain": [
       "        SEVERITYCODE           X          Y  OBJECTID  INCKEY  COLDETKEY  \\\n",
       "172392             2 -122.342372  47.622056    192928  265998     266798   \n",
       "172836             2 -122.354678  47.677668    193514  265357     266157   \n",
       "172973             2 -122.358251  47.639596    193728  265181     265961   \n",
       "173295             2 -122.313262  47.656215    194181  267682     268462   \n",
       "173402             1 -122.335976  47.607763    194341  267923     268703   \n",
       "173476             2 -122.334215  47.555663    194450  265138     265918   \n",
       "173683             2 -122.332538  47.662627    194752  264221     265001   \n",
       "173904             2 -122.322130  47.615226    195028  272157     272997   \n",
       "174197             2 -122.313460  47.555192    195363  266678     267458   \n",
       "174365             1 -122.334215  47.554166    195566  274937     275777   \n",
       "174554             1 -122.359352  47.571627    195791  272161     273001   \n",
       "174681             1 -122.329057  47.578768    195939  272506     273346   \n",
       "174705             2 -122.309512  47.661259    195967  274837     275677   \n",
       "175072             2 -122.343637  47.610321    196401  274646     275506   \n",
       "175078             1 -122.334214  47.556539    196407  282660     283520   \n",
       "175152             2 -122.351303  47.649823    196495  264464     265244   \n",
       "175774             2 -122.319741  47.615243    197223  272717     273557   \n",
       "176273             2 -122.342382  47.620888    197797  273497     274317   \n",
       "\n",
       "       REPORTNO   STATUS      ADDRTYPE   INTKEY  \\\n",
       "172392  3753785  Matched  Intersection  28783.0   \n",
       "172836  3705689  Matched  Intersection  24351.0   \n",
       "172973  E757814  Matched  Intersection  27815.0   \n",
       "173295  3769416  Matched  Intersection  27143.0   \n",
       "173402  3811927  Matched  Intersection  29601.0   \n",
       "173476  E757849  Matched  Intersection  33026.0   \n",
       "173683  3705804  Matched  Intersection  25875.0   \n",
       "173904  3702429  Matched  Intersection  29735.0   \n",
       "174197  3563140  Matched         Block      NaN   \n",
       "174365  E774902  Matched  Intersection  33029.0   \n",
       "174554  3742262  Matched  Intersection  32035.0   \n",
       "174681  E772020  Matched         Block      NaN   \n",
       "174705  E774216  Matched  Intersection  26092.0   \n",
       "175072  E774522  Matched  Intersection  29583.0   \n",
       "175078  E777521  Matched         Block      NaN   \n",
       "175152  E756193  Matched  Intersection  27038.0   \n",
       "175774  E772296  Matched         Block      NaN   \n",
       "176273  3753799  Matched  Intersection  28788.0   \n",
       "\n",
       "                                               LOCATION EXCEPTRSNCODE  \\\n",
       "172392                     DEXTER AVE N AND HARRISON ST                 \n",
       "172836                    PHINNEY AVE N AND N 67TH S ST                 \n",
       "172973                        1ST AVE W AND W MCGRAW ST                 \n",
       "173295            UNIVERSITY WAY NE AND NE CAMPUS WB PY                 \n",
       "173402                        3RD AVE AND UNIVERSITY ST                 \n",
       "173476                        1ST AVE S AND S DAWSON ST                 \n",
       "173683                       BAGLEY AVE N AND N 46TH ST                 \n",
       "173904                        HARVARD AVE AND E PINE ST                 \n",
       "174197  15TH AVE S BETWEEN S DAWSON ST AND S BENNETT ST                 \n",
       "174365                       1ST AVE S AND S BRANDON ST                 \n",
       "174554          WEST MARGINAL TURN RD AND SW SPOKANE ST           NEI   \n",
       "174681    4TH AVE S BETWEEN S LANDER ST AND S FOREST ST                 \n",
       "174705                    17TH NB AVE NE AND NE 45TH ST                 \n",
       "175072                      VIRGINIA ST AND WESTERN AVE                 \n",
       "175078    1ST AVE S BETWEEN S HUDSON ST AND S DAWSON ST                 \n",
       "175152                     EVANSTON AVE N AND N 34TH ST                 \n",
       "175774          E PINE ST BETWEEN NAGLE PL AND 10TH AVE                 \n",
       "176273                       DEXTER AVE N AND THOMAS ST                 \n",
       "\n",
       "                                            EXCEPTRSNDESC  SEVERITYCODE.1  \\\n",
       "172392                                                NaN               2   \n",
       "172836                                                NaN               2   \n",
       "172973                                                NaN               2   \n",
       "173295                                                NaN               2   \n",
       "173402                                                NaN               1   \n",
       "173476                                                NaN               2   \n",
       "173683                                                NaN               2   \n",
       "173904                                                NaN               2   \n",
       "174197                                                NaN               2   \n",
       "174365                                                NaN               1   \n",
       "174554  Not Enough Information, or Insufficient Locati...               1   \n",
       "174681                                                NaN               1   \n",
       "174705                                                NaN               2   \n",
       "175072                                                NaN               2   \n",
       "175078                                                NaN               1   \n",
       "175152                                                NaN               2   \n",
       "175774                                                NaN               2   \n",
       "176273                                                NaN               2   \n",
       "\n",
       "                          SEVERITYDESC COLLISIONTYPE  PERSONCOUNT  PEDCOUNT  \\\n",
       "172392                Injury Collision           NaN            2         0   \n",
       "172836                Injury Collision           NaN            2         0   \n",
       "172973                Injury Collision           NaN            3         0   \n",
       "173295                Injury Collision           NaN            3         0   \n",
       "173402  Property Damage Only Collision           NaN            3         0   \n",
       "173476                Injury Collision           NaN            2         0   \n",
       "173683                Injury Collision           NaN            2         0   \n",
       "173904                Injury Collision           NaN            1         0   \n",
       "174197                Injury Collision           NaN            2         0   \n",
       "174365  Property Damage Only Collision           NaN            2         0   \n",
       "174554  Property Damage Only Collision           NaN            2         0   \n",
       "174681  Property Damage Only Collision           NaN            2         0   \n",
       "174705                Injury Collision           NaN            2         0   \n",
       "175072                Injury Collision           NaN            3         0   \n",
       "175078  Property Damage Only Collision           NaN            2         0   \n",
       "175152                Injury Collision           NaN            2         0   \n",
       "175774                Injury Collision           NaN            2         0   \n",
       "176273                Injury Collision           NaN            2         0   \n",
       "\n",
       "        PEDCYLCOUNT  VEHCOUNT                 INCDATE                INCDTTM  \\\n",
       "172392            1         1  2018/01/17 00:00:00+00   1/17/2018 8:50:00 AM   \n",
       "172836            1         1  2018/01/09 00:00:00+00   1/9/2018 10:13:00 AM   \n",
       "172973            1         1  2018/01/08 00:00:00+00    1/8/2018 1:43:00 PM   \n",
       "173295            1         1  2018/01/25 00:00:00+00   1/25/2018 8:23:00 AM   \n",
       "173402            1         1  2018/01/27 00:00:00+00   1/27/2018 3:20:00 PM   \n",
       "173476            1         1  2018/01/09 00:00:00+00   1/9/2018 12:59:00 PM   \n",
       "173683            1         1  2018/01/05 00:00:00+00    1/5/2018 2:50:00 PM   \n",
       "173904            1         0  2018/02/22 00:00:00+00   2/22/2018 8:25:00 AM   \n",
       "174197            1         1  2018/01/14 00:00:00+00  1/14/2018 11:28:00 PM   \n",
       "174365            1         1  2018/02/08 00:00:00+00    2/8/2018 6:40:00 PM   \n",
       "174554            0         2  2018/02/06 00:00:00+00    2/6/2018 9:56:00 AM   \n",
       "174681            0         2  2018/02/21 00:00:00+00   2/21/2018 6:45:00 AM   \n",
       "174705            1         1  2018/02/27 00:00:00+00   2/27/2018 1:51:00 PM   \n",
       "175072            1         1  2018/02/28 00:00:00+00  2/28/2018 10:25:00 AM   \n",
       "175078            1         1  2018/01/04 00:00:00+00    1/4/2018 4:13:00 PM   \n",
       "175152            1         1  2018/01/05 00:00:00+00    1/5/2018 5:23:00 PM   \n",
       "175774            1         1  2018/02/23 00:00:00+00   2/23/2018 2:43:00 PM   \n",
       "176273            1         1  2018/02/28 00:00:00+00   2/28/2018 7:08:00 PM   \n",
       "\n",
       "                                   JUNCTIONTYPE  SDOT_COLCODE  \\\n",
       "172392   At Intersection (intersection related)            18   \n",
       "172836   At Intersection (intersection related)            18   \n",
       "172973   At Intersection (intersection related)            18   \n",
       "173295   At Intersection (intersection related)            18   \n",
       "173402   At Intersection (intersection related)            51   \n",
       "173476   At Intersection (intersection related)            51   \n",
       "173683   At Intersection (intersection related)            18   \n",
       "173904   At Intersection (intersection related)            18   \n",
       "174197  Mid-Block (not related to intersection)            14   \n",
       "174365   At Intersection (intersection related)            18   \n",
       "174554   At Intersection (intersection related)             0   \n",
       "174681  Mid-Block (not related to intersection)            26   \n",
       "174705   At Intersection (intersection related)            51   \n",
       "175072   At Intersection (intersection related)            14   \n",
       "175078  Mid-Block (not related to intersection)            11   \n",
       "175152   At Intersection (intersection related)            11   \n",
       "175774  Mid-Block (not related to intersection)            51   \n",
       "176273   At Intersection (intersection related)            18   \n",
       "\n",
       "                                             SDOT_COLDESC INATTENTIONIND  \\\n",
       "172392  MOTOR VEHICLE STRUCK PEDALCYCLIST, FRONT END A...            NaN   \n",
       "172836  MOTOR VEHICLE STRUCK PEDALCYCLIST, FRONT END A...            NaN   \n",
       "172973  MOTOR VEHICLE STRUCK PEDALCYCLIST, FRONT END A...            NaN   \n",
       "173295  MOTOR VEHICLE STRUCK PEDALCYCLIST, FRONT END A...            NaN   \n",
       "173402  PEDALCYCLIST STRUCK MOTOR VEHICLE FRONT END AT...            NaN   \n",
       "173476  PEDALCYCLIST STRUCK MOTOR VEHICLE FRONT END AT...            NaN   \n",
       "173683  MOTOR VEHICLE STRUCK PEDALCYCLIST, FRONT END A...            NaN   \n",
       "173904  MOTOR VEHICLE STRUCK PEDALCYCLIST, FRONT END A...            NaN   \n",
       "174197       MOTOR VEHICLE STRUCK MOTOR VEHICLE, REAR END              Y   \n",
       "174365  MOTOR VEHICLE STRUCK PEDALCYCLIST, FRONT END A...            NaN   \n",
       "174554            NOT ENOUGH INFORMATION / NOT APPLICABLE            NaN   \n",
       "174681                MOTOR VEHICLE STRUCK OBJECT IN ROAD            NaN   \n",
       "174705  PEDALCYCLIST STRUCK MOTOR VEHICLE FRONT END AT...            NaN   \n",
       "175072       MOTOR VEHICLE STRUCK MOTOR VEHICLE, REAR END            NaN   \n",
       "175078  MOTOR VEHICLE STRUCK MOTOR VEHICLE, FRONT END ...            NaN   \n",
       "175152  MOTOR VEHICLE STRUCK MOTOR VEHICLE, FRONT END ...            NaN   \n",
       "175774  PEDALCYCLIST STRUCK MOTOR VEHICLE FRONT END AT...            NaN   \n",
       "176273  MOTOR VEHICLE STRUCK PEDALCYCLIST, FRONT END A...            NaN   \n",
       "\n",
       "       UNDERINFL   WEATHER ROADCOND                LIGHTCOND PEDROWNOTGRNT  \\\n",
       "172392         N  Overcast      Wet                 Daylight             Y   \n",
       "172836         N   Raining      Wet                 Daylight           NaN   \n",
       "172973         N  Overcast      Wet                 Daylight           NaN   \n",
       "173295         N  Overcast  Unknown                 Daylight             Y   \n",
       "173402         N  Overcast      Dry                 Daylight           NaN   \n",
       "173476         N   Raining      Wet                 Daylight           NaN   \n",
       "173683         N   Raining      Wet                 Daylight           NaN   \n",
       "173904         N     Clear      Ice                 Daylight           NaN   \n",
       "174197         N     Clear      Dry  Dark - Street Lights On           NaN   \n",
       "174365         N   Raining      Wet  Dark - No Street Lights           NaN   \n",
       "174554         N     Clear  Unknown                 Daylight           NaN   \n",
       "174681         Y     Clear      Dry                     Dawn           NaN   \n",
       "174705         N     Clear      Dry                 Daylight           NaN   \n",
       "175072         N   Raining      Wet                 Daylight           NaN   \n",
       "175078         N  Overcast      Wet                     Dusk           NaN   \n",
       "175152         N   Raining      Wet  Dark - Street Lights On           NaN   \n",
       "175774         N  Overcast      Dry                 Daylight           NaN   \n",
       "176273         N   Raining      Wet  Dark - Street Lights On             Y   \n",
       "\n",
       "        SDOTCOLNUM SPEEDING ST_COLCODE ST_COLDESC  SEGLANEKEY  CROSSWALKKEY  \\\n",
       "172392         NaN      NaN        NaN        NaN           0             0   \n",
       "172836         NaN      NaN        NaN        NaN        4288             0   \n",
       "172973         NaN      NaN        NaN        NaN           0             0   \n",
       "173295         NaN      NaN        NaN        NaN           0             0   \n",
       "173402         NaN      NaN        NaN        NaN           0             0   \n",
       "173476         NaN      NaN        NaN        NaN           0             0   \n",
       "173683         NaN        Y        NaN        NaN           0             0   \n",
       "173904         NaN      NaN        NaN        NaN           0             0   \n",
       "174197         NaN      NaN        NaN        NaN           0             0   \n",
       "174365         NaN      NaN        NaN        NaN           0             0   \n",
       "174554         NaN      NaN        NaN        NaN           0             0   \n",
       "174681         NaN      NaN        NaN        NaN           0             0   \n",
       "174705         NaN      NaN        NaN        NaN           0             0   \n",
       "175072         NaN      NaN        NaN        NaN           0             0   \n",
       "175078         NaN      NaN        NaN        NaN           0             0   \n",
       "175152         NaN      NaN        NaN        NaN           0             0   \n",
       "175774         NaN      NaN        NaN        NaN           0             0   \n",
       "176273         NaN      NaN        NaN        NaN       42777             0   \n",
       "\n",
       "       HITPARKEDCAR  \n",
       "172392            N  \n",
       "172836            N  \n",
       "172973            N  \n",
       "173295            N  \n",
       "173402            N  \n",
       "173476            N  \n",
       "173683            N  \n",
       "173904            N  \n",
       "174197            N  \n",
       "174365            N  \n",
       "174554            N  \n",
       "174681            N  \n",
       "174705            N  \n",
       "175072            N  \n",
       "175078            N  \n",
       "175152            N  \n",
       "175774            N  \n",
       "176273            N  "
      ]
     },
     "execution_count": 10,
     "metadata": {},
     "output_type": "execute_result"
    }
   ],
   "source": [
    "dataset[df['ST_COLCODE'].isnull()]"
   ]
  },
  {
   "cell_type": "markdown",
   "metadata": {},
   "source": [
    "We can see that there is no information available for the accident type that we can replace the SDOT_COLCODE with so we will use the mode to replace the missing values with the most common value"
   ]
  },
  {
   "cell_type": "code",
   "execution_count": 11,
   "metadata": {},
   "outputs": [],
   "source": [
    "st = df['ST_COLCODE']\n",
    "st_mode = st.mode()\n",
    "st_mode=st_mode.values[0]\n",
    "df['ST_COLCODE'] = df['ST_COLCODE'].replace(np.nan, st_mode)"
   ]
  },
  {
   "cell_type": "markdown",
   "metadata": {},
   "source": [
    "Lets look at the missing data again"
   ]
  },
  {
   "cell_type": "code",
   "execution_count": 12,
   "metadata": {
    "scrolled": false
   },
   "outputs": [
    {
     "name": "stdout",
     "output_type": "stream",
     "text": [
      "SEVERITYCODE\n",
      "False    194673\n",
      "Name: SEVERITYCODE, dtype: int64\n",
      "\n",
      "X\n",
      "False    189339\n",
      "True       5334\n",
      "Name: X, dtype: int64\n",
      "\n",
      "Y\n",
      "False    189339\n",
      "True       5334\n",
      "Name: Y, dtype: int64\n",
      "\n",
      "STATUS\n",
      "False    194673\n",
      "Name: STATUS, dtype: int64\n",
      "\n",
      "ADDRTYPE\n",
      "False    192747\n",
      "True       1926\n",
      "Name: ADDRTYPE, dtype: int64\n",
      "\n",
      "LOCATION\n",
      "False    191996\n",
      "True       2677\n",
      "Name: LOCATION, dtype: int64\n",
      "\n",
      "SEVERITYDESC\n",
      "False    194673\n",
      "Name: SEVERITYDESC, dtype: int64\n",
      "\n",
      "PERSONCOUNT\n",
      "False    194673\n",
      "Name: PERSONCOUNT, dtype: int64\n",
      "\n",
      "PEDCOUNT\n",
      "False    194673\n",
      "Name: PEDCOUNT, dtype: int64\n",
      "\n",
      "PEDCYLCOUNT\n",
      "False    194673\n",
      "Name: PEDCYLCOUNT, dtype: int64\n",
      "\n",
      "VEHCOUNT\n",
      "False    194673\n",
      "Name: VEHCOUNT, dtype: int64\n",
      "\n",
      "INCDTTM\n",
      "False    194673\n",
      "Name: INCDTTM, dtype: int64\n",
      "\n",
      "JUNCTIONTYPE\n",
      "False    188344\n",
      "True       6329\n",
      "Name: JUNCTIONTYPE, dtype: int64\n",
      "\n",
      "SDOT_COLCODE\n",
      "False    194673\n",
      "Name: SDOT_COLCODE, dtype: int64\n",
      "\n",
      "UNDERINFL\n",
      "False    189789\n",
      "True       4884\n",
      "Name: UNDERINFL, dtype: int64\n",
      "\n",
      "WEATHER\n",
      "False    189592\n",
      "True       5081\n",
      "Name: WEATHER, dtype: int64\n",
      "\n",
      "ROADCOND\n",
      "False    189661\n",
      "True       5012\n",
      "Name: ROADCOND, dtype: int64\n",
      "\n",
      "LIGHTCOND\n",
      "False    189503\n",
      "True       5170\n",
      "Name: LIGHTCOND, dtype: int64\n",
      "\n",
      "ST_COLCODE\n",
      "False    194673\n",
      "Name: ST_COLCODE, dtype: int64\n",
      "\n",
      "SEGLANEKEY\n",
      "False    194673\n",
      "Name: SEGLANEKEY, dtype: int64\n",
      "\n",
      "CROSSWALKKEY\n",
      "False    194673\n",
      "Name: CROSSWALKKEY, dtype: int64\n",
      "\n",
      "HITPARKEDCAR\n",
      "False    194673\n",
      "Name: HITPARKEDCAR, dtype: int64\n",
      "\n"
     ]
    }
   ],
   "source": [
    "missing_data = df.isnull()\n",
    "for col in missing_data.columns.values.tolist():\n",
    "    print(col)\n",
    "    print(missing_data[col].value_counts())\n",
    "    print(\"\")"
   ]
  },
  {
   "cell_type": "markdown",
   "metadata": {},
   "source": [
    "Now we will set the mode of all variables which cannot be determined by other variables"
   ]
  },
  {
   "cell_type": "code",
   "execution_count": 13,
   "metadata": {},
   "outputs": [],
   "source": [
    "light = df['LIGHTCOND']\n",
    "light_mode = light.mode()\n",
    "light_mode=light_mode.values[0]\n",
    "df['LIGHTCOND'] = df['LIGHTCOND'].replace(np.nan, light_mode)"
   ]
  },
  {
   "cell_type": "code",
   "execution_count": 14,
   "metadata": {},
   "outputs": [],
   "source": [
    "road = df['ROADCOND']\n",
    "road_mode = road.mode()\n",
    "road_mode=road_mode.values[0]\n",
    "df['ROADCOND'] = df['ROADCOND'].replace(np.nan, road_mode)"
   ]
  },
  {
   "cell_type": "code",
   "execution_count": 15,
   "metadata": {},
   "outputs": [],
   "source": [
    "weather = df['WEATHER']\n",
    "weather_mode = weather.mode()\n",
    "weather_mode=weather_mode.values[0]\n",
    "df['WEATHER'] = df['WEATHER'].replace(np.nan, weather_mode)"
   ]
  },
  {
   "cell_type": "code",
   "execution_count": 16,
   "metadata": {},
   "outputs": [],
   "source": [
    "infl = df['UNDERINFL']\n",
    "infl_mode = infl.mode()\n",
    "infl_mode=infl_mode.values[0]\n",
    "df['UNDERINFL'] = df['UNDERINFL'].replace(np.nan, infl_mode)"
   ]
  },
  {
   "cell_type": "code",
   "execution_count": 17,
   "metadata": {},
   "outputs": [],
   "source": [
    "junc = df['JUNCTIONTYPE']\n",
    "junc_mode = junc.mode()\n",
    "junc_mode=junc_mode.values[0]\n",
    "df['JUNCTIONTYPE'] = df['JUNCTIONTYPE'].replace(np.nan, junc_mode)"
   ]
  },
  {
   "cell_type": "code",
   "execution_count": 18,
   "metadata": {},
   "outputs": [],
   "source": [
    "addr = df['ADDRTYPE']\n",
    "addr_mode = addr.mode()\n",
    "addr_mode=addr_mode.values[0]\n",
    "df['ADDRTYPE'] = df['ADDRTYPE'].replace(np.nan, addr_mode)"
   ]
  },
  {
   "cell_type": "markdown",
   "metadata": {},
   "source": [
    "The X and Y variables seem to have alot more data missing than location. Hopefully we can use location to try and determine the X and Y values for our dataset. We will get a list of all missing X and Y values, then replace X and Y values with X and Y values which have the same location description."
   ]
  },
  {
   "cell_type": "code",
   "execution_count": 19,
   "metadata": {
    "scrolled": true
   },
   "outputs": [],
   "source": [
    "indices = df[df['X'].isnull()].index.tolist()"
   ]
  },
  {
   "cell_type": "code",
   "execution_count": 20,
   "metadata": {},
   "outputs": [],
   "source": [
    "def fixX(indices):\n",
    "    a = df.iloc[indices,:]\n",
    "    count = 0\n",
    "    for i in indices:\n",
    "        loc = a['LOCATION'].iloc[count]\n",
    "        count += 1\n",
    "        if not pd.isnull(loc):\n",
    "            rows = df[df.LOCATION.isin([loc])]\n",
    "            no_na = rows.dropna(subset=['X'])\n",
    "            if not no_na.empty:\n",
    "                to_x = no_na['X'].unique()[0]\n",
    "                to_y = no_na['Y'].unique()[0]\n",
    "                df.at[i,'X']= to_x\n",
    "                df.at[i,'Y']= to_y\n",
    "            "
   ]
  },
  {
   "cell_type": "code",
   "execution_count": 21,
   "metadata": {},
   "outputs": [],
   "source": [
    "fixX(indices)"
   ]
  },
  {
   "cell_type": "code",
   "execution_count": 22,
   "metadata": {},
   "outputs": [
    {
     "name": "stdout",
     "output_type": "stream",
     "text": [
      "SEVERITYCODE\n",
      "False    194673\n",
      "Name: SEVERITYCODE, dtype: int64\n",
      "\n",
      "X\n",
      "False    189343\n",
      "True       5330\n",
      "Name: X, dtype: int64\n",
      "\n",
      "Y\n",
      "False    189343\n",
      "True       5330\n",
      "Name: Y, dtype: int64\n",
      "\n",
      "STATUS\n",
      "False    194673\n",
      "Name: STATUS, dtype: int64\n",
      "\n",
      "ADDRTYPE\n",
      "False    194673\n",
      "Name: ADDRTYPE, dtype: int64\n",
      "\n",
      "LOCATION\n",
      "False    191996\n",
      "True       2677\n",
      "Name: LOCATION, dtype: int64\n",
      "\n",
      "SEVERITYDESC\n",
      "False    194673\n",
      "Name: SEVERITYDESC, dtype: int64\n",
      "\n",
      "PERSONCOUNT\n",
      "False    194673\n",
      "Name: PERSONCOUNT, dtype: int64\n",
      "\n",
      "PEDCOUNT\n",
      "False    194673\n",
      "Name: PEDCOUNT, dtype: int64\n",
      "\n",
      "PEDCYLCOUNT\n",
      "False    194673\n",
      "Name: PEDCYLCOUNT, dtype: int64\n",
      "\n",
      "VEHCOUNT\n",
      "False    194673\n",
      "Name: VEHCOUNT, dtype: int64\n",
      "\n",
      "INCDTTM\n",
      "False    194673\n",
      "Name: INCDTTM, dtype: int64\n",
      "\n",
      "JUNCTIONTYPE\n",
      "False    194673\n",
      "Name: JUNCTIONTYPE, dtype: int64\n",
      "\n",
      "SDOT_COLCODE\n",
      "False    194673\n",
      "Name: SDOT_COLCODE, dtype: int64\n",
      "\n",
      "UNDERINFL\n",
      "False    194673\n",
      "Name: UNDERINFL, dtype: int64\n",
      "\n",
      "WEATHER\n",
      "False    194673\n",
      "Name: WEATHER, dtype: int64\n",
      "\n",
      "ROADCOND\n",
      "False    194673\n",
      "Name: ROADCOND, dtype: int64\n",
      "\n",
      "LIGHTCOND\n",
      "False    194673\n",
      "Name: LIGHTCOND, dtype: int64\n",
      "\n",
      "ST_COLCODE\n",
      "False    194673\n",
      "Name: ST_COLCODE, dtype: int64\n",
      "\n",
      "SEGLANEKEY\n",
      "False    194673\n",
      "Name: SEGLANEKEY, dtype: int64\n",
      "\n",
      "CROSSWALKKEY\n",
      "False    194673\n",
      "Name: CROSSWALKKEY, dtype: int64\n",
      "\n",
      "HITPARKEDCAR\n",
      "False    194673\n",
      "Name: HITPARKEDCAR, dtype: int64\n",
      "\n"
     ]
    }
   ],
   "source": [
    "missing_data = df.isnull()\n",
    "for col in missing_data.columns.values.tolist():\n",
    "    print(col)\n",
    "    print(missing_data[col].value_counts())\n",
    "    print(\"\")"
   ]
  },
  {
   "cell_type": "markdown",
   "metadata": {},
   "source": [
    "We dropped the missing values for X and Y by 4. We did not gain much information. Overall, we can generalize the accident location by allowing us to consider the location description instead of X and Y. If a location repeatedly appears in the same vicinity but different longitude and latitude, it can put less weight on areas of high accidents. So we will drop the columns X and Y, then drop rows which are missing location information."
   ]
  },
  {
   "cell_type": "code",
   "execution_count": 23,
   "metadata": {},
   "outputs": [],
   "source": [
    "drop_list = ['X', 'Y']\n",
    "df = df.drop(drop_list, axis=1)"
   ]
  },
  {
   "cell_type": "code",
   "execution_count": 24,
   "metadata": {},
   "outputs": [],
   "source": [
    "df = df.dropna(subset=['LOCATION'])\n",
    "df.reset_index(drop=True, inplace=True)"
   ]
  },
  {
   "cell_type": "code",
   "execution_count": 25,
   "metadata": {},
   "outputs": [
    {
     "name": "stdout",
     "output_type": "stream",
     "text": [
      "SEVERITYCODE\n",
      "False    191996\n",
      "Name: SEVERITYCODE, dtype: int64\n",
      "\n",
      "STATUS\n",
      "False    191996\n",
      "Name: STATUS, dtype: int64\n",
      "\n",
      "ADDRTYPE\n",
      "False    191996\n",
      "Name: ADDRTYPE, dtype: int64\n",
      "\n",
      "LOCATION\n",
      "False    191996\n",
      "Name: LOCATION, dtype: int64\n",
      "\n",
      "SEVERITYDESC\n",
      "False    191996\n",
      "Name: SEVERITYDESC, dtype: int64\n",
      "\n",
      "PERSONCOUNT\n",
      "False    191996\n",
      "Name: PERSONCOUNT, dtype: int64\n",
      "\n",
      "PEDCOUNT\n",
      "False    191996\n",
      "Name: PEDCOUNT, dtype: int64\n",
      "\n",
      "PEDCYLCOUNT\n",
      "False    191996\n",
      "Name: PEDCYLCOUNT, dtype: int64\n",
      "\n",
      "VEHCOUNT\n",
      "False    191996\n",
      "Name: VEHCOUNT, dtype: int64\n",
      "\n",
      "INCDTTM\n",
      "False    191996\n",
      "Name: INCDTTM, dtype: int64\n",
      "\n",
      "JUNCTIONTYPE\n",
      "False    191996\n",
      "Name: JUNCTIONTYPE, dtype: int64\n",
      "\n",
      "SDOT_COLCODE\n",
      "False    191996\n",
      "Name: SDOT_COLCODE, dtype: int64\n",
      "\n",
      "UNDERINFL\n",
      "False    191996\n",
      "Name: UNDERINFL, dtype: int64\n",
      "\n",
      "WEATHER\n",
      "False    191996\n",
      "Name: WEATHER, dtype: int64\n",
      "\n",
      "ROADCOND\n",
      "False    191996\n",
      "Name: ROADCOND, dtype: int64\n",
      "\n",
      "LIGHTCOND\n",
      "False    191996\n",
      "Name: LIGHTCOND, dtype: int64\n",
      "\n",
      "ST_COLCODE\n",
      "False    191996\n",
      "Name: ST_COLCODE, dtype: int64\n",
      "\n",
      "SEGLANEKEY\n",
      "False    191996\n",
      "Name: SEGLANEKEY, dtype: int64\n",
      "\n",
      "CROSSWALKKEY\n",
      "False    191996\n",
      "Name: CROSSWALKKEY, dtype: int64\n",
      "\n",
      "HITPARKEDCAR\n",
      "False    191996\n",
      "Name: HITPARKEDCAR, dtype: int64\n",
      "\n"
     ]
    }
   ],
   "source": [
    "missing_data = df.isnull()\n",
    "for col in missing_data.columns.values.tolist():\n",
    "    print(col)\n",
    "    print(missing_data[col].value_counts())\n",
    "    print(\"\")"
   ]
  },
  {
   "cell_type": "code",
   "execution_count": 26,
   "metadata": {},
   "outputs": [
    {
     "data": {
      "text/plain": [
       "SEVERITYCODE     int64\n",
       "STATUS          object\n",
       "ADDRTYPE        object\n",
       "LOCATION        object\n",
       "SEVERITYDESC    object\n",
       "PERSONCOUNT      int64\n",
       "PEDCOUNT         int64\n",
       "PEDCYLCOUNT      int64\n",
       "VEHCOUNT         int64\n",
       "INCDTTM         object\n",
       "JUNCTIONTYPE    object\n",
       "SDOT_COLCODE     int64\n",
       "UNDERINFL       object\n",
       "WEATHER         object\n",
       "ROADCOND        object\n",
       "LIGHTCOND       object\n",
       "ST_COLCODE      object\n",
       "SEGLANEKEY       int64\n",
       "CROSSWALKKEY     int64\n",
       "HITPARKEDCAR    object\n",
       "dtype: object"
      ]
     },
     "execution_count": 26,
     "metadata": {},
     "output_type": "execute_result"
    }
   ],
   "source": [
    "df.dtypes"
   ]
  },
  {
   "cell_type": "markdown",
   "metadata": {},
   "source": [
    "We are no longer missing any data. We finally have to make sure categorical variables are of type object. We can see that SEVERITYCODE, SDOT_COLCODE, SEGLANEKEY, CROSSWALKKEY are all marked as int64 when they should be object since they are categorical variables. We will convert these variables to objects"
   ]
  },
  {
   "cell_type": "code",
   "execution_count": 27,
   "metadata": {},
   "outputs": [],
   "source": [
    "df[['SEVERITYCODE', 'SDOT_COLCODE', 'SEGLANEKEY', 'CROSSWALKKEY']] = df[['SEVERITYCODE', 'SDOT_COLCODE', 'SEGLANEKEY', 'CROSSWALKKEY']].astype(\"object\")"
   ]
  },
  {
   "cell_type": "markdown",
   "metadata": {},
   "source": [
    "We now double check to make sure the data types are in order"
   ]
  },
  {
   "cell_type": "code",
   "execution_count": 28,
   "metadata": {},
   "outputs": [
    {
     "data": {
      "text/plain": [
       "SEVERITYCODE    object\n",
       "STATUS          object\n",
       "ADDRTYPE        object\n",
       "LOCATION        object\n",
       "SEVERITYDESC    object\n",
       "PERSONCOUNT      int64\n",
       "PEDCOUNT         int64\n",
       "PEDCYLCOUNT      int64\n",
       "VEHCOUNT         int64\n",
       "INCDTTM         object\n",
       "JUNCTIONTYPE    object\n",
       "SDOT_COLCODE    object\n",
       "UNDERINFL       object\n",
       "WEATHER         object\n",
       "ROADCOND        object\n",
       "LIGHTCOND       object\n",
       "ST_COLCODE      object\n",
       "SEGLANEKEY      object\n",
       "CROSSWALKKEY    object\n",
       "HITPARKEDCAR    object\n",
       "dtype: object"
      ]
     },
     "execution_count": 28,
     "metadata": {},
     "output_type": "execute_result"
    }
   ],
   "source": [
    "df.dtypes"
   ]
  },
  {
   "cell_type": "code",
   "execution_count": 29,
   "metadata": {},
   "outputs": [
    {
     "data": {
      "text/plain": [
       "Matched      187222\n",
       "Unmatched      4774\n",
       "Name: STATUS, dtype: int64"
      ]
     },
     "execution_count": 29,
     "metadata": {},
     "output_type": "execute_result"
    }
   ],
   "source": [
    "df['STATUS'].value_counts()"
   ]
  },
  {
   "cell_type": "code",
   "execution_count": 30,
   "metadata": {},
   "outputs": [
    {
     "data": {
      "text/plain": [
       "Block           126926\n",
       "Intersection     65070\n",
       "Name: ADDRTYPE, dtype: int64"
      ]
     },
     "execution_count": 30,
     "metadata": {},
     "output_type": "execute_result"
    }
   ],
   "source": [
    "df['ADDRTYPE'].value_counts()"
   ]
  },
  {
   "cell_type": "code",
   "execution_count": 31,
   "metadata": {},
   "outputs": [
    {
     "data": {
      "text/plain": [
       "BATTERY ST TUNNEL NB BETWEEN ALASKAN WY VI NB AND AURORA AVE N    276\n",
       "BATTERY ST TUNNEL SB BETWEEN AURORA AVE N AND ALASKAN WY VI SB    271\n",
       "N NORTHGATE WAY BETWEEN MERIDIAN AVE N AND CORLISS AVE N          265\n",
       "AURORA AVE N BETWEEN N 117TH PL AND N 125TH ST                    254\n",
       "6TH AVE AND JAMES ST                                              252\n",
       "                                                                 ... \n",
       "36TH AVE NE BETWEEN NE 115TH ST AND NE 120TH ST                     1\n",
       "15TH AVE NW BETWEEN NW BLUE RIDGE DR AND NW 103RD ST                1\n",
       "NORTH PARK AVE N BETWEEN N 107TH ST AND N 109TH ST                  1\n",
       "28TH AVE S BETWEEN BEACON ER AVE S AND BEACON WR AVE S              1\n",
       "S EDMUNDS ST BETWEEN 13TH AVE S AND DEAD END 2                      1\n",
       "Name: LOCATION, Length: 24102, dtype: int64"
      ]
     },
     "execution_count": 31,
     "metadata": {},
     "output_type": "execute_result"
    }
   ],
   "source": [
    "df['LOCATION'].value_counts()"
   ]
  },
  {
   "cell_type": "code",
   "execution_count": 32,
   "metadata": {},
   "outputs": [
    {
     "data": {
      "text/plain": [
       "Property Damage Only Collision    134081\n",
       "Injury Collision                   57915\n",
       "Name: SEVERITYDESC, dtype: int64"
      ]
     },
     "execution_count": 32,
     "metadata": {},
     "output_type": "execute_result"
    }
   ],
   "source": [
    "df['SEVERITYDESC'].value_counts()"
   ]
  },
  {
   "cell_type": "markdown",
   "metadata": {},
   "source": [
    "Since this variable is the description to the severity code, we will drop this variable later when we are dropping the unnecessary variables in these findings."
   ]
  },
  {
   "cell_type": "code",
   "execution_count": 33,
   "metadata": {},
   "outputs": [
    {
     "data": {
      "text/plain": [
       "2     112167\n",
       "3      35408\n",
       "4      14602\n",
       "1      12828\n",
       "5       6562\n",
       "0       5496\n",
       "6       2697\n",
       "7       1126\n",
       "8        532\n",
       "9        214\n",
       "10       128\n",
       "11        56\n",
       "12        33\n",
       "13        21\n",
       "14        18\n",
       "15        11\n",
       "17        11\n",
       "16         8\n",
       "44         6\n",
       "18         6\n",
       "20         6\n",
       "25         6\n",
       "19         5\n",
       "26         4\n",
       "22         4\n",
       "27         3\n",
       "28         3\n",
       "29         3\n",
       "47         3\n",
       "32         3\n",
       "34         3\n",
       "37         3\n",
       "23         2\n",
       "21         2\n",
       "24         2\n",
       "30         2\n",
       "36         2\n",
       "57         1\n",
       "31         1\n",
       "35         1\n",
       "39         1\n",
       "41         1\n",
       "43         1\n",
       "48         1\n",
       "53         1\n",
       "54         1\n",
       "81         1\n",
       "Name: PERSONCOUNT, dtype: int64"
      ]
     },
     "execution_count": 33,
     "metadata": {},
     "output_type": "execute_result"
    }
   ],
   "source": [
    "df['PERSONCOUNT'].value_counts()"
   ]
  },
  {
   "cell_type": "code",
   "execution_count": 34,
   "metadata": {},
   "outputs": [
    {
     "data": {
      "text/plain": [
       "0    185099\n",
       "1      6643\n",
       "2       226\n",
       "3        22\n",
       "4         4\n",
       "6         1\n",
       "5         1\n",
       "Name: PEDCOUNT, dtype: int64"
      ]
     },
     "execution_count": 34,
     "metadata": {},
     "output_type": "execute_result"
    }
   ],
   "source": [
    "df['PEDCOUNT'].value_counts()"
   ]
  },
  {
   "cell_type": "code",
   "execution_count": 35,
   "metadata": {},
   "outputs": [
    {
     "data": {
      "text/plain": [
       "0    186524\n",
       "1      5429\n",
       "2        43\n",
       "Name: PEDCYLCOUNT, dtype: int64"
      ]
     },
     "execution_count": 35,
     "metadata": {},
     "output_type": "execute_result"
    }
   ],
   "source": [
    "df['PEDCYLCOUNT'].value_counts()"
   ]
  },
  {
   "cell_type": "code",
   "execution_count": 36,
   "metadata": {},
   "outputs": [
    {
     "data": {
      "text/plain": [
       "2     145511\n",
       "1      25381\n",
       "3      12960\n",
       "0       4973\n",
       "4       2418\n",
       "5        528\n",
       "6        146\n",
       "7         46\n",
       "8         15\n",
       "9          9\n",
       "11         6\n",
       "10         2\n",
       "12         1\n",
       "Name: VEHCOUNT, dtype: int64"
      ]
     },
     "execution_count": 36,
     "metadata": {},
     "output_type": "execute_result"
    }
   ],
   "source": [
    "df['VEHCOUNT'].value_counts()"
   ]
  },
  {
   "cell_type": "code",
   "execution_count": 37,
   "metadata": {},
   "outputs": [
    {
     "data": {
      "text/plain": [
       "11/2/2006                95\n",
       "10/3/2008                88\n",
       "11/5/2005                83\n",
       "12/4/2004                74\n",
       "6/1/2006                 72\n",
       "                         ..\n",
       "5/24/2011 8:00:00 PM      1\n",
       "6/25/2005 1:54:00 AM      1\n",
       "5/8/2010 3:35:00 PM       1\n",
       "10/15/2007 3:40:00 PM     1\n",
       "8/16/2019 12:01:00 PM     1\n",
       "Name: INCDTTM, Length: 160042, dtype: int64"
      ]
     },
     "execution_count": 37,
     "metadata": {},
     "output_type": "execute_result"
    }
   ],
   "source": [
    "df['INCDTTM'].value_counts()"
   ]
  },
  {
   "cell_type": "markdown",
   "metadata": {},
   "source": [
    "There are different values in the date column. Some include the date, some do not. Since we cannot add time information to the date, we will remove the time from the rows which include the time information so that we only have the date the accident occurred."
   ]
  },
  {
   "cell_type": "code",
   "execution_count": 38,
   "metadata": {},
   "outputs": [],
   "source": [
    "df['INCDTTM'] = pd.to_datetime(df['INCDTTM'])"
   ]
  },
  {
   "cell_type": "code",
   "execution_count": 39,
   "metadata": {},
   "outputs": [],
   "source": [
    "df['INCDTTM'] = df['INCDTTM'].dt.date"
   ]
  },
  {
   "cell_type": "code",
   "execution_count": 40,
   "metadata": {},
   "outputs": [
    {
     "data": {
      "text/plain": [
       "2006-11-02    95\n",
       "2008-10-03    89\n",
       "2005-05-18    84\n",
       "2005-11-05    83\n",
       "2006-01-13    82\n",
       "              ..\n",
       "2020-05-18     2\n",
       "2020-05-20     1\n",
       "2015-12-25     1\n",
       "2020-05-19     1\n",
       "2020-05-17     1\n",
       "Name: INCDTTM, Length: 5985, dtype: int64"
      ]
     },
     "execution_count": 40,
     "metadata": {},
     "output_type": "execute_result"
    }
   ],
   "source": [
    "df['INCDTTM'].value_counts()"
   ]
  },
  {
   "cell_type": "code",
   "execution_count": 41,
   "metadata": {},
   "outputs": [
    {
     "data": {
      "text/plain": [
       "Mid-Block (not related to intersection)              93559\n",
       "At Intersection (intersection related)               62786\n",
       "Mid-Block (but intersection related)                 22775\n",
       "Driveway Junction                                    10611\n",
       "At Intersection (but not related to intersection)     2095\n",
       "Ramp Junction                                          164\n",
       "Unknown                                                  6\n",
       "Name: JUNCTIONTYPE, dtype: int64"
      ]
     },
     "execution_count": 41,
     "metadata": {},
     "output_type": "execute_result"
    }
   ],
   "source": [
    "df['JUNCTIONTYPE'].value_counts()"
   ]
  },
  {
   "cell_type": "markdown",
   "metadata": {},
   "source": [
    "We see that there are 6 unknown values, lets replace these values with the mode, in this case, mid-block"
   ]
  },
  {
   "cell_type": "code",
   "execution_count": 42,
   "metadata": {},
   "outputs": [
    {
     "data": {
      "text/plain": [
       "Mid-Block (not related to intersection)              93565\n",
       "At Intersection (intersection related)               62786\n",
       "Mid-Block (but intersection related)                 22775\n",
       "Driveway Junction                                    10611\n",
       "At Intersection (but not related to intersection)     2095\n",
       "Ramp Junction                                          164\n",
       "Name: JUNCTIONTYPE, dtype: int64"
      ]
     },
     "execution_count": 42,
     "metadata": {},
     "output_type": "execute_result"
    }
   ],
   "source": [
    "junc = df['JUNCTIONTYPE']\n",
    "junc_mode = junc.mode()\n",
    "junc_mode=junc_mode.values[0]\n",
    "df['JUNCTIONTYPE'] = df['JUNCTIONTYPE'].replace('Unknown', junc_mode)\n",
    "df['JUNCTIONTYPE'].value_counts()"
   ]
  },
  {
   "cell_type": "code",
   "execution_count": 43,
   "metadata": {},
   "outputs": [
    {
     "data": {
      "text/plain": [
       "11    85122\n",
       "14    54197\n",
       "16     9917\n",
       "28     8822\n",
       "0      7461\n",
       "24     6501\n",
       "13     5794\n",
       "26     4724\n",
       "18     3101\n",
       "15     1603\n",
       "12     1424\n",
       "51     1312\n",
       "29      478\n",
       "21      181\n",
       "56      180\n",
       "27      166\n",
       "54      139\n",
       "23      124\n",
       "48      106\n",
       "31      103\n",
       "25      102\n",
       "34       92\n",
       "64       75\n",
       "69       69\n",
       "33       53\n",
       "55       50\n",
       "66       23\n",
       "22       16\n",
       "32       12\n",
       "53        9\n",
       "44        8\n",
       "61        7\n",
       "35        6\n",
       "58        5\n",
       "68        4\n",
       "36        4\n",
       "46        3\n",
       "52        2\n",
       "47        1\n",
       "Name: SDOT_COLCODE, dtype: int64"
      ]
     },
     "execution_count": 43,
     "metadata": {},
     "output_type": "execute_result"
    }
   ],
   "source": [
    "df['SDOT_COLCODE'].value_counts()"
   ]
  },
  {
   "cell_type": "code",
   "execution_count": 44,
   "metadata": {},
   "outputs": [
    {
     "data": {
      "text/plain": [
       "N    103631\n",
       "0     79315\n",
       "Y      5083\n",
       "1      3967\n",
       "Name: UNDERINFL, dtype: int64"
      ]
     },
     "execution_count": 44,
     "metadata": {},
     "output_type": "execute_result"
    }
   ],
   "source": [
    "df['UNDERINFL'].value_counts()"
   ]
  },
  {
   "cell_type": "markdown",
   "metadata": {},
   "source": [
    "Here we can see that there are 0 and N values corresponding to the N value, likewise with Y and 1. We will now set all 0 and 1 values to N and Y values respectively."
   ]
  },
  {
   "cell_type": "code",
   "execution_count": 45,
   "metadata": {},
   "outputs": [],
   "source": [
    "df['UNDERINFL'] = df['UNDERINFL'].replace('0', 'N')\n",
    "df['UNDERINFL'] = df['UNDERINFL'].replace('1', 'Y')"
   ]
  },
  {
   "cell_type": "code",
   "execution_count": 46,
   "metadata": {},
   "outputs": [
    {
     "data": {
      "text/plain": [
       "N    182946\n",
       "Y      9050\n",
       "Name: UNDERINFL, dtype: int64"
      ]
     },
     "execution_count": 46,
     "metadata": {},
     "output_type": "execute_result"
    }
   ],
   "source": [
    "df['UNDERINFL'].value_counts()"
   ]
  },
  {
   "cell_type": "code",
   "execution_count": 47,
   "metadata": {},
   "outputs": [
    {
     "data": {
      "text/plain": [
       "Clear                       115157\n",
       "Raining                      32915\n",
       "Overcast                     27486\n",
       "Unknown                      13999\n",
       "Snowing                        900\n",
       "Other                          787\n",
       "Fog/Smog/Smoke                 560\n",
       "Sleet/Hail/Freezing Rain       112\n",
       "Blowing Sand/Dirt               50\n",
       "Severe Crosswind                25\n",
       "Partly Cloudy                    5\n",
       "Name: WEATHER, dtype: int64"
      ]
     },
     "execution_count": 47,
     "metadata": {},
     "output_type": "execute_result"
    }
   ],
   "source": [
    "df['WEATHER'].value_counts()"
   ]
  },
  {
   "cell_type": "code",
   "execution_count": 48,
   "metadata": {},
   "outputs": [],
   "source": [
    "indices = df[df['WEATHER']=='Unknown'].index.tolist()"
   ]
  },
  {
   "cell_type": "code",
   "execution_count": 49,
   "metadata": {},
   "outputs": [],
   "source": [
    "def fixVar(indices, var):\n",
    "    '''\n",
    "    Given an indices of all the missing/incorrect data in a variable, and the name of a variable which needs correcting,\n",
    "    replace the incorrect values with the value from another accident which is not null on the date of the accident.\n",
    "    '''\n",
    "    a = df.iloc[indices,:]\n",
    "    count = 0\n",
    "    for i in indices:\n",
    "        loc = a['INCDTTM'].iloc[count]\n",
    "        count += 1\n",
    "        if not pd.isnull(loc):\n",
    "            rows = df[df.INCDTTM.isin([loc])]\n",
    "            no_na = rows[rows[var] != 'Unknown']\n",
    "            if not no_na.empty:\n",
    "                to_var = no_na[var].mode()[0]\n",
    "                df.at[i,var]= to_var"
   ]
  },
  {
   "cell_type": "code",
   "execution_count": 50,
   "metadata": {},
   "outputs": [],
   "source": [
    "fixVar(indices,'WEATHER')"
   ]
  },
  {
   "cell_type": "code",
   "execution_count": 51,
   "metadata": {},
   "outputs": [
    {
     "data": {
      "text/plain": [
       "Clear                       125212\n",
       "Raining                      35859\n",
       "Overcast                     28372\n",
       "Snowing                       1013\n",
       "Other                          787\n",
       "Fog/Smog/Smoke                 560\n",
       "Sleet/Hail/Freezing Rain       112\n",
       "Blowing Sand/Dirt               50\n",
       "Severe Crosswind                25\n",
       "Partly Cloudy                    5\n",
       "Unknown                          1\n",
       "Name: WEATHER, dtype: int64"
      ]
     },
     "execution_count": 51,
     "metadata": {},
     "output_type": "execute_result"
    }
   ],
   "source": [
    "df['WEATHER'].value_counts()"
   ]
  },
  {
   "cell_type": "markdown",
   "metadata": {},
   "source": [
    "We still have a missing value for Unknown so we will replace it with the mode"
   ]
  },
  {
   "cell_type": "code",
   "execution_count": 52,
   "metadata": {},
   "outputs": [],
   "source": [
    "df['WEATHER'] = df['WEATHER'].replace('Unknown', 'Clear')"
   ]
  },
  {
   "cell_type": "code",
   "execution_count": 53,
   "metadata": {},
   "outputs": [
    {
     "data": {
      "text/plain": [
       "Clear                       125213\n",
       "Raining                      35859\n",
       "Overcast                     28372\n",
       "Snowing                       1013\n",
       "Other                          787\n",
       "Fog/Smog/Smoke                 560\n",
       "Sleet/Hail/Freezing Rain       112\n",
       "Blowing Sand/Dirt               50\n",
       "Severe Crosswind                25\n",
       "Partly Cloudy                    5\n",
       "Name: WEATHER, dtype: int64"
      ]
     },
     "execution_count": 53,
     "metadata": {},
     "output_type": "execute_result"
    }
   ],
   "source": [
    "df['WEATHER'].value_counts()"
   ]
  },
  {
   "cell_type": "code",
   "execution_count": 54,
   "metadata": {},
   "outputs": [
    {
     "data": {
      "text/plain": [
       "Dry               128351\n",
       "Wet                47146\n",
       "Unknown            13946\n",
       "Ice                 1192\n",
       "Snow/Slush           995\n",
       "Other                125\n",
       "Standing Water       111\n",
       "Sand/Mud/Dirt         66\n",
       "Oil                   64\n",
       "Name: ROADCOND, dtype: int64"
      ]
     },
     "execution_count": 54,
     "metadata": {},
     "output_type": "execute_result"
    }
   ],
   "source": [
    "df['ROADCOND'].value_counts()"
   ]
  },
  {
   "cell_type": "markdown",
   "metadata": {},
   "source": [
    "We have 13946 values in road condition as well, we will employ the same technique done on weather to fill in the missing data for road condition"
   ]
  },
  {
   "cell_type": "code",
   "execution_count": 55,
   "metadata": {},
   "outputs": [],
   "source": [
    "indices = df[df['ROADCOND']=='Unknown'].index.tolist()\n",
    "fixVar(indices,'ROADCOND')"
   ]
  },
  {
   "cell_type": "code",
   "execution_count": 56,
   "metadata": {},
   "outputs": [
    {
     "data": {
      "text/plain": [
       "Dry               138599\n",
       "Wet                50718\n",
       "Ice                 1246\n",
       "Snow/Slush          1066\n",
       "Other                125\n",
       "Standing Water       111\n",
       "Sand/Mud/Dirt         66\n",
       "Oil                   64\n",
       "Unknown                1\n",
       "Name: ROADCOND, dtype: int64"
      ]
     },
     "execution_count": 56,
     "metadata": {},
     "output_type": "execute_result"
    }
   ],
   "source": [
    "df['ROADCOND'].value_counts()"
   ]
  },
  {
   "cell_type": "code",
   "execution_count": 57,
   "metadata": {},
   "outputs": [],
   "source": [
    "df['ROADCOND'] = df['ROADCOND'].replace('Unknown', 'Dry')"
   ]
  },
  {
   "cell_type": "code",
   "execution_count": 58,
   "metadata": {},
   "outputs": [
    {
     "data": {
      "text/plain": [
       "Dry               138600\n",
       "Wet                50718\n",
       "Ice                 1246\n",
       "Snow/Slush          1066\n",
       "Other                125\n",
       "Standing Water       111\n",
       "Sand/Mud/Dirt         66\n",
       "Oil                   64\n",
       "Name: ROADCOND, dtype: int64"
      ]
     },
     "execution_count": 58,
     "metadata": {},
     "output_type": "execute_result"
    }
   ],
   "source": [
    "df['ROADCOND'].value_counts()"
   ]
  },
  {
   "cell_type": "code",
   "execution_count": 59,
   "metadata": {},
   "outputs": [
    {
     "data": {
      "text/plain": [
       "Daylight                    120137\n",
       "Dark - Street Lights On      48136\n",
       "Unknown                      12513\n",
       "Dusk                          5837\n",
       "Dawn                          2483\n",
       "Dark - No Street Lights       1477\n",
       "Dark - Street Lights Off      1176\n",
       "Other                          226\n",
       "Dark - Unknown Lighting         11\n",
       "Name: LIGHTCOND, dtype: int64"
      ]
     },
     "execution_count": 59,
     "metadata": {},
     "output_type": "execute_result"
    }
   ],
   "source": [
    "df['LIGHTCOND'].value_counts()"
   ]
  },
  {
   "cell_type": "code",
   "execution_count": 60,
   "metadata": {},
   "outputs": [],
   "source": [
    "indices = df[df['LIGHTCOND']=='Unknown'].index.tolist()\n",
    "fixVar(indices,'LIGHTCOND')"
   ]
  },
  {
   "cell_type": "code",
   "execution_count": 61,
   "metadata": {},
   "outputs": [
    {
     "data": {
      "text/plain": [
       "Daylight                    130502\n",
       "Dark - Street Lights On      50283\n",
       "Dusk                          5837\n",
       "Dawn                          2483\n",
       "Dark - No Street Lights       1477\n",
       "Dark - Street Lights Off      1176\n",
       "Other                          226\n",
       "Dark - Unknown Lighting         11\n",
       "Unknown                          1\n",
       "Name: LIGHTCOND, dtype: int64"
      ]
     },
     "execution_count": 61,
     "metadata": {},
     "output_type": "execute_result"
    }
   ],
   "source": [
    "df['LIGHTCOND'].value_counts()"
   ]
  },
  {
   "cell_type": "code",
   "execution_count": 62,
   "metadata": {},
   "outputs": [],
   "source": [
    "df['LIGHTCOND'] = df['LIGHTCOND'].replace('Unknown', 'Daylight')"
   ]
  },
  {
   "cell_type": "markdown",
   "metadata": {},
   "source": [
    "We also have unknown lighting in the for the dark lighting column. We will replace it with Dark - Street Lights On since it has the most occurrences in dark lighting accidents"
   ]
  },
  {
   "cell_type": "code",
   "execution_count": 63,
   "metadata": {},
   "outputs": [],
   "source": [
    "df['LIGHTCOND'] = df['LIGHTCOND'].replace('Dark - Unknown Lighting', 'Dark - Street Lights On')"
   ]
  },
  {
   "cell_type": "code",
   "execution_count": 64,
   "metadata": {},
   "outputs": [
    {
     "data": {
      "text/plain": [
       "Daylight                    130503\n",
       "Dark - Street Lights On      50294\n",
       "Dusk                          5837\n",
       "Dawn                          2483\n",
       "Dark - No Street Lights       1477\n",
       "Dark - Street Lights Off      1176\n",
       "Other                          226\n",
       "Name: LIGHTCOND, dtype: int64"
      ]
     },
     "execution_count": 64,
     "metadata": {},
     "output_type": "execute_result"
    }
   ],
   "source": [
    "df['LIGHTCOND'].value_counts()"
   ]
  },
  {
   "cell_type": "code",
   "execution_count": 65,
   "metadata": {},
   "outputs": [
    {
     "data": {
      "text/plain": [
       "32    43013\n",
       "10    34551\n",
       "14    25589\n",
       "50    13246\n",
       "11    12671\n",
       "      ...  \n",
       "87        2\n",
       "43        2\n",
       "49        1\n",
       "60        1\n",
       "85        1\n",
       "Name: ST_COLCODE, Length: 63, dtype: int64"
      ]
     },
     "execution_count": 65,
     "metadata": {},
     "output_type": "execute_result"
    }
   ],
   "source": [
    "df['ST_COLCODE'].value_counts()"
   ]
  },
  {
   "cell_type": "code",
   "execution_count": 66,
   "metadata": {},
   "outputs": [
    {
     "data": {
      "text/plain": [
       "0        189230\n",
       "6532         19\n",
       "6078         16\n",
       "12162        15\n",
       "10336        14\n",
       "          ...  \n",
       "29051         1\n",
       "29049         1\n",
       "12962         1\n",
       "12968         1\n",
       "32765         1\n",
       "Name: SEGLANEKEY, Length: 1955, dtype: int64"
      ]
     },
     "execution_count": 66,
     "metadata": {},
     "output_type": "execute_result"
    }
   ],
   "source": [
    "df['SEGLANEKEY'].value_counts()"
   ]
  },
  {
   "cell_type": "code",
   "execution_count": 67,
   "metadata": {},
   "outputs": [
    {
     "data": {
      "text/plain": [
       "0         188185\n",
       "523609        17\n",
       "520838        15\n",
       "525567        13\n",
       "521707        10\n",
       "           ...  \n",
       "523387         1\n",
       "521114         1\n",
       "523386         1\n",
       "521116         1\n",
       "32767          1\n",
       "Name: CROSSWALKKEY, Length: 2198, dtype: int64"
      ]
     },
     "execution_count": 67,
     "metadata": {},
     "output_type": "execute_result"
    }
   ],
   "source": [
    "df['CROSSWALKKEY'].value_counts()"
   ]
  },
  {
   "cell_type": "markdown",
   "metadata": {},
   "source": [
    "Most values in Seglanekey and Crosswalkkey are 0 so we will omit this variable from further analyzation."
   ]
  },
  {
   "cell_type": "code",
   "execution_count": 68,
   "metadata": {},
   "outputs": [],
   "source": [
    "drop_list = ['SEGLANEKEY', 'CROSSWALKKEY', 'SEVERITYDESC']\n",
    "df = df.drop(drop_list, axis=1)"
   ]
  },
  {
   "cell_type": "code",
   "execution_count": 69,
   "metadata": {
    "scrolled": true
   },
   "outputs": [
    {
     "data": {
      "text/plain": [
       "N    184981\n",
       "Y      7015\n",
       "Name: HITPARKEDCAR, dtype: int64"
      ]
     },
     "execution_count": 69,
     "metadata": {},
     "output_type": "execute_result"
    }
   ],
   "source": [
    "df['HITPARKEDCAR'].value_counts()"
   ]
  },
  {
   "cell_type": "markdown",
   "metadata": {},
   "source": [
    "All other variables look ok and are not missing data so we will continue with analysis of data"
   ]
  },
  {
   "cell_type": "markdown",
   "metadata": {},
   "source": [
    "Lets plot the variables to see which variables are different in different severities. We will use side by side boxplots for plotting a categorical variable against a quantitative variable. We will use bar charts for plotting a categorical variable against a categorical variable"
   ]
  },
  {
   "cell_type": "code",
   "execution_count": 70,
   "metadata": {},
   "outputs": [],
   "source": [
    "import matplotlib.pyplot as plt\n",
    "import seaborn as sns\n",
    "\n",
    "%matplotlib inline "
   ]
  },
  {
   "cell_type": "code",
   "execution_count": 71,
   "metadata": {},
   "outputs": [
    {
     "data": {
      "text/plain": [
       "<matplotlib.axes._subplots.AxesSubplot at 0x149eaa48280>"
      ]
     },
     "execution_count": 71,
     "metadata": {},
     "output_type": "execute_result"
    },
    {
     "data": {
      "image/png": "[encoded data removed]",
      "text/plain": [
       "<Figure size 432x288 with 1 Axes>"
      ]
     },
     "metadata": {
      "needs_background": "light"
     },
     "output_type": "display_data"
    }
   ],
   "source": [
    "sns.boxplot(x=\"SEVERITYCODE\", y=\"PERSONCOUNT\", data=df)"
   ]
  },
  {
   "cell_type": "markdown",
   "metadata": {},
   "source": [
    "We can see that person count has higher outliers in cases of severity code 2 so we will include this variable in our model"
   ]
  },
  {
   "cell_type": "code",
   "execution_count": 72,
   "metadata": {},
   "outputs": [
    {
     "data": {
      "text/plain": [
       "<matplotlib.axes._subplots.AxesSubplot at 0x149ea94a5b0>"
      ]
     },
     "execution_count": 72,
     "metadata": {},
     "output_type": "execute_result"
    },
    {
     "data": {
      "image/png": "[encoded data removed]",
      "text/plain": [
       "<Figure size 432x288 with 1 Axes>"
      ]
     },
     "metadata": {
      "needs_background": "light"
     },
     "output_type": "display_data"
    }
   ],
   "source": [
    "sns.boxplot(x=\"SEVERITYCODE\", y=\"PEDCOUNT\", data=df)"
   ]
  },
  {
   "cell_type": "markdown",
   "metadata": {},
   "source": [
    "Again, pedcount has higher outliers in the more severe accident. We will also include this variable in our model"
   ]
  },
  {
   "cell_type": "code",
   "execution_count": 73,
   "metadata": {},
   "outputs": [
    {
     "data": {
      "text/plain": [
       "<matplotlib.axes._subplots.AxesSubplot at 0x149ea9b7b80>"
      ]
     },
     "execution_count": 73,
     "metadata": {},
     "output_type": "execute_result"
    },
    {
     "data": {
      "image/png": "[encoded data removed]",
      "text/plain": [
       "<Figure size 432x288 with 1 Axes>"
      ]
     },
     "metadata": {
      "needs_background": "light"
     },
     "output_type": "display_data"
    }
   ],
   "source": [
    "sns.boxplot(x=\"SEVERITYCODE\", y=\"VEHCOUNT\", data=df)"
   ]
  },
  {
   "cell_type": "markdown",
   "metadata": {},
   "source": [
    "There is much higher variance in vehicle count for the more serious accidents with the boxplot also showing max and min values more spread out than the low severity case. We will include this variable in our model"
   ]
  },
  {
   "cell_type": "code",
   "execution_count": 74,
   "metadata": {},
   "outputs": [
    {
     "data": {
      "text/plain": [
       "<matplotlib.axes._subplots.AxesSubplot at 0x149eaa3f8e0>"
      ]
     },
     "execution_count": 74,
     "metadata": {},
     "output_type": "execute_result"
    },
    {
     "data": {
      "image/png": "[encoded data removed]",
      "text/plain": [
       "<Figure size 432x288 with 1 Axes>"
      ]
     },
     "metadata": {
      "needs_background": "light"
     },
     "output_type": "display_data"
    }
   ],
   "source": [
    "sns.boxplot(x=\"SEVERITYCODE\", y=\"PEDCYLCOUNT\", data=df)"
   ]
  },
  {
   "cell_type": "markdown",
   "metadata": {},
   "source": [
    "The spread of the data is the same but in the more severe severitycode, there are outliers of 2 pedcycle count. We will include this in our model as the additional outlier could be beneficial in labelling an accident as severe if there are 2 pedcyclecount in a collision."
   ]
  },
  {
   "cell_type": "markdown",
   "metadata": {},
   "source": [
    "Now we will compare categorical variables against the categorical value: 'SEVERITYCODE'. We will plot the graph for fraudulent transactions and non fraudulent transactions and display the counts of the top 5 variables to see if there are differences between groups."
   ]
  },
  {
   "cell_type": "code",
   "execution_count": 75,
   "metadata": {},
   "outputs": [
    {
     "data": {
      "text/html": [
       "<div>\n",
       "<style scoped>\n",
       "    .dataframe tbody tr th:only-of-type {\n",
       "        vertical-align: middle;\n",
       "    }\n",
       "\n",
       "    .dataframe tbody tr th {\n",
       "        vertical-align: top;\n",
       "    }\n",
       "\n",
       "    .dataframe thead th {\n",
       "        text-align: right;\n",
       "    }\n",
       "</style>\n",
       "<table border=\"1\" class=\"dataframe\">\n",
       "  <thead>\n",
       "    <tr style=\"text-align: right;\">\n",
       "      <th></th>\n",
       "      <th>STATUS</th>\n",
       "      <th>count</th>\n",
       "    </tr>\n",
       "  </thead>\n",
       "  <tbody>\n",
       "    <tr>\n",
       "      <th>0</th>\n",
       "      <td>Matched</td>\n",
       "      <td>130314</td>\n",
       "    </tr>\n",
       "    <tr>\n",
       "      <th>1</th>\n",
       "      <td>Unmatched</td>\n",
       "      <td>3767</td>\n",
       "    </tr>\n",
       "  </tbody>\n",
       "</table>\n",
       "</div>"
      ],
      "text/plain": [
       "      STATUS   count\n",
       "0    Matched  130314\n",
       "1  Unmatched    3767"
      ]
     },
     "execution_count": 75,
     "metadata": {},
     "output_type": "execute_result"
    }
   ],
   "source": [
    "non_severe = df.loc[df['SEVERITYCODE']==1]\n",
    "status = non_severe[['STATUS']]\n",
    "status = status['STATUS'].value_counts()\n",
    "status = status.to_frame()\n",
    "status.index.name = 'newhead'\n",
    "status.reset_index(inplace=True)\n",
    "\n",
    "status.rename(columns = {'newhead': 'STATUS', 'STATUS': 'count'}, inplace=True)\n",
    "status.head()"
   ]
  },
  {
   "cell_type": "code",
   "execution_count": 76,
   "metadata": {},
   "outputs": [
    {
     "data": {
      "text/plain": [
       "<matplotlib.axes._subplots.AxesSubplot at 0x149eadb49a0>"
      ]
     },
     "execution_count": 76,
     "metadata": {},
     "output_type": "execute_result"
    },
    {
     "data": {
      "image/png": "[encoded data removed]",
      "text/plain": [
       "<Figure size 432x288 with 1 Axes>"
      ]
     },
     "metadata": {
      "needs_background": "light"
     },
     "output_type": "display_data"
    }
   ],
   "source": [
    "sns.barplot(x='STATUS', y='count', data = status)"
   ]
  },
  {
   "cell_type": "code",
   "execution_count": 77,
   "metadata": {},
   "outputs": [
    {
     "data": {
      "text/html": [
       "<div>\n",
       "<style scoped>\n",
       "    .dataframe tbody tr th:only-of-type {\n",
       "        vertical-align: middle;\n",
       "    }\n",
       "\n",
       "    .dataframe tbody tr th {\n",
       "        vertical-align: top;\n",
       "    }\n",
       "\n",
       "    .dataframe thead th {\n",
       "        text-align: right;\n",
       "    }\n",
       "</style>\n",
       "<table border=\"1\" class=\"dataframe\">\n",
       "  <thead>\n",
       "    <tr style=\"text-align: right;\">\n",
       "      <th></th>\n",
       "      <th>STATUS</th>\n",
       "      <th>count</th>\n",
       "    </tr>\n",
       "  </thead>\n",
       "  <tbody>\n",
       "    <tr>\n",
       "      <th>0</th>\n",
       "      <td>Matched</td>\n",
       "      <td>56908</td>\n",
       "    </tr>\n",
       "    <tr>\n",
       "      <th>1</th>\n",
       "      <td>Unmatched</td>\n",
       "      <td>1007</td>\n",
       "    </tr>\n",
       "  </tbody>\n",
       "</table>\n",
       "</div>"
      ],
      "text/plain": [
       "      STATUS  count\n",
       "0    Matched  56908\n",
       "1  Unmatched   1007"
      ]
     },
     "execution_count": 77,
     "metadata": {},
     "output_type": "execute_result"
    }
   ],
   "source": [
    "severe = df.loc[df['SEVERITYCODE']==2]\n",
    "status = severe[['STATUS']]\n",
    "status = status['STATUS'].value_counts()\n",
    "status = status.to_frame()\n",
    "status.index.name = 'newhead'\n",
    "status.reset_index(inplace=True)\n",
    "\n",
    "status.rename(columns = {'newhead': 'STATUS', 'STATUS': 'count'}, inplace=True)\n",
    "status.head()"
   ]
  },
  {
   "cell_type": "code",
   "execution_count": 78,
   "metadata": {},
   "outputs": [
    {
     "data": {
      "text/plain": [
       "<matplotlib.axes._subplots.AxesSubplot at 0x149eab879d0>"
      ]
     },
     "execution_count": 78,
     "metadata": {},
     "output_type": "execute_result"
    },
    {
     "data": {
      "image/png": "[encoded data removed]",
      "text/plain": [
       "<Figure size 432x288 with 1 Axes>"
      ]
     },
     "metadata": {
      "needs_background": "light"
     },
     "output_type": "display_data"
    }
   ],
   "source": [
    "sns.barplot(x='STATUS', y='count', data = status)"
   ]
  },
  {
   "cell_type": "markdown",
   "metadata": {},
   "source": [
    "The graphs look very similar and do not show much variation when going from collisions with property damage to collisions with injury, so this variable will not be included in our model."
   ]
  },
  {
   "cell_type": "code",
   "execution_count": 79,
   "metadata": {},
   "outputs": [
    {
     "data": {
      "text/html": [
       "<div>\n",
       "<style scoped>\n",
       "    .dataframe tbody tr th:only-of-type {\n",
       "        vertical-align: middle;\n",
       "    }\n",
       "\n",
       "    .dataframe tbody tr th {\n",
       "        vertical-align: top;\n",
       "    }\n",
       "\n",
       "    .dataframe thead th {\n",
       "        text-align: right;\n",
       "    }\n",
       "</style>\n",
       "<table border=\"1\" class=\"dataframe\">\n",
       "  <thead>\n",
       "    <tr style=\"text-align: right;\">\n",
       "      <th></th>\n",
       "      <th>ADDRTYPE</th>\n",
       "      <th>count</th>\n",
       "    </tr>\n",
       "  </thead>\n",
       "  <tbody>\n",
       "    <tr>\n",
       "      <th>0</th>\n",
       "      <td>Block</td>\n",
       "      <td>96830</td>\n",
       "    </tr>\n",
       "    <tr>\n",
       "      <th>1</th>\n",
       "      <td>Intersection</td>\n",
       "      <td>37251</td>\n",
       "    </tr>\n",
       "  </tbody>\n",
       "</table>\n",
       "</div>"
      ],
      "text/plain": [
       "       ADDRTYPE  count\n",
       "0         Block  96830\n",
       "1  Intersection  37251"
      ]
     },
     "execution_count": 79,
     "metadata": {},
     "output_type": "execute_result"
    }
   ],
   "source": [
    "addr = non_severe[['ADDRTYPE']]\n",
    "addr = addr['ADDRTYPE'].value_counts()\n",
    "addr = addr.to_frame()\n",
    "addr.index.name = 'newhead'\n",
    "addr.reset_index(inplace=True)\n",
    "\n",
    "addr.rename(columns = {'newhead': 'ADDRTYPE', 'ADDRTYPE': 'count'}, inplace=True)\n",
    "addr.head()"
   ]
  },
  {
   "cell_type": "code",
   "execution_count": 80,
   "metadata": {},
   "outputs": [
    {
     "data": {
      "text/plain": [
       "<matplotlib.axes._subplots.AxesSubplot at 0x149eabe4a00>"
      ]
     },
     "execution_count": 80,
     "metadata": {},
     "output_type": "execute_result"
    },
    {
     "data": {
      "image/png": "[encoded data removed]",
      "text/plain": [
       "<Figure size 432x288 with 1 Axes>"
      ]
     },
     "metadata": {
      "needs_background": "light"
     },
     "output_type": "display_data"
    }
   ],
   "source": [
    "sns.barplot(x='ADDRTYPE', y='count', data = addr)"
   ]
  },
  {
   "cell_type": "code",
   "execution_count": 81,
   "metadata": {},
   "outputs": [
    {
     "data": {
      "text/html": [
       "<div>\n",
       "<style scoped>\n",
       "    .dataframe tbody tr th:only-of-type {\n",
       "        vertical-align: middle;\n",
       "    }\n",
       "\n",
       "    .dataframe tbody tr th {\n",
       "        vertical-align: top;\n",
       "    }\n",
       "\n",
       "    .dataframe thead th {\n",
       "        text-align: right;\n",
       "    }\n",
       "</style>\n",
       "<table border=\"1\" class=\"dataframe\">\n",
       "  <thead>\n",
       "    <tr style=\"text-align: right;\">\n",
       "      <th></th>\n",
       "      <th>ADDRTYPE</th>\n",
       "      <th>count</th>\n",
       "    </tr>\n",
       "  </thead>\n",
       "  <tbody>\n",
       "    <tr>\n",
       "      <th>0</th>\n",
       "      <td>Block</td>\n",
       "      <td>30096</td>\n",
       "    </tr>\n",
       "    <tr>\n",
       "      <th>1</th>\n",
       "      <td>Intersection</td>\n",
       "      <td>27819</td>\n",
       "    </tr>\n",
       "  </tbody>\n",
       "</table>\n",
       "</div>"
      ],
      "text/plain": [
       "       ADDRTYPE  count\n",
       "0         Block  30096\n",
       "1  Intersection  27819"
      ]
     },
     "execution_count": 81,
     "metadata": {},
     "output_type": "execute_result"
    }
   ],
   "source": [
    "addr = severe[['ADDRTYPE']]\n",
    "addr = addr['ADDRTYPE'].value_counts()\n",
    "addr = addr.to_frame()\n",
    "addr.index.name = 'newhead'\n",
    "addr.reset_index(inplace=True)\n",
    "\n",
    "addr.rename(columns = {'newhead': 'ADDRTYPE', 'ADDRTYPE': 'count'}, inplace=True)\n",
    "addr.head()"
   ]
  },
  {
   "cell_type": "code",
   "execution_count": 82,
   "metadata": {},
   "outputs": [
    {
     "data": {
      "text/plain": [
       "<matplotlib.axes._subplots.AxesSubplot at 0x149eac29c40>"
      ]
     },
     "execution_count": 82,
     "metadata": {},
     "output_type": "execute_result"
    },
    {
     "data": {
      "image/png": "[encoded data removed]",
      "text/plain": [
       "<Figure size 432x288 with 1 Axes>"
      ]
     },
     "metadata": {
      "needs_background": "light"
     },
     "output_type": "display_data"
    }
   ],
   "source": [
    "sns.barplot(x='ADDRTYPE', y='count', data = addr)"
   ]
  },
  {
   "cell_type": "markdown",
   "metadata": {},
   "source": [
    "There are alot more accidents which are severe which occur in intersections. In non severe accidents we see a lower bar for intersection. There is a clear difference between both groups so we will include this variable in our model."
   ]
  },
  {
   "cell_type": "code",
   "execution_count": 83,
   "metadata": {},
   "outputs": [
    {
     "data": {
      "text/html": [
       "<div>\n",
       "<style scoped>\n",
       "    .dataframe tbody tr th:only-of-type {\n",
       "        vertical-align: middle;\n",
       "    }\n",
       "\n",
       "    .dataframe tbody tr th {\n",
       "        vertical-align: top;\n",
       "    }\n",
       "\n",
       "    .dataframe thead th {\n",
       "        text-align: right;\n",
       "    }\n",
       "</style>\n",
       "<table border=\"1\" class=\"dataframe\">\n",
       "  <thead>\n",
       "    <tr style=\"text-align: right;\">\n",
       "      <th></th>\n",
       "      <th>LOCATION</th>\n",
       "      <th>count</th>\n",
       "    </tr>\n",
       "  </thead>\n",
       "  <tbody>\n",
       "    <tr>\n",
       "      <th>0</th>\n",
       "      <td>BATTERY ST TUNNEL NB BETWEEN ALASKAN WY VI NB ...</td>\n",
       "      <td>198</td>\n",
       "    </tr>\n",
       "    <tr>\n",
       "      <th>1</th>\n",
       "      <td>BATTERY ST TUNNEL SB BETWEEN AURORA AVE N AND ...</td>\n",
       "      <td>185</td>\n",
       "    </tr>\n",
       "    <tr>\n",
       "      <th>2</th>\n",
       "      <td>ALASKAN WY VI NB BETWEEN S ROYAL BROUGHAM WAY ...</td>\n",
       "      <td>175</td>\n",
       "    </tr>\n",
       "    <tr>\n",
       "      <th>3</th>\n",
       "      <td>N NORTHGATE WAY BETWEEN MERIDIAN AVE N AND COR...</td>\n",
       "      <td>171</td>\n",
       "    </tr>\n",
       "    <tr>\n",
       "      <th>4</th>\n",
       "      <td>AURORA AVE N BETWEEN N 130TH ST AND N 135TH ST</td>\n",
       "      <td>151</td>\n",
       "    </tr>\n",
       "    <tr>\n",
       "      <th>...</th>\n",
       "      <td>...</td>\n",
       "      <td>...</td>\n",
       "    </tr>\n",
       "    <tr>\n",
       "      <th>22590</th>\n",
       "      <td>KEEN WAY N BETWEEN STONE AVE N AND N 76TH ST</td>\n",
       "      <td>1</td>\n",
       "    </tr>\n",
       "    <tr>\n",
       "      <th>22591</th>\n",
       "      <td>40TH AVE S AND S HOLDEN ST</td>\n",
       "      <td>1</td>\n",
       "    </tr>\n",
       "    <tr>\n",
       "      <th>22592</th>\n",
       "      <td>CORLISS AVE N BETWEEN N 41ST ST AND N 42ND ST</td>\n",
       "      <td>1</td>\n",
       "    </tr>\n",
       "    <tr>\n",
       "      <th>22593</th>\n",
       "      <td>43RD AVE S AND S DAKOTA ST</td>\n",
       "      <td>1</td>\n",
       "    </tr>\n",
       "    <tr>\n",
       "      <th>22594</th>\n",
       "      <td>NE 117TH ST BETWEEN 7TH AVE NE AND 8TH AVE NE</td>\n",
       "      <td>1</td>\n",
       "    </tr>\n",
       "  </tbody>\n",
       "</table>\n",
       "<p>22595 rows × 2 columns</p>\n",
       "</div>"
      ],
      "text/plain": [
       "                                                LOCATION  count\n",
       "0      BATTERY ST TUNNEL NB BETWEEN ALASKAN WY VI NB ...    198\n",
       "1      BATTERY ST TUNNEL SB BETWEEN AURORA AVE N AND ...    185\n",
       "2      ALASKAN WY VI NB BETWEEN S ROYAL BROUGHAM WAY ...    175\n",
       "3      N NORTHGATE WAY BETWEEN MERIDIAN AVE N AND COR...    171\n",
       "4         AURORA AVE N BETWEEN N 130TH ST AND N 135TH ST    151\n",
       "...                                                  ...    ...\n",
       "22590       KEEN WAY N BETWEEN STONE AVE N AND N 76TH ST      1\n",
       "22591                         40TH AVE S AND S HOLDEN ST      1\n",
       "22592      CORLISS AVE N BETWEEN N 41ST ST AND N 42ND ST      1\n",
       "22593                         43RD AVE S AND S DAKOTA ST      1\n",
       "22594      NE 117TH ST BETWEEN 7TH AVE NE AND 8TH AVE NE      1\n",
       "\n",
       "[22595 rows x 2 columns]"
      ]
     },
     "execution_count": 83,
     "metadata": {},
     "output_type": "execute_result"
    }
   ],
   "source": [
    "location = non_severe[['LOCATION']]\n",
    "location = location['LOCATION'].value_counts()\n",
    "location = location.to_frame()\n",
    "location.index.name = 'newhead'\n",
    "location.reset_index(inplace=True)\n",
    "\n",
    "location.rename(columns = {'newhead': 'LOCATION', 'LOCATION': 'count'}, inplace=True)\n",
    "location"
   ]
  },
  {
   "cell_type": "code",
   "execution_count": 84,
   "metadata": {},
   "outputs": [
    {
     "data": {
      "text/html": [
       "<div>\n",
       "<style scoped>\n",
       "    .dataframe tbody tr th:only-of-type {\n",
       "        vertical-align: middle;\n",
       "    }\n",
       "\n",
       "    .dataframe tbody tr th {\n",
       "        vertical-align: top;\n",
       "    }\n",
       "\n",
       "    .dataframe thead th {\n",
       "        text-align: right;\n",
       "    }\n",
       "</style>\n",
       "<table border=\"1\" class=\"dataframe\">\n",
       "  <thead>\n",
       "    <tr style=\"text-align: right;\">\n",
       "      <th></th>\n",
       "      <th>LOCATION</th>\n",
       "      <th>count</th>\n",
       "    </tr>\n",
       "  </thead>\n",
       "  <tbody>\n",
       "    <tr>\n",
       "      <th>0</th>\n",
       "      <td>AURORA AVE N BETWEEN N 117TH PL AND N 125TH ST</td>\n",
       "      <td>120</td>\n",
       "    </tr>\n",
       "    <tr>\n",
       "      <th>1</th>\n",
       "      <td>6TH AVE AND JAMES ST</td>\n",
       "      <td>107</td>\n",
       "    </tr>\n",
       "    <tr>\n",
       "      <th>2</th>\n",
       "      <td>N NORTHGATE WAY BETWEEN MERIDIAN AVE N AND COR...</td>\n",
       "      <td>94</td>\n",
       "    </tr>\n",
       "    <tr>\n",
       "      <th>3</th>\n",
       "      <td>RAINIER AVE S BETWEEN S BAYVIEW ST AND S MCCLE...</td>\n",
       "      <td>94</td>\n",
       "    </tr>\n",
       "    <tr>\n",
       "      <th>4</th>\n",
       "      <td>AURORA AVE N BETWEEN N 130TH ST AND N 135TH ST</td>\n",
       "      <td>88</td>\n",
       "    </tr>\n",
       "    <tr>\n",
       "      <th>...</th>\n",
       "      <td>...</td>\n",
       "      <td>...</td>\n",
       "    </tr>\n",
       "    <tr>\n",
       "      <th>12481</th>\n",
       "      <td>DENSMORE AVE N AND N 125TH ST</td>\n",
       "      <td>1</td>\n",
       "    </tr>\n",
       "    <tr>\n",
       "      <th>12482</th>\n",
       "      <td>34TH AVE SW AND SW HENDERSON ST</td>\n",
       "      <td>1</td>\n",
       "    </tr>\n",
       "    <tr>\n",
       "      <th>12483</th>\n",
       "      <td>22ND AVE NW AND NW 57TH ST</td>\n",
       "      <td>1</td>\n",
       "    </tr>\n",
       "    <tr>\n",
       "      <th>12484</th>\n",
       "      <td>BEACON AVE S AND S HORTON ST</td>\n",
       "      <td>1</td>\n",
       "    </tr>\n",
       "    <tr>\n",
       "      <th>12485</th>\n",
       "      <td>LENORA PL N AND N 143RD ST</td>\n",
       "      <td>1</td>\n",
       "    </tr>\n",
       "  </tbody>\n",
       "</table>\n",
       "<p>12486 rows × 2 columns</p>\n",
       "</div>"
      ],
      "text/plain": [
       "                                                LOCATION  count\n",
       "0         AURORA AVE N BETWEEN N 117TH PL AND N 125TH ST    120\n",
       "1                                   6TH AVE AND JAMES ST    107\n",
       "2      N NORTHGATE WAY BETWEEN MERIDIAN AVE N AND COR...     94\n",
       "3      RAINIER AVE S BETWEEN S BAYVIEW ST AND S MCCLE...     94\n",
       "4         AURORA AVE N BETWEEN N 130TH ST AND N 135TH ST     88\n",
       "...                                                  ...    ...\n",
       "12481                      DENSMORE AVE N AND N 125TH ST      1\n",
       "12482                    34TH AVE SW AND SW HENDERSON ST      1\n",
       "12483                         22ND AVE NW AND NW 57TH ST      1\n",
       "12484                       BEACON AVE S AND S HORTON ST      1\n",
       "12485                         LENORA PL N AND N 143RD ST      1\n",
       "\n",
       "[12486 rows x 2 columns]"
      ]
     },
     "execution_count": 84,
     "metadata": {},
     "output_type": "execute_result"
    }
   ],
   "source": [
    "location = severe[['LOCATION']]\n",
    "location = location['LOCATION'].value_counts()\n",
    "location = location.to_frame()\n",
    "location.index.name = 'newhead'\n",
    "location.reset_index(inplace=True)\n",
    "\n",
    "location.rename(columns = {'newhead': 'LOCATION', 'LOCATION': 'count'}, inplace=True)\n",
    "location"
   ]
  },
  {
   "cell_type": "markdown",
   "metadata": {},
   "source": [
    "There is an apparent difference between locations which have had property damage as a result of collisions and locations which have had injuries as a result of collisions. Aurora Ave N between N 117th Pl and N 125th St has the highest number of injury related collisions but is not seen in the top 5 of the collisions which caused property damage. Therefore, we will include this variable in our model."
   ]
  },
  {
   "cell_type": "code",
   "execution_count": 85,
   "metadata": {},
   "outputs": [
    {
     "data": {
      "text/html": [
       "<div>\n",
       "<style scoped>\n",
       "    .dataframe tbody tr th:only-of-type {\n",
       "        vertical-align: middle;\n",
       "    }\n",
       "\n",
       "    .dataframe tbody tr th {\n",
       "        vertical-align: top;\n",
       "    }\n",
       "\n",
       "    .dataframe thead th {\n",
       "        text-align: right;\n",
       "    }\n",
       "</style>\n",
       "<table border=\"1\" class=\"dataframe\">\n",
       "  <thead>\n",
       "    <tr style=\"text-align: right;\">\n",
       "      <th></th>\n",
       "      <th>INCDTTM</th>\n",
       "      <th>count</th>\n",
       "    </tr>\n",
       "  </thead>\n",
       "  <tbody>\n",
       "    <tr>\n",
       "      <th>0</th>\n",
       "      <td>2008-10-03</td>\n",
       "      <td>66</td>\n",
       "    </tr>\n",
       "    <tr>\n",
       "      <th>1</th>\n",
       "      <td>2006-11-02</td>\n",
       "      <td>61</td>\n",
       "    </tr>\n",
       "    <tr>\n",
       "      <th>2</th>\n",
       "      <td>2006-01-13</td>\n",
       "      <td>59</td>\n",
       "    </tr>\n",
       "    <tr>\n",
       "      <th>3</th>\n",
       "      <td>2005-11-05</td>\n",
       "      <td>58</td>\n",
       "    </tr>\n",
       "    <tr>\n",
       "      <th>4</th>\n",
       "      <td>2005-05-18</td>\n",
       "      <td>56</td>\n",
       "    </tr>\n",
       "    <tr>\n",
       "      <th>...</th>\n",
       "      <td>...</td>\n",
       "      <td>...</td>\n",
       "    </tr>\n",
       "    <tr>\n",
       "      <th>5977</th>\n",
       "      <td>2020-04-19</td>\n",
       "      <td>1</td>\n",
       "    </tr>\n",
       "    <tr>\n",
       "      <th>5978</th>\n",
       "      <td>2020-04-07</td>\n",
       "      <td>1</td>\n",
       "    </tr>\n",
       "    <tr>\n",
       "      <th>5979</th>\n",
       "      <td>2020-04-05</td>\n",
       "      <td>1</td>\n",
       "    </tr>\n",
       "    <tr>\n",
       "      <th>5980</th>\n",
       "      <td>2020-05-18</td>\n",
       "      <td>1</td>\n",
       "    </tr>\n",
       "    <tr>\n",
       "      <th>5981</th>\n",
       "      <td>2015-12-25</td>\n",
       "      <td>1</td>\n",
       "    </tr>\n",
       "  </tbody>\n",
       "</table>\n",
       "<p>5982 rows × 2 columns</p>\n",
       "</div>"
      ],
      "text/plain": [
       "         INCDTTM  count\n",
       "0     2008-10-03     66\n",
       "1     2006-11-02     61\n",
       "2     2006-01-13     59\n",
       "3     2005-11-05     58\n",
       "4     2005-05-18     56\n",
       "...          ...    ...\n",
       "5977  2020-04-19      1\n",
       "5978  2020-04-07      1\n",
       "5979  2020-04-05      1\n",
       "5980  2020-05-18      1\n",
       "5981  2015-12-25      1\n",
       "\n",
       "[5982 rows x 2 columns]"
      ]
     },
     "execution_count": 85,
     "metadata": {},
     "output_type": "execute_result"
    }
   ],
   "source": [
    "incdttm = non_severe[['INCDTTM']]\n",
    "incdttm = incdttm['INCDTTM'].value_counts()\n",
    "incdttm = incdttm.to_frame()\n",
    "incdttm.index.name = 'newhead'\n",
    "incdttm.reset_index(inplace=True)\n",
    "\n",
    "incdttm.rename(columns = {'newhead': 'INCDTTM', 'INCDTTM': 'count'}, inplace=True)\n",
    "incdttm"
   ]
  },
  {
   "cell_type": "code",
   "execution_count": 86,
   "metadata": {},
   "outputs": [
    {
     "data": {
      "text/html": [
       "<div>\n",
       "<style scoped>\n",
       "    .dataframe tbody tr th:only-of-type {\n",
       "        vertical-align: middle;\n",
       "    }\n",
       "\n",
       "    .dataframe tbody tr th {\n",
       "        vertical-align: top;\n",
       "    }\n",
       "\n",
       "    .dataframe thead th {\n",
       "        text-align: right;\n",
       "    }\n",
       "</style>\n",
       "<table border=\"1\" class=\"dataframe\">\n",
       "  <thead>\n",
       "    <tr style=\"text-align: right;\">\n",
       "      <th></th>\n",
       "      <th>INCDTTM</th>\n",
       "      <th>count</th>\n",
       "    </tr>\n",
       "  </thead>\n",
       "  <tbody>\n",
       "    <tr>\n",
       "      <th>0</th>\n",
       "      <td>2006-11-02</td>\n",
       "      <td>34</td>\n",
       "    </tr>\n",
       "    <tr>\n",
       "      <th>1</th>\n",
       "      <td>2008-03-14</td>\n",
       "      <td>31</td>\n",
       "    </tr>\n",
       "    <tr>\n",
       "      <th>2</th>\n",
       "      <td>2009-10-16</td>\n",
       "      <td>30</td>\n",
       "    </tr>\n",
       "    <tr>\n",
       "      <th>3</th>\n",
       "      <td>2008-10-31</td>\n",
       "      <td>28</td>\n",
       "    </tr>\n",
       "    <tr>\n",
       "      <th>4</th>\n",
       "      <td>2005-05-18</td>\n",
       "      <td>28</td>\n",
       "    </tr>\n",
       "    <tr>\n",
       "      <th>...</th>\n",
       "      <td>...</td>\n",
       "      <td>...</td>\n",
       "    </tr>\n",
       "    <tr>\n",
       "      <th>5966</th>\n",
       "      <td>2020-03-08</td>\n",
       "      <td>1</td>\n",
       "    </tr>\n",
       "    <tr>\n",
       "      <th>5967</th>\n",
       "      <td>2008-12-22</td>\n",
       "      <td>1</td>\n",
       "    </tr>\n",
       "    <tr>\n",
       "      <th>5968</th>\n",
       "      <td>2017-01-16</td>\n",
       "      <td>1</td>\n",
       "    </tr>\n",
       "    <tr>\n",
       "      <th>5969</th>\n",
       "      <td>2015-04-26</td>\n",
       "      <td>1</td>\n",
       "    </tr>\n",
       "    <tr>\n",
       "      <th>5970</th>\n",
       "      <td>2020-01-14</td>\n",
       "      <td>1</td>\n",
       "    </tr>\n",
       "  </tbody>\n",
       "</table>\n",
       "<p>5971 rows × 2 columns</p>\n",
       "</div>"
      ],
      "text/plain": [
       "         INCDTTM  count\n",
       "0     2006-11-02     34\n",
       "1     2008-03-14     31\n",
       "2     2009-10-16     30\n",
       "3     2008-10-31     28\n",
       "4     2005-05-18     28\n",
       "...          ...    ...\n",
       "5966  2020-03-08      1\n",
       "5967  2008-12-22      1\n",
       "5968  2017-01-16      1\n",
       "5969  2015-04-26      1\n",
       "5970  2020-01-14      1\n",
       "\n",
       "[5971 rows x 2 columns]"
      ]
     },
     "execution_count": 86,
     "metadata": {},
     "output_type": "execute_result"
    }
   ],
   "source": [
    "incdttm = severe[['INCDTTM']]\n",
    "incdttm = incdttm['INCDTTM'].value_counts()\n",
    "incdttm = incdttm.to_frame()\n",
    "incdttm.index.name = 'newhead'\n",
    "incdttm.reset_index(inplace=True)\n",
    "\n",
    "incdttm.rename(columns = {'newhead': 'INCDTTM', 'INCDTTM': 'count'}, inplace=True)\n",
    "incdttm"
   ]
  },
  {
   "cell_type": "markdown",
   "metadata": {},
   "source": [
    "Seeing the spread of data on the tables allows us to see if there are days in which accidents were at a high. We see that there is some overlap with dates like 2006-11-02 and 2005-05-18, but there are also different dates, so we will include this variable into our model"
   ]
  },
  {
   "cell_type": "code",
   "execution_count": 87,
   "metadata": {},
   "outputs": [
    {
     "data": {
      "text/html": [
       "<div>\n",
       "<style scoped>\n",
       "    .dataframe tbody tr th:only-of-type {\n",
       "        vertical-align: middle;\n",
       "    }\n",
       "\n",
       "    .dataframe tbody tr th {\n",
       "        vertical-align: top;\n",
       "    }\n",
       "\n",
       "    .dataframe thead th {\n",
       "        text-align: right;\n",
       "    }\n",
       "</style>\n",
       "<table border=\"1\" class=\"dataframe\">\n",
       "  <thead>\n",
       "    <tr style=\"text-align: right;\">\n",
       "      <th></th>\n",
       "      <th>JUNCTIONTYPE</th>\n",
       "      <th>count</th>\n",
       "    </tr>\n",
       "  </thead>\n",
       "  <tbody>\n",
       "    <tr>\n",
       "      <th>0</th>\n",
       "      <td>Mid-Block (not related to intersection)</td>\n",
       "      <td>74009</td>\n",
       "    </tr>\n",
       "    <tr>\n",
       "      <th>1</th>\n",
       "      <td>At Intersection (intersection related)</td>\n",
       "      <td>35620</td>\n",
       "    </tr>\n",
       "    <tr>\n",
       "      <th>2</th>\n",
       "      <td>Mid-Block (but intersection related)</td>\n",
       "      <td>15480</td>\n",
       "    </tr>\n",
       "    <tr>\n",
       "      <th>3</th>\n",
       "      <td>Driveway Junction</td>\n",
       "      <td>7388</td>\n",
       "    </tr>\n",
       "    <tr>\n",
       "      <th>4</th>\n",
       "      <td>At Intersection (but not related to intersection)</td>\n",
       "      <td>1472</td>\n",
       "    </tr>\n",
       "    <tr>\n",
       "      <th>5</th>\n",
       "      <td>Ramp Junction</td>\n",
       "      <td>112</td>\n",
       "    </tr>\n",
       "  </tbody>\n",
       "</table>\n",
       "</div>"
      ],
      "text/plain": [
       "                                        JUNCTIONTYPE  count\n",
       "0            Mid-Block (not related to intersection)  74009\n",
       "1             At Intersection (intersection related)  35620\n",
       "2               Mid-Block (but intersection related)  15480\n",
       "3                                  Driveway Junction   7388\n",
       "4  At Intersection (but not related to intersection)   1472\n",
       "5                                      Ramp Junction    112"
      ]
     },
     "execution_count": 87,
     "metadata": {},
     "output_type": "execute_result"
    }
   ],
   "source": [
    "junction = non_severe[['JUNCTIONTYPE']]\n",
    "junction = junction['JUNCTIONTYPE'].value_counts()\n",
    "junction = junction.to_frame()\n",
    "junction.index.name = 'newhead'\n",
    "junction.reset_index(inplace=True)\n",
    "\n",
    "junction.rename(columns = {'newhead': 'JUNCTIONTYPE', 'JUNCTIONTYPE': 'count'}, inplace=True)\n",
    "junction"
   ]
  },
  {
   "cell_type": "code",
   "execution_count": 88,
   "metadata": {},
   "outputs": [
    {
     "data": {
      "text/plain": [
       "<matplotlib.axes._subplots.AxesSubplot at 0x149ea957340>"
      ]
     },
     "execution_count": 88,
     "metadata": {},
     "output_type": "execute_result"
    },
    {
     "data": {
      "image/png": "[encoded data removed]",
      "text/plain": [
       "<Figure size 432x288 with 1 Axes>"
      ]
     },
     "metadata": {
      "needs_background": "light"
     },
     "output_type": "display_data"
    }
   ],
   "source": [
    "sns.barplot(x='JUNCTIONTYPE', y='count', data = junction)"
   ]
  },
  {
   "cell_type": "code",
   "execution_count": 89,
   "metadata": {},
   "outputs": [
    {
     "data": {
      "text/html": [
       "<div>\n",
       "<style scoped>\n",
       "    .dataframe tbody tr th:only-of-type {\n",
       "        vertical-align: middle;\n",
       "    }\n",
       "\n",
       "    .dataframe tbody tr th {\n",
       "        vertical-align: top;\n",
       "    }\n",
       "\n",
       "    .dataframe thead th {\n",
       "        text-align: right;\n",
       "    }\n",
       "</style>\n",
       "<table border=\"1\" class=\"dataframe\">\n",
       "  <thead>\n",
       "    <tr style=\"text-align: right;\">\n",
       "      <th></th>\n",
       "      <th>JUNCTIONTYPE</th>\n",
       "      <th>count</th>\n",
       "    </tr>\n",
       "  </thead>\n",
       "  <tbody>\n",
       "    <tr>\n",
       "      <th>0</th>\n",
       "      <td>At Intersection (intersection related)</td>\n",
       "      <td>27166</td>\n",
       "    </tr>\n",
       "    <tr>\n",
       "      <th>1</th>\n",
       "      <td>Mid-Block (not related to intersection)</td>\n",
       "      <td>19556</td>\n",
       "    </tr>\n",
       "    <tr>\n",
       "      <th>2</th>\n",
       "      <td>Mid-Block (but intersection related)</td>\n",
       "      <td>7295</td>\n",
       "    </tr>\n",
       "    <tr>\n",
       "      <th>3</th>\n",
       "      <td>Driveway Junction</td>\n",
       "      <td>3223</td>\n",
       "    </tr>\n",
       "    <tr>\n",
       "      <th>4</th>\n",
       "      <td>At Intersection (but not related to intersection)</td>\n",
       "      <td>623</td>\n",
       "    </tr>\n",
       "    <tr>\n",
       "      <th>5</th>\n",
       "      <td>Ramp Junction</td>\n",
       "      <td>52</td>\n",
       "    </tr>\n",
       "  </tbody>\n",
       "</table>\n",
       "</div>"
      ],
      "text/plain": [
       "                                        JUNCTIONTYPE  count\n",
       "0             At Intersection (intersection related)  27166\n",
       "1            Mid-Block (not related to intersection)  19556\n",
       "2               Mid-Block (but intersection related)   7295\n",
       "3                                  Driveway Junction   3223\n",
       "4  At Intersection (but not related to intersection)    623\n",
       "5                                      Ramp Junction     52"
      ]
     },
     "execution_count": 89,
     "metadata": {},
     "output_type": "execute_result"
    }
   ],
   "source": [
    "junction = severe[['JUNCTIONTYPE']]\n",
    "junction = junction['JUNCTIONTYPE'].value_counts()\n",
    "junction = junction.to_frame()\n",
    "junction.index.name = 'newhead'\n",
    "junction.reset_index(inplace=True)\n",
    "\n",
    "junction.rename(columns = {'newhead': 'JUNCTIONTYPE', 'JUNCTIONTYPE': 'count'}, inplace=True)\n",
    "junction"
   ]
  },
  {
   "cell_type": "code",
   "execution_count": 90,
   "metadata": {},
   "outputs": [
    {
     "data": {
      "text/plain": [
       "<matplotlib.axes._subplots.AxesSubplot at 0x149e2f2c250>"
      ]
     },
     "execution_count": 90,
     "metadata": {},
     "output_type": "execute_result"
    },
    {
     "data": {
      "image/png": "[encoded data removed]",
      "text/plain": [
       "<Figure size 432x288 with 1 Axes>"
      ]
     },
     "metadata": {
      "needs_background": "light"
     },
     "output_type": "display_data"
    }
   ],
   "source": [
    "sns.barplot(x='JUNCTIONTYPE', y='count', data = junction)"
   ]
  },
  {
   "cell_type": "markdown",
   "metadata": {},
   "source": [
    "We can see that there are differences in relevancy of junctions between injury related incidents and property related incidents. Injury related incidents have the highest frequency in at intersection collisions while property damage related incidents have the highest frequency in mid block collisions. We will include this variable in our model."
   ]
  },
  {
   "cell_type": "code",
   "execution_count": 91,
   "metadata": {},
   "outputs": [
    {
     "data": {
      "text/html": [
       "<div>\n",
       "<style scoped>\n",
       "    .dataframe tbody tr th:only-of-type {\n",
       "        vertical-align: middle;\n",
       "    }\n",
       "\n",
       "    .dataframe tbody tr th {\n",
       "        vertical-align: top;\n",
       "    }\n",
       "\n",
       "    .dataframe thead th {\n",
       "        text-align: right;\n",
       "    }\n",
       "</style>\n",
       "<table border=\"1\" class=\"dataframe\">\n",
       "  <thead>\n",
       "    <tr style=\"text-align: right;\">\n",
       "      <th></th>\n",
       "      <th>SDOT_COLCODE</th>\n",
       "      <th>count</th>\n",
       "    </tr>\n",
       "  </thead>\n",
       "  <tbody>\n",
       "    <tr>\n",
       "      <th>0</th>\n",
       "      <td>11</td>\n",
       "      <td>60792</td>\n",
       "    </tr>\n",
       "    <tr>\n",
       "      <th>1</th>\n",
       "      <td>14</td>\n",
       "      <td>36464</td>\n",
       "    </tr>\n",
       "    <tr>\n",
       "      <th>2</th>\n",
       "      <td>16</td>\n",
       "      <td>9225</td>\n",
       "    </tr>\n",
       "    <tr>\n",
       "      <th>3</th>\n",
       "      <td>0</td>\n",
       "      <td>6979</td>\n",
       "    </tr>\n",
       "    <tr>\n",
       "      <th>4</th>\n",
       "      <td>28</td>\n",
       "      <td>6542</td>\n",
       "    </tr>\n",
       "  </tbody>\n",
       "</table>\n",
       "</div>"
      ],
      "text/plain": [
       "   SDOT_COLCODE  count\n",
       "0            11  60792\n",
       "1            14  36464\n",
       "2            16   9225\n",
       "3             0   6979\n",
       "4            28   6542"
      ]
     },
     "execution_count": 91,
     "metadata": {},
     "output_type": "execute_result"
    }
   ],
   "source": [
    "colcode = non_severe[['SDOT_COLCODE']]\n",
    "colcode = colcode['SDOT_COLCODE'].value_counts()\n",
    "colcode = colcode.to_frame()\n",
    "colcode.index.name = 'newhead'\n",
    "colcode.reset_index(inplace=True)\n",
    "\n",
    "colcode.rename(columns = {'newhead': 'SDOT_COLCODE', 'SDOT_COLCODE': 'count'}, inplace=True)\n",
    "colcode.head()"
   ]
  },
  {
   "cell_type": "code",
   "execution_count": 92,
   "metadata": {},
   "outputs": [
    {
     "data": {
      "text/plain": [
       "<matplotlib.axes._subplots.AxesSubplot at 0x149eac2f790>"
      ]
     },
     "execution_count": 92,
     "metadata": {},
     "output_type": "execute_result"
    },
    {
     "data": {
      "image/png": "[encoded data removed]",
      "text/plain": [
       "<Figure size 432x288 with 1 Axes>"
      ]
     },
     "metadata": {
      "needs_background": "light"
     },
     "output_type": "display_data"
    }
   ],
   "source": [
    "sns.barplot(x='SDOT_COLCODE', y='count', data = colcode)"
   ]
  },
  {
   "cell_type": "code",
   "execution_count": 93,
   "metadata": {},
   "outputs": [
    {
     "data": {
      "text/html": [
       "<div>\n",
       "<style scoped>\n",
       "    .dataframe tbody tr th:only-of-type {\n",
       "        vertical-align: middle;\n",
       "    }\n",
       "\n",
       "    .dataframe tbody tr th {\n",
       "        vertical-align: top;\n",
       "    }\n",
       "\n",
       "    .dataframe thead th {\n",
       "        text-align: right;\n",
       "    }\n",
       "</style>\n",
       "<table border=\"1\" class=\"dataframe\">\n",
       "  <thead>\n",
       "    <tr style=\"text-align: right;\">\n",
       "      <th></th>\n",
       "      <th>SDOT_COLCODE</th>\n",
       "      <th>count</th>\n",
       "    </tr>\n",
       "  </thead>\n",
       "  <tbody>\n",
       "    <tr>\n",
       "      <th>0</th>\n",
       "      <td>11</td>\n",
       "      <td>24330</td>\n",
       "    </tr>\n",
       "    <tr>\n",
       "      <th>1</th>\n",
       "      <td>14</td>\n",
       "      <td>17733</td>\n",
       "    </tr>\n",
       "    <tr>\n",
       "      <th>2</th>\n",
       "      <td>24</td>\n",
       "      <td>5836</td>\n",
       "    </tr>\n",
       "    <tr>\n",
       "      <th>3</th>\n",
       "      <td>18</td>\n",
       "      <td>2732</td>\n",
       "    </tr>\n",
       "    <tr>\n",
       "      <th>4</th>\n",
       "      <td>28</td>\n",
       "      <td>2280</td>\n",
       "    </tr>\n",
       "  </tbody>\n",
       "</table>\n",
       "</div>"
      ],
      "text/plain": [
       "   SDOT_COLCODE  count\n",
       "0            11  24330\n",
       "1            14  17733\n",
       "2            24   5836\n",
       "3            18   2732\n",
       "4            28   2280"
      ]
     },
     "execution_count": 93,
     "metadata": {},
     "output_type": "execute_result"
    }
   ],
   "source": [
    "colcode = severe[['SDOT_COLCODE']]\n",
    "colcode = colcode['SDOT_COLCODE'].value_counts()\n",
    "colcode = colcode.to_frame()\n",
    "colcode.index.name = 'newhead'\n",
    "colcode.reset_index(inplace=True)\n",
    "\n",
    "colcode.rename(columns = {'newhead': 'SDOT_COLCODE', 'SDOT_COLCODE': 'count'}, inplace=True)\n",
    "colcode.head()"
   ]
  },
  {
   "cell_type": "code",
   "execution_count": 94,
   "metadata": {},
   "outputs": [
    {
     "data": {
      "text/plain": [
       "<matplotlib.axes._subplots.AxesSubplot at 0x149ec377e50>"
      ]
     },
     "execution_count": 94,
     "metadata": {},
     "output_type": "execute_result"
    },
    {
     "data": {
      "image/png": "[encoded data removed]",
      "text/plain": [
       "<Figure size 432x288 with 1 Axes>"
      ]
     },
     "metadata": {
      "needs_background": "light"
     },
     "output_type": "display_data"
    }
   ],
   "source": [
    "sns.barplot(x='SDOT_COLCODE', y='count', data = colcode)"
   ]
  },
  {
   "cell_type": "markdown",
   "metadata": {},
   "source": [
    "The state collision code has common values in the same positions in both groups in terms of frequency. Values such as 11 and 14 are in the top 2 spots in both severities. However we notice differences in values as we go down the table so we will consider this variable in our model since there does not appear to be a high level of correlation between the two severities."
   ]
  },
  {
   "cell_type": "code",
   "execution_count": 95,
   "metadata": {},
   "outputs": [
    {
     "data": {
      "text/html": [
       "<div>\n",
       "<style scoped>\n",
       "    .dataframe tbody tr th:only-of-type {\n",
       "        vertical-align: middle;\n",
       "    }\n",
       "\n",
       "    .dataframe tbody tr th {\n",
       "        vertical-align: top;\n",
       "    }\n",
       "\n",
       "    .dataframe thead th {\n",
       "        text-align: right;\n",
       "    }\n",
       "</style>\n",
       "<table border=\"1\" class=\"dataframe\">\n",
       "  <thead>\n",
       "    <tr style=\"text-align: right;\">\n",
       "      <th></th>\n",
       "      <th>UNDERINFL</th>\n",
       "      <th>count</th>\n",
       "    </tr>\n",
       "  </thead>\n",
       "  <tbody>\n",
       "    <tr>\n",
       "      <th>0</th>\n",
       "      <td>N</td>\n",
       "      <td>128575</td>\n",
       "    </tr>\n",
       "    <tr>\n",
       "      <th>1</th>\n",
       "      <td>Y</td>\n",
       "      <td>5506</td>\n",
       "    </tr>\n",
       "  </tbody>\n",
       "</table>\n",
       "</div>"
      ],
      "text/plain": [
       "  UNDERINFL   count\n",
       "0         N  128575\n",
       "1         Y    5506"
      ]
     },
     "execution_count": 95,
     "metadata": {},
     "output_type": "execute_result"
    }
   ],
   "source": [
    "infl = non_severe[['UNDERINFL']]\n",
    "infl = infl['UNDERINFL'].value_counts()\n",
    "infl = infl.to_frame()\n",
    "infl.index.name = 'newhead'\n",
    "infl.reset_index(inplace=True)\n",
    "\n",
    "infl.rename(columns = {'newhead': 'UNDERINFL', 'UNDERINFL': 'count'}, inplace=True)\n",
    "infl.head()"
   ]
  },
  {
   "cell_type": "code",
   "execution_count": 96,
   "metadata": {},
   "outputs": [
    {
     "data": {
      "text/plain": [
       "<matplotlib.axes._subplots.AxesSubplot at 0x149ec47ec10>"
      ]
     },
     "execution_count": 96,
     "metadata": {},
     "output_type": "execute_result"
    },
    {
     "data": {
      "image/png": "[encoded data removed]",
      "text/plain": [
       "<Figure size 432x288 with 1 Axes>"
      ]
     },
     "metadata": {
      "needs_background": "light"
     },
     "output_type": "display_data"
    }
   ],
   "source": [
    "sns.barplot(x='UNDERINFL', y='count', data = infl)"
   ]
  },
  {
   "cell_type": "code",
   "execution_count": 97,
   "metadata": {},
   "outputs": [
    {
     "data": {
      "text/html": [
       "<div>\n",
       "<style scoped>\n",
       "    .dataframe tbody tr th:only-of-type {\n",
       "        vertical-align: middle;\n",
       "    }\n",
       "\n",
       "    .dataframe tbody tr th {\n",
       "        vertical-align: top;\n",
       "    }\n",
       "\n",
       "    .dataframe thead th {\n",
       "        text-align: right;\n",
       "    }\n",
       "</style>\n",
       "<table border=\"1\" class=\"dataframe\">\n",
       "  <thead>\n",
       "    <tr style=\"text-align: right;\">\n",
       "      <th></th>\n",
       "      <th>UNDERINFL</th>\n",
       "      <th>count</th>\n",
       "    </tr>\n",
       "  </thead>\n",
       "  <tbody>\n",
       "    <tr>\n",
       "      <th>0</th>\n",
       "      <td>N</td>\n",
       "      <td>54371</td>\n",
       "    </tr>\n",
       "    <tr>\n",
       "      <th>1</th>\n",
       "      <td>Y</td>\n",
       "      <td>3544</td>\n",
       "    </tr>\n",
       "  </tbody>\n",
       "</table>\n",
       "</div>"
      ],
      "text/plain": [
       "  UNDERINFL  count\n",
       "0         N  54371\n",
       "1         Y   3544"
      ]
     },
     "execution_count": 97,
     "metadata": {},
     "output_type": "execute_result"
    }
   ],
   "source": [
    "infl = severe[['UNDERINFL']]\n",
    "infl = infl['UNDERINFL'].value_counts()\n",
    "infl = infl.to_frame()\n",
    "infl.index.name = 'newhead'\n",
    "infl.reset_index(inplace=True)\n",
    "\n",
    "infl.rename(columns = {'newhead': 'UNDERINFL', 'UNDERINFL': 'count'}, inplace=True)\n",
    "infl.head()"
   ]
  },
  {
   "cell_type": "code",
   "execution_count": 98,
   "metadata": {},
   "outputs": [
    {
     "data": {
      "text/plain": [
       "<matplotlib.axes._subplots.AxesSubplot at 0x149ec9fb130>"
      ]
     },
     "execution_count": 98,
     "metadata": {},
     "output_type": "execute_result"
    },
    {
     "data": {
      "image/png": "[encoded data removed]",
      "text/plain": [
       "<Figure size 432x288 with 1 Axes>"
      ]
     },
     "metadata": {
      "needs_background": "light"
     },
     "output_type": "display_data"
    }
   ],
   "source": [
    "sns.barplot(x='UNDERINFL', y='count', data = infl)"
   ]
  },
  {
   "cell_type": "markdown",
   "metadata": {},
   "source": [
    "In more severe accidents, we see that the bar for yes is slightly higher than that of accidents which only cause property damage. There are almost 3 times more non under influence counts in the property damage data but there are less than 2 times more under the influence counts in property damage accidents. This indicates that those who are driving under the influence are more likely to cause accidents which cause injury."
   ]
  },
  {
   "cell_type": "code",
   "execution_count": 99,
   "metadata": {},
   "outputs": [
    {
     "data": {
      "text/html": [
       "<div>\n",
       "<style scoped>\n",
       "    .dataframe tbody tr th:only-of-type {\n",
       "        vertical-align: middle;\n",
       "    }\n",
       "\n",
       "    .dataframe tbody tr th {\n",
       "        vertical-align: top;\n",
       "    }\n",
       "\n",
       "    .dataframe thead th {\n",
       "        text-align: right;\n",
       "    }\n",
       "</style>\n",
       "<table border=\"1\" class=\"dataframe\">\n",
       "  <thead>\n",
       "    <tr style=\"text-align: right;\">\n",
       "      <th></th>\n",
       "      <th>WEATHER</th>\n",
       "      <th>count</th>\n",
       "    </tr>\n",
       "  </thead>\n",
       "  <tbody>\n",
       "    <tr>\n",
       "      <th>0</th>\n",
       "      <td>Clear</td>\n",
       "      <td>87929</td>\n",
       "    </tr>\n",
       "    <tr>\n",
       "      <th>1</th>\n",
       "      <td>Raining</td>\n",
       "      <td>24522</td>\n",
       "    </tr>\n",
       "    <tr>\n",
       "      <th>2</th>\n",
       "      <td>Overcast</td>\n",
       "      <td>19603</td>\n",
       "    </tr>\n",
       "    <tr>\n",
       "      <th>3</th>\n",
       "      <td>Snowing</td>\n",
       "      <td>838</td>\n",
       "    </tr>\n",
       "    <tr>\n",
       "      <th>4</th>\n",
       "      <td>Other</td>\n",
       "      <td>673</td>\n",
       "    </tr>\n",
       "    <tr>\n",
       "      <th>5</th>\n",
       "      <td>Fog/Smog/Smoke</td>\n",
       "      <td>374</td>\n",
       "    </tr>\n",
       "    <tr>\n",
       "      <th>6</th>\n",
       "      <td>Sleet/Hail/Freezing Rain</td>\n",
       "      <td>85</td>\n",
       "    </tr>\n",
       "    <tr>\n",
       "      <th>7</th>\n",
       "      <td>Blowing Sand/Dirt</td>\n",
       "      <td>37</td>\n",
       "    </tr>\n",
       "    <tr>\n",
       "      <th>8</th>\n",
       "      <td>Severe Crosswind</td>\n",
       "      <td>18</td>\n",
       "    </tr>\n",
       "    <tr>\n",
       "      <th>9</th>\n",
       "      <td>Partly Cloudy</td>\n",
       "      <td>2</td>\n",
       "    </tr>\n",
       "  </tbody>\n",
       "</table>\n",
       "</div>"
      ],
      "text/plain": [
       "                    WEATHER  count\n",
       "0                     Clear  87929\n",
       "1                   Raining  24522\n",
       "2                  Overcast  19603\n",
       "3                   Snowing    838\n",
       "4                     Other    673\n",
       "5            Fog/Smog/Smoke    374\n",
       "6  Sleet/Hail/Freezing Rain     85\n",
       "7         Blowing Sand/Dirt     37\n",
       "8          Severe Crosswind     18\n",
       "9             Partly Cloudy      2"
      ]
     },
     "execution_count": 99,
     "metadata": {},
     "output_type": "execute_result"
    }
   ],
   "source": [
    "weather = non_severe[['WEATHER']]\n",
    "weather = weather['WEATHER'].value_counts()\n",
    "weather = weather.to_frame()\n",
    "weather.index.name = 'newhead'\n",
    "weather.reset_index(inplace=True)\n",
    "\n",
    "weather.rename(columns = {'newhead': 'WEATHER', 'WEATHER': 'count'}, inplace=True)\n",
    "weather"
   ]
  },
  {
   "cell_type": "code",
   "execution_count": 100,
   "metadata": {},
   "outputs": [
    {
     "data": {
      "text/plain": [
       "<matplotlib.axes._subplots.AxesSubplot at 0x149eca4d280>"
      ]
     },
     "execution_count": 100,
     "metadata": {},
     "output_type": "execute_result"
    },
    {
     "data": {
      "image/png": "[encoded data removed]",
      "text/plain": [
       "<Figure size 432x288 with 1 Axes>"
      ]
     },
     "metadata": {
      "needs_background": "light"
     },
     "output_type": "display_data"
    }
   ],
   "source": [
    "sns.barplot(x='WEATHER', y='count', data = weather)"
   ]
  },
  {
   "cell_type": "code",
   "execution_count": 101,
   "metadata": {},
   "outputs": [
    {
     "data": {
      "text/html": [
       "<div>\n",
       "<style scoped>\n",
       "    .dataframe tbody tr th:only-of-type {\n",
       "        vertical-align: middle;\n",
       "    }\n",
       "\n",
       "    .dataframe tbody tr th {\n",
       "        vertical-align: top;\n",
       "    }\n",
       "\n",
       "    .dataframe thead th {\n",
       "        text-align: right;\n",
       "    }\n",
       "</style>\n",
       "<table border=\"1\" class=\"dataframe\">\n",
       "  <thead>\n",
       "    <tr style=\"text-align: right;\">\n",
       "      <th></th>\n",
       "      <th>WEATHER</th>\n",
       "      <th>count</th>\n",
       "    </tr>\n",
       "  </thead>\n",
       "  <tbody>\n",
       "    <tr>\n",
       "      <th>0</th>\n",
       "      <td>Clear</td>\n",
       "      <td>37284</td>\n",
       "    </tr>\n",
       "    <tr>\n",
       "      <th>1</th>\n",
       "      <td>Raining</td>\n",
       "      <td>11337</td>\n",
       "    </tr>\n",
       "    <tr>\n",
       "      <th>2</th>\n",
       "      <td>Overcast</td>\n",
       "      <td>8769</td>\n",
       "    </tr>\n",
       "    <tr>\n",
       "      <th>3</th>\n",
       "      <td>Fog/Smog/Smoke</td>\n",
       "      <td>186</td>\n",
       "    </tr>\n",
       "    <tr>\n",
       "      <th>4</th>\n",
       "      <td>Snowing</td>\n",
       "      <td>175</td>\n",
       "    </tr>\n",
       "    <tr>\n",
       "      <th>5</th>\n",
       "      <td>Other</td>\n",
       "      <td>114</td>\n",
       "    </tr>\n",
       "    <tr>\n",
       "      <th>6</th>\n",
       "      <td>Sleet/Hail/Freezing Rain</td>\n",
       "      <td>27</td>\n",
       "    </tr>\n",
       "    <tr>\n",
       "      <th>7</th>\n",
       "      <td>Blowing Sand/Dirt</td>\n",
       "      <td>13</td>\n",
       "    </tr>\n",
       "    <tr>\n",
       "      <th>8</th>\n",
       "      <td>Severe Crosswind</td>\n",
       "      <td>7</td>\n",
       "    </tr>\n",
       "    <tr>\n",
       "      <th>9</th>\n",
       "      <td>Partly Cloudy</td>\n",
       "      <td>3</td>\n",
       "    </tr>\n",
       "  </tbody>\n",
       "</table>\n",
       "</div>"
      ],
      "text/plain": [
       "                    WEATHER  count\n",
       "0                     Clear  37284\n",
       "1                   Raining  11337\n",
       "2                  Overcast   8769\n",
       "3            Fog/Smog/Smoke    186\n",
       "4                   Snowing    175\n",
       "5                     Other    114\n",
       "6  Sleet/Hail/Freezing Rain     27\n",
       "7         Blowing Sand/Dirt     13\n",
       "8          Severe Crosswind      7\n",
       "9             Partly Cloudy      3"
      ]
     },
     "execution_count": 101,
     "metadata": {},
     "output_type": "execute_result"
    }
   ],
   "source": [
    "weather = severe[['WEATHER']]\n",
    "weather = weather['WEATHER'].value_counts()\n",
    "weather = weather.to_frame()\n",
    "weather.index.name = 'newhead'\n",
    "weather.reset_index(inplace=True)\n",
    "\n",
    "weather.rename(columns = {'newhead': 'WEATHER', 'WEATHER': 'count'}, inplace=True)\n",
    "weather"
   ]
  },
  {
   "cell_type": "code",
   "execution_count": 102,
   "metadata": {},
   "outputs": [
    {
     "data": {
      "text/plain": [
       "<matplotlib.axes._subplots.AxesSubplot at 0x149ecad6a30>"
      ]
     },
     "execution_count": 102,
     "metadata": {},
     "output_type": "execute_result"
    },
    {
     "data": {
      "image/png": "[encoded data removed]",
      "text/plain": [
       "<Figure size 432x288 with 1 Axes>"
      ]
     },
     "metadata": {
      "needs_background": "light"
     },
     "output_type": "display_data"
    }
   ],
   "source": [
    "sns.barplot(x='WEATHER', y='count', data = weather)"
   ]
  },
  {
   "cell_type": "markdown",
   "metadata": {},
   "source": [
    "We can see that the weather variable is highly correlated but it has different rankings for different weather between injury and property damage collision cases. Snowy weather is more likely the cause of an accident in property damage accidents compared to snow while fog is more likely to be the cause of an accident in injury accidents compared to snow."
   ]
  },
  {
   "cell_type": "code",
   "execution_count": 103,
   "metadata": {},
   "outputs": [
    {
     "data": {
      "text/html": [
       "<div>\n",
       "<style scoped>\n",
       "    .dataframe tbody tr th:only-of-type {\n",
       "        vertical-align: middle;\n",
       "    }\n",
       "\n",
       "    .dataframe tbody tr th {\n",
       "        vertical-align: top;\n",
       "    }\n",
       "\n",
       "    .dataframe thead th {\n",
       "        text-align: right;\n",
       "    }\n",
       "</style>\n",
       "<table border=\"1\" class=\"dataframe\">\n",
       "  <thead>\n",
       "    <tr style=\"text-align: right;\">\n",
       "      <th></th>\n",
       "      <th>ROADCOND</th>\n",
       "      <th>count</th>\n",
       "    </tr>\n",
       "  </thead>\n",
       "  <tbody>\n",
       "    <tr>\n",
       "      <th>0</th>\n",
       "      <td>Dry</td>\n",
       "      <td>97167</td>\n",
       "    </tr>\n",
       "    <tr>\n",
       "      <th>1</th>\n",
       "      <td>Wet</td>\n",
       "      <td>34792</td>\n",
       "    </tr>\n",
       "    <tr>\n",
       "      <th>2</th>\n",
       "      <td>Ice</td>\n",
       "      <td>974</td>\n",
       "    </tr>\n",
       "    <tr>\n",
       "      <th>3</th>\n",
       "      <td>Snow/Slush</td>\n",
       "      <td>899</td>\n",
       "    </tr>\n",
       "    <tr>\n",
       "      <th>4</th>\n",
       "      <td>Other</td>\n",
       "      <td>83</td>\n",
       "    </tr>\n",
       "    <tr>\n",
       "      <th>5</th>\n",
       "      <td>Standing Water</td>\n",
       "      <td>82</td>\n",
       "    </tr>\n",
       "    <tr>\n",
       "      <th>6</th>\n",
       "      <td>Sand/Mud/Dirt</td>\n",
       "      <td>44</td>\n",
       "    </tr>\n",
       "    <tr>\n",
       "      <th>7</th>\n",
       "      <td>Oil</td>\n",
       "      <td>40</td>\n",
       "    </tr>\n",
       "  </tbody>\n",
       "</table>\n",
       "</div>"
      ],
      "text/plain": [
       "         ROADCOND  count\n",
       "0             Dry  97167\n",
       "1             Wet  34792\n",
       "2             Ice    974\n",
       "3      Snow/Slush    899\n",
       "4           Other     83\n",
       "5  Standing Water     82\n",
       "6   Sand/Mud/Dirt     44\n",
       "7             Oil     40"
      ]
     },
     "execution_count": 103,
     "metadata": {},
     "output_type": "execute_result"
    }
   ],
   "source": [
    "roadcond = non_severe[['ROADCOND']]\n",
    "roadcond = roadcond['ROADCOND'].value_counts()\n",
    "roadcond = roadcond.to_frame()\n",
    "roadcond.index.name = 'newhead'\n",
    "roadcond.reset_index(inplace=True)\n",
    "\n",
    "roadcond.rename(columns = {'newhead': 'ROADCOND', 'ROADCOND': 'count'}, inplace=True)\n",
    "roadcond"
   ]
  },
  {
   "cell_type": "code",
   "execution_count": 104,
   "metadata": {},
   "outputs": [
    {
     "data": {
      "text/plain": [
       "<matplotlib.axes._subplots.AxesSubplot at 0x149ec377610>"
      ]
     },
     "execution_count": 104,
     "metadata": {},
     "output_type": "execute_result"
    },
    {
     "data": {
      "image/png": "[encoded data removed]",
      "text/plain": [
       "<Figure size 432x288 with 1 Axes>"
      ]
     },
     "metadata": {
      "needs_background": "light"
     },
     "output_type": "display_data"
    }
   ],
   "source": [
    "sns.barplot(x='ROADCOND', y='count', data = roadcond)"
   ]
  },
  {
   "cell_type": "code",
   "execution_count": 105,
   "metadata": {},
   "outputs": [
    {
     "data": {
      "text/html": [
       "<div>\n",
       "<style scoped>\n",
       "    .dataframe tbody tr th:only-of-type {\n",
       "        vertical-align: middle;\n",
       "    }\n",
       "\n",
       "    .dataframe tbody tr th {\n",
       "        vertical-align: top;\n",
       "    }\n",
       "\n",
       "    .dataframe thead th {\n",
       "        text-align: right;\n",
       "    }\n",
       "</style>\n",
       "<table border=\"1\" class=\"dataframe\">\n",
       "  <thead>\n",
       "    <tr style=\"text-align: right;\">\n",
       "      <th></th>\n",
       "      <th>ROADCOND</th>\n",
       "      <th>count</th>\n",
       "    </tr>\n",
       "  </thead>\n",
       "  <tbody>\n",
       "    <tr>\n",
       "      <th>0</th>\n",
       "      <td>Dry</td>\n",
       "      <td>41433</td>\n",
       "    </tr>\n",
       "    <tr>\n",
       "      <th>1</th>\n",
       "      <td>Wet</td>\n",
       "      <td>15926</td>\n",
       "    </tr>\n",
       "    <tr>\n",
       "      <th>2</th>\n",
       "      <td>Ice</td>\n",
       "      <td>272</td>\n",
       "    </tr>\n",
       "    <tr>\n",
       "      <th>3</th>\n",
       "      <td>Snow/Slush</td>\n",
       "      <td>167</td>\n",
       "    </tr>\n",
       "    <tr>\n",
       "      <th>4</th>\n",
       "      <td>Other</td>\n",
       "      <td>42</td>\n",
       "    </tr>\n",
       "    <tr>\n",
       "      <th>5</th>\n",
       "      <td>Standing Water</td>\n",
       "      <td>29</td>\n",
       "    </tr>\n",
       "    <tr>\n",
       "      <th>6</th>\n",
       "      <td>Oil</td>\n",
       "      <td>24</td>\n",
       "    </tr>\n",
       "    <tr>\n",
       "      <th>7</th>\n",
       "      <td>Sand/Mud/Dirt</td>\n",
       "      <td>22</td>\n",
       "    </tr>\n",
       "  </tbody>\n",
       "</table>\n",
       "</div>"
      ],
      "text/plain": [
       "         ROADCOND  count\n",
       "0             Dry  41433\n",
       "1             Wet  15926\n",
       "2             Ice    272\n",
       "3      Snow/Slush    167\n",
       "4           Other     42\n",
       "5  Standing Water     29\n",
       "6             Oil     24\n",
       "7   Sand/Mud/Dirt     22"
      ]
     },
     "execution_count": 105,
     "metadata": {},
     "output_type": "execute_result"
    }
   ],
   "source": [
    "roadcond = severe[['ROADCOND']]\n",
    "roadcond = roadcond['ROADCOND'].value_counts()\n",
    "roadcond = roadcond.to_frame()\n",
    "roadcond.index.name = 'newhead'\n",
    "roadcond.reset_index(inplace=True)\n",
    "\n",
    "roadcond.rename(columns = {'newhead': 'ROADCOND', 'ROADCOND': 'count'}, inplace=True)\n",
    "roadcond"
   ]
  },
  {
   "cell_type": "code",
   "execution_count": 106,
   "metadata": {},
   "outputs": [
    {
     "data": {
      "text/plain": [
       "<matplotlib.axes._subplots.AxesSubplot at 0x149ecbe3e50>"
      ]
     },
     "execution_count": 106,
     "metadata": {},
     "output_type": "execute_result"
    },
    {
     "data": {
      "image/png": "[encoded data removed]",
      "text/plain": [
       "<Figure size 432x288 with 1 Axes>"
      ]
     },
     "metadata": {
      "needs_background": "light"
     },
     "output_type": "display_data"
    }
   ],
   "source": [
    "sns.barplot(x='ROADCOND', y='count', data = roadcond)"
   ]
  },
  {
   "cell_type": "markdown",
   "metadata": {},
   "source": [
    "The road condition is very similar in both cases so we will leave out this variable from our model."
   ]
  },
  {
   "cell_type": "code",
   "execution_count": 107,
   "metadata": {},
   "outputs": [
    {
     "data": {
      "text/html": [
       "<div>\n",
       "<style scoped>\n",
       "    .dataframe tbody tr th:only-of-type {\n",
       "        vertical-align: middle;\n",
       "    }\n",
       "\n",
       "    .dataframe tbody tr th {\n",
       "        vertical-align: top;\n",
       "    }\n",
       "\n",
       "    .dataframe thead th {\n",
       "        text-align: right;\n",
       "    }\n",
       "</style>\n",
       "<table border=\"1\" class=\"dataframe\">\n",
       "  <thead>\n",
       "    <tr style=\"text-align: right;\">\n",
       "      <th></th>\n",
       "      <th>LIGHTCOND</th>\n",
       "      <th>count</th>\n",
       "    </tr>\n",
       "  </thead>\n",
       "  <tbody>\n",
       "    <tr>\n",
       "      <th>0</th>\n",
       "      <td>Daylight</td>\n",
       "      <td>90570</td>\n",
       "    </tr>\n",
       "    <tr>\n",
       "      <th>1</th>\n",
       "      <td>Dark - Street Lights On</td>\n",
       "      <td>35765</td>\n",
       "    </tr>\n",
       "    <tr>\n",
       "      <th>2</th>\n",
       "      <td>Dusk</td>\n",
       "      <td>3900</td>\n",
       "    </tr>\n",
       "    <tr>\n",
       "      <th>3</th>\n",
       "      <td>Dawn</td>\n",
       "      <td>1661</td>\n",
       "    </tr>\n",
       "    <tr>\n",
       "      <th>4</th>\n",
       "      <td>Dark - No Street Lights</td>\n",
       "      <td>1150</td>\n",
       "    </tr>\n",
       "    <tr>\n",
       "      <th>5</th>\n",
       "      <td>Dark - Street Lights Off</td>\n",
       "      <td>861</td>\n",
       "    </tr>\n",
       "    <tr>\n",
       "      <th>6</th>\n",
       "      <td>Other</td>\n",
       "      <td>174</td>\n",
       "    </tr>\n",
       "  </tbody>\n",
       "</table>\n",
       "</div>"
      ],
      "text/plain": [
       "                  LIGHTCOND  count\n",
       "0                  Daylight  90570\n",
       "1   Dark - Street Lights On  35765\n",
       "2                      Dusk   3900\n",
       "3                      Dawn   1661\n",
       "4   Dark - No Street Lights   1150\n",
       "5  Dark - Street Lights Off    861\n",
       "6                     Other    174"
      ]
     },
     "execution_count": 107,
     "metadata": {},
     "output_type": "execute_result"
    }
   ],
   "source": [
    "light = non_severe[['LIGHTCOND']]\n",
    "light = light['LIGHTCOND'].value_counts()\n",
    "light = light.to_frame()\n",
    "light.index.name = 'newhead'\n",
    "light.reset_index(inplace=True)\n",
    "\n",
    "light.rename(columns = {'newhead': 'LIGHTCOND', 'LIGHTCOND': 'count'}, inplace=True)\n",
    "light"
   ]
  },
  {
   "cell_type": "code",
   "execution_count": 108,
   "metadata": {},
   "outputs": [
    {
     "data": {
      "text/plain": [
       "<matplotlib.axes._subplots.AxesSubplot at 0x149ecc54850>"
      ]
     },
     "execution_count": 108,
     "metadata": {},
     "output_type": "execute_result"
    },
    {
     "data": {
      "image/png": "[encoded data removed]",
      "text/plain": [
       "<Figure size 432x288 with 1 Axes>"
      ]
     },
     "metadata": {
      "needs_background": "light"
     },
     "output_type": "display_data"
    }
   ],
   "source": [
    "sns.barplot(x='LIGHTCOND', y='count', data = light)"
   ]
  },
  {
   "cell_type": "code",
   "execution_count": 109,
   "metadata": {},
   "outputs": [
    {
     "data": {
      "text/html": [
       "<div>\n",
       "<style scoped>\n",
       "    .dataframe tbody tr th:only-of-type {\n",
       "        vertical-align: middle;\n",
       "    }\n",
       "\n",
       "    .dataframe tbody tr th {\n",
       "        vertical-align: top;\n",
       "    }\n",
       "\n",
       "    .dataframe thead th {\n",
       "        text-align: right;\n",
       "    }\n",
       "</style>\n",
       "<table border=\"1\" class=\"dataframe\">\n",
       "  <thead>\n",
       "    <tr style=\"text-align: right;\">\n",
       "      <th></th>\n",
       "      <th>LIGHTCOND</th>\n",
       "      <th>count</th>\n",
       "    </tr>\n",
       "  </thead>\n",
       "  <tbody>\n",
       "    <tr>\n",
       "      <th>0</th>\n",
       "      <td>Daylight</td>\n",
       "      <td>39933</td>\n",
       "    </tr>\n",
       "    <tr>\n",
       "      <th>1</th>\n",
       "      <td>Dark - Street Lights On</td>\n",
       "      <td>14529</td>\n",
       "    </tr>\n",
       "    <tr>\n",
       "      <th>2</th>\n",
       "      <td>Dusk</td>\n",
       "      <td>1937</td>\n",
       "    </tr>\n",
       "    <tr>\n",
       "      <th>3</th>\n",
       "      <td>Dawn</td>\n",
       "      <td>822</td>\n",
       "    </tr>\n",
       "    <tr>\n",
       "      <th>4</th>\n",
       "      <td>Dark - No Street Lights</td>\n",
       "      <td>327</td>\n",
       "    </tr>\n",
       "    <tr>\n",
       "      <th>5</th>\n",
       "      <td>Dark - Street Lights Off</td>\n",
       "      <td>315</td>\n",
       "    </tr>\n",
       "    <tr>\n",
       "      <th>6</th>\n",
       "      <td>Other</td>\n",
       "      <td>52</td>\n",
       "    </tr>\n",
       "  </tbody>\n",
       "</table>\n",
       "</div>"
      ],
      "text/plain": [
       "                  LIGHTCOND  count\n",
       "0                  Daylight  39933\n",
       "1   Dark - Street Lights On  14529\n",
       "2                      Dusk   1937\n",
       "3                      Dawn    822\n",
       "4   Dark - No Street Lights    327\n",
       "5  Dark - Street Lights Off    315\n",
       "6                     Other     52"
      ]
     },
     "execution_count": 109,
     "metadata": {},
     "output_type": "execute_result"
    }
   ],
   "source": [
    "light = severe[['LIGHTCOND']]\n",
    "light = light['LIGHTCOND'].value_counts()\n",
    "light = light.to_frame()\n",
    "light.index.name = 'newhead'\n",
    "light.reset_index(inplace=True)\n",
    "\n",
    "light.rename(columns = {'newhead': 'LIGHTCOND', 'LIGHTCOND': 'count'}, inplace=True)\n",
    "light"
   ]
  },
  {
   "cell_type": "code",
   "execution_count": 110,
   "metadata": {},
   "outputs": [
    {
     "data": {
      "text/plain": [
       "<matplotlib.axes._subplots.AxesSubplot at 0x149ec4cd190>"
      ]
     },
     "execution_count": 110,
     "metadata": {},
     "output_type": "execute_result"
    },
    {
     "data": {
      "image/png": "[encoded data removed]",
      "text/plain": [
       "<Figure size 432x288 with 1 Axes>"
      ]
     },
     "metadata": {
      "needs_background": "light"
     },
     "output_type": "display_data"
    }
   ],
   "source": [
    "sns.barplot(x='LIGHTCOND', y='count', data = light)"
   ]
  },
  {
   "cell_type": "markdown",
   "metadata": {},
   "source": [
    "The lighting condition does not differ among different accident severities so we will leave this variable out of our model"
   ]
  },
  {
   "cell_type": "code",
   "execution_count": 111,
   "metadata": {},
   "outputs": [
    {
     "data": {
      "text/plain": [
       "SEVERITYCODE    object\n",
       "STATUS          object\n",
       "ADDRTYPE        object\n",
       "LOCATION        object\n",
       "PERSONCOUNT      int64\n",
       "PEDCOUNT         int64\n",
       "PEDCYLCOUNT      int64\n",
       "VEHCOUNT         int64\n",
       "INCDTTM         object\n",
       "JUNCTIONTYPE    object\n",
       "SDOT_COLCODE    object\n",
       "UNDERINFL       object\n",
       "WEATHER         object\n",
       "ROADCOND        object\n",
       "LIGHTCOND       object\n",
       "ST_COLCODE      object\n",
       "HITPARKEDCAR    object\n",
       "dtype: object"
      ]
     },
     "execution_count": 111,
     "metadata": {},
     "output_type": "execute_result"
    }
   ],
   "source": [
    "df.dtypes"
   ]
  },
  {
   "cell_type": "code",
   "execution_count": 112,
   "metadata": {},
   "outputs": [
    {
     "data": {
      "text/html": [
       "<div>\n",
       "<style scoped>\n",
       "    .dataframe tbody tr th:only-of-type {\n",
       "        vertical-align: middle;\n",
       "    }\n",
       "\n",
       "    .dataframe tbody tr th {\n",
       "        vertical-align: top;\n",
       "    }\n",
       "\n",
       "    .dataframe thead th {\n",
       "        text-align: right;\n",
       "    }\n",
       "</style>\n",
       "<table border=\"1\" class=\"dataframe\">\n",
       "  <thead>\n",
       "    <tr style=\"text-align: right;\">\n",
       "      <th></th>\n",
       "      <th>ST_COLCODE</th>\n",
       "      <th>count</th>\n",
       "    </tr>\n",
       "  </thead>\n",
       "  <tbody>\n",
       "    <tr>\n",
       "      <th>0</th>\n",
       "      <td>32</td>\n",
       "      <td>40859</td>\n",
       "    </tr>\n",
       "    <tr>\n",
       "      <th>1</th>\n",
       "      <td>10</td>\n",
       "      <td>20951</td>\n",
       "    </tr>\n",
       "    <tr>\n",
       "      <th>2</th>\n",
       "      <td>14</td>\n",
       "      <td>14286</td>\n",
       "    </tr>\n",
       "    <tr>\n",
       "      <th>3</th>\n",
       "      <td>11</td>\n",
       "      <td>10924</td>\n",
       "    </tr>\n",
       "    <tr>\n",
       "      <th>4</th>\n",
       "      <td>50</td>\n",
       "      <td>9985</td>\n",
       "    </tr>\n",
       "    <tr>\n",
       "      <th>...</th>\n",
       "      <td>...</td>\n",
       "      <td>...</td>\n",
       "    </tr>\n",
       "    <tr>\n",
       "      <th>56</th>\n",
       "      <td>8</td>\n",
       "      <td>2</td>\n",
       "    </tr>\n",
       "    <tr>\n",
       "      <th>57</th>\n",
       "      <td>43</td>\n",
       "      <td>2</td>\n",
       "    </tr>\n",
       "    <tr>\n",
       "      <th>58</th>\n",
       "      <td>7</td>\n",
       "      <td>1</td>\n",
       "    </tr>\n",
       "    <tr>\n",
       "      <th>59</th>\n",
       "      <td>85</td>\n",
       "      <td>1</td>\n",
       "    </tr>\n",
       "    <tr>\n",
       "      <th>60</th>\n",
       "      <td>60</td>\n",
       "      <td>1</td>\n",
       "    </tr>\n",
       "  </tbody>\n",
       "</table>\n",
       "<p>61 rows × 2 columns</p>\n",
       "</div>"
      ],
      "text/plain": [
       "   ST_COLCODE  count\n",
       "0          32  40859\n",
       "1          10  20951\n",
       "2          14  14286\n",
       "3          11  10924\n",
       "4          50   9985\n",
       "..        ...    ...\n",
       "56          8      2\n",
       "57         43      2\n",
       "58          7      1\n",
       "59         85      1\n",
       "60         60      1\n",
       "\n",
       "[61 rows x 2 columns]"
      ]
     },
     "execution_count": 112,
     "metadata": {},
     "output_type": "execute_result"
    }
   ],
   "source": [
    "st_colcode = non_severe[['ST_COLCODE']]\n",
    "st_colcode = st_colcode['ST_COLCODE'].value_counts()\n",
    "st_colcode = st_colcode.to_frame()\n",
    "st_colcode.index.name = 'newhead'\n",
    "st_colcode.reset_index(inplace=True)\n",
    "\n",
    "st_colcode.rename(columns = {'newhead': 'ST_COLCODE', 'ST_COLCODE': 'count'}, inplace=True)\n",
    "st_colcode"
   ]
  },
  {
   "cell_type": "code",
   "execution_count": 113,
   "metadata": {},
   "outputs": [
    {
     "data": {
      "text/plain": [
       "<matplotlib.axes._subplots.AxesSubplot at 0x149edc1d670>"
      ]
     },
     "execution_count": 113,
     "metadata": {},
     "output_type": "execute_result"
    },
    {
     "data": {
      "image/png": "[encoded data removed]",
      "text/plain": [
       "<Figure size 432x288 with 1 Axes>"
      ]
     },
     "metadata": {
      "needs_background": "light"
     },
     "output_type": "display_data"
    }
   ],
   "source": [
    "sns.barplot(x='ST_COLCODE', y='count', data = st_colcode)"
   ]
  },
  {
   "cell_type": "code",
   "execution_count": 114,
   "metadata": {},
   "outputs": [
    {
     "data": {
      "text/html": [
       "<div>\n",
       "<style scoped>\n",
       "    .dataframe tbody tr th:only-of-type {\n",
       "        vertical-align: middle;\n",
       "    }\n",
       "\n",
       "    .dataframe tbody tr th {\n",
       "        vertical-align: top;\n",
       "    }\n",
       "\n",
       "    .dataframe thead th {\n",
       "        text-align: right;\n",
       "    }\n",
       "</style>\n",
       "<table border=\"1\" class=\"dataframe\">\n",
       "  <thead>\n",
       "    <tr style=\"text-align: right;\">\n",
       "      <th></th>\n",
       "      <th>ST_COLCODE</th>\n",
       "      <th>count</th>\n",
       "    </tr>\n",
       "  </thead>\n",
       "  <tbody>\n",
       "    <tr>\n",
       "      <th>0</th>\n",
       "      <td>10</td>\n",
       "      <td>13600</td>\n",
       "    </tr>\n",
       "    <tr>\n",
       "      <th>1</th>\n",
       "      <td>14</td>\n",
       "      <td>11303</td>\n",
       "    </tr>\n",
       "    <tr>\n",
       "      <th>2</th>\n",
       "      <td>28</td>\n",
       "      <td>4626</td>\n",
       "    </tr>\n",
       "    <tr>\n",
       "      <th>3</th>\n",
       "      <td>45</td>\n",
       "      <td>4113</td>\n",
       "    </tr>\n",
       "    <tr>\n",
       "      <th>4</th>\n",
       "      <td>50</td>\n",
       "      <td>3261</td>\n",
       "    </tr>\n",
       "    <tr>\n",
       "      <th>5</th>\n",
       "      <td>13</td>\n",
       "      <td>3030</td>\n",
       "    </tr>\n",
       "    <tr>\n",
       "      <th>6</th>\n",
       "      <td>0</td>\n",
       "      <td>2547</td>\n",
       "    </tr>\n",
       "    <tr>\n",
       "      <th>7</th>\n",
       "      <td>32</td>\n",
       "      <td>2154</td>\n",
       "    </tr>\n",
       "    <tr>\n",
       "      <th>8</th>\n",
       "      <td>2</td>\n",
       "      <td>1998</td>\n",
       "    </tr>\n",
       "    <tr>\n",
       "      <th>9</th>\n",
       "      <td>11</td>\n",
       "      <td>1747</td>\n",
       "    </tr>\n",
       "    <tr>\n",
       "      <th>10</th>\n",
       "      <td>1</td>\n",
       "      <td>1055</td>\n",
       "    </tr>\n",
       "    <tr>\n",
       "      <th>11</th>\n",
       "      <td></td>\n",
       "      <td>1006</td>\n",
       "    </tr>\n",
       "    <tr>\n",
       "      <th>12</th>\n",
       "      <td>23</td>\n",
       "      <td>831</td>\n",
       "    </tr>\n",
       "    <tr>\n",
       "      <th>13</th>\n",
       "      <td>15</td>\n",
       "      <td>730</td>\n",
       "    </tr>\n",
       "    <tr>\n",
       "      <th>14</th>\n",
       "      <td>52</td>\n",
       "      <td>617</td>\n",
       "    </tr>\n",
       "    <tr>\n",
       "      <th>15</th>\n",
       "      <td>22</td>\n",
       "      <td>609</td>\n",
       "    </tr>\n",
       "    <tr>\n",
       "      <th>16</th>\n",
       "      <td>16</td>\n",
       "      <td>606</td>\n",
       "    </tr>\n",
       "    <tr>\n",
       "      <th>17</th>\n",
       "      <td>21</td>\n",
       "      <td>546</td>\n",
       "    </tr>\n",
       "    <tr>\n",
       "      <th>18</th>\n",
       "      <td>30</td>\n",
       "      <td>447</td>\n",
       "    </tr>\n",
       "    <tr>\n",
       "      <th>19</th>\n",
       "      <td>20</td>\n",
       "      <td>438</td>\n",
       "    </tr>\n",
       "    <tr>\n",
       "      <th>20</th>\n",
       "      <td>24</td>\n",
       "      <td>373</td>\n",
       "    </tr>\n",
       "    <tr>\n",
       "      <th>21</th>\n",
       "      <td>5</td>\n",
       "      <td>355</td>\n",
       "    </tr>\n",
       "    <tr>\n",
       "      <th>22</th>\n",
       "      <td>26</td>\n",
       "      <td>280</td>\n",
       "    </tr>\n",
       "    <tr>\n",
       "      <th>23</th>\n",
       "      <td>12</td>\n",
       "      <td>245</td>\n",
       "    </tr>\n",
       "    <tr>\n",
       "      <th>24</th>\n",
       "      <td>6</td>\n",
       "      <td>228</td>\n",
       "    </tr>\n",
       "    <tr>\n",
       "      <th>25</th>\n",
       "      <td>3</td>\n",
       "      <td>203</td>\n",
       "    </tr>\n",
       "    <tr>\n",
       "      <th>26</th>\n",
       "      <td>74</td>\n",
       "      <td>140</td>\n",
       "    </tr>\n",
       "    <tr>\n",
       "      <th>27</th>\n",
       "      <td>4</td>\n",
       "      <td>93</td>\n",
       "    </tr>\n",
       "    <tr>\n",
       "      <th>28</th>\n",
       "      <td>71</td>\n",
       "      <td>85</td>\n",
       "    </tr>\n",
       "    <tr>\n",
       "      <th>29</th>\n",
       "      <td>19</td>\n",
       "      <td>74</td>\n",
       "    </tr>\n",
       "    <tr>\n",
       "      <th>30</th>\n",
       "      <td>81</td>\n",
       "      <td>69</td>\n",
       "    </tr>\n",
       "    <tr>\n",
       "      <th>31</th>\n",
       "      <td>51</td>\n",
       "      <td>65</td>\n",
       "    </tr>\n",
       "    <tr>\n",
       "      <th>32</th>\n",
       "      <td>73</td>\n",
       "      <td>55</td>\n",
       "    </tr>\n",
       "    <tr>\n",
       "      <th>33</th>\n",
       "      <td>27</td>\n",
       "      <td>52</td>\n",
       "    </tr>\n",
       "    <tr>\n",
       "      <th>34</th>\n",
       "      <td>25</td>\n",
       "      <td>51</td>\n",
       "    </tr>\n",
       "    <tr>\n",
       "      <th>35</th>\n",
       "      <td>29</td>\n",
       "      <td>49</td>\n",
       "    </tr>\n",
       "    <tr>\n",
       "      <th>36</th>\n",
       "      <td>84</td>\n",
       "      <td>32</td>\n",
       "    </tr>\n",
       "    <tr>\n",
       "      <th>37</th>\n",
       "      <td>57</td>\n",
       "      <td>32</td>\n",
       "    </tr>\n",
       "    <tr>\n",
       "      <th>38</th>\n",
       "      <td>8</td>\n",
       "      <td>21</td>\n",
       "    </tr>\n",
       "    <tr>\n",
       "      <th>39</th>\n",
       "      <td>40</td>\n",
       "      <td>21</td>\n",
       "    </tr>\n",
       "    <tr>\n",
       "      <th>40</th>\n",
       "      <td>83</td>\n",
       "      <td>21</td>\n",
       "    </tr>\n",
       "    <tr>\n",
       "      <th>41</th>\n",
       "      <td>53</td>\n",
       "      <td>20</td>\n",
       "    </tr>\n",
       "    <tr>\n",
       "      <th>42</th>\n",
       "      <td>7</td>\n",
       "      <td>17</td>\n",
       "    </tr>\n",
       "    <tr>\n",
       "      <th>43</th>\n",
       "      <td>41</td>\n",
       "      <td>13</td>\n",
       "    </tr>\n",
       "    <tr>\n",
       "      <th>44</th>\n",
       "      <td>31</td>\n",
       "      <td>10</td>\n",
       "    </tr>\n",
       "    <tr>\n",
       "      <th>45</th>\n",
       "      <td>64</td>\n",
       "      <td>9</td>\n",
       "    </tr>\n",
       "    <tr>\n",
       "      <th>46</th>\n",
       "      <td>56</td>\n",
       "      <td>9</td>\n",
       "    </tr>\n",
       "    <tr>\n",
       "      <th>47</th>\n",
       "      <td>72</td>\n",
       "      <td>8</td>\n",
       "    </tr>\n",
       "    <tr>\n",
       "      <th>48</th>\n",
       "      <td>66</td>\n",
       "      <td>4</td>\n",
       "    </tr>\n",
       "    <tr>\n",
       "      <th>49</th>\n",
       "      <td>88</td>\n",
       "      <td>3</td>\n",
       "    </tr>\n",
       "    <tr>\n",
       "      <th>50</th>\n",
       "      <td>42</td>\n",
       "      <td>2</td>\n",
       "    </tr>\n",
       "    <tr>\n",
       "      <th>51</th>\n",
       "      <td>17</td>\n",
       "      <td>2</td>\n",
       "    </tr>\n",
       "    <tr>\n",
       "      <th>52</th>\n",
       "      <td>82</td>\n",
       "      <td>2</td>\n",
       "    </tr>\n",
       "    <tr>\n",
       "      <th>53</th>\n",
       "      <td>48</td>\n",
       "      <td>2</td>\n",
       "    </tr>\n",
       "    <tr>\n",
       "      <th>54</th>\n",
       "      <td>67</td>\n",
       "      <td>2</td>\n",
       "    </tr>\n",
       "    <tr>\n",
       "      <th>55</th>\n",
       "      <td>87</td>\n",
       "      <td>2</td>\n",
       "    </tr>\n",
       "    <tr>\n",
       "      <th>56</th>\n",
       "      <td>49</td>\n",
       "      <td>1</td>\n",
       "    </tr>\n",
       "    <tr>\n",
       "      <th>57</th>\n",
       "      <td>54</td>\n",
       "      <td>1</td>\n",
       "    </tr>\n",
       "  </tbody>\n",
       "</table>\n",
       "</div>"
      ],
      "text/plain": [
       "   ST_COLCODE  count\n",
       "0          10  13600\n",
       "1          14  11303\n",
       "2          28   4626\n",
       "3          45   4113\n",
       "4          50   3261\n",
       "5          13   3030\n",
       "6           0   2547\n",
       "7          32   2154\n",
       "8           2   1998\n",
       "9          11   1747\n",
       "10          1   1055\n",
       "11              1006\n",
       "12         23    831\n",
       "13         15    730\n",
       "14         52    617\n",
       "15         22    609\n",
       "16         16    606\n",
       "17         21    546\n",
       "18         30    447\n",
       "19         20    438\n",
       "20         24    373\n",
       "21          5    355\n",
       "22         26    280\n",
       "23         12    245\n",
       "24          6    228\n",
       "25          3    203\n",
       "26         74    140\n",
       "27          4     93\n",
       "28         71     85\n",
       "29         19     74\n",
       "30         81     69\n",
       "31         51     65\n",
       "32         73     55\n",
       "33         27     52\n",
       "34         25     51\n",
       "35         29     49\n",
       "36         84     32\n",
       "37         57     32\n",
       "38          8     21\n",
       "39         40     21\n",
       "40         83     21\n",
       "41         53     20\n",
       "42          7     17\n",
       "43         41     13\n",
       "44         31     10\n",
       "45         64      9\n",
       "46         56      9\n",
       "47         72      8\n",
       "48         66      4\n",
       "49         88      3\n",
       "50         42      2\n",
       "51         17      2\n",
       "52         82      2\n",
       "53         48      2\n",
       "54         67      2\n",
       "55         87      2\n",
       "56         49      1\n",
       "57         54      1"
      ]
     },
     "execution_count": 114,
     "metadata": {},
     "output_type": "execute_result"
    }
   ],
   "source": [
    "st_colcode = severe[['ST_COLCODE']]\n",
    "st_colcode = st_colcode['ST_COLCODE'].value_counts()\n",
    "st_colcode = st_colcode.to_frame()\n",
    "st_colcode.index.name = 'newhead'\n",
    "st_colcode.reset_index(inplace=True)\n",
    "\n",
    "st_colcode.rename(columns = {'newhead': 'ST_COLCODE', 'ST_COLCODE': 'count'}, inplace=True)\n",
    "st_colcode"
   ]
  },
  {
   "cell_type": "code",
   "execution_count": 115,
   "metadata": {},
   "outputs": [
    {
     "data": {
      "text/plain": [
       "<matplotlib.axes._subplots.AxesSubplot at 0x149edefea90>"
      ]
     },
     "execution_count": 115,
     "metadata": {},
     "output_type": "execute_result"
    },
    {
     "data": {
      "image/png": "[encoded data removed]",
      "text/plain": [
       "<Figure size 432x288 with 1 Axes>"
      ]
     },
     "metadata": {
      "needs_background": "light"
     },
     "output_type": "display_data"
    }
   ],
   "source": [
    "sns.barplot(x='ST_COLCODE', y='count', data = st_colcode)"
   ]
  },
  {
   "cell_type": "markdown",
   "metadata": {},
   "source": [
    "There is a clear difference in state colcode since the highest frequency value for non-severe accidents is 32 and the highest frequency value for injury accidents is 10. We will include this variable in our model"
   ]
  },
  {
   "cell_type": "code",
   "execution_count": 116,
   "metadata": {},
   "outputs": [
    {
     "data": {
      "text/html": [
       "<div>\n",
       "<style scoped>\n",
       "    .dataframe tbody tr th:only-of-type {\n",
       "        vertical-align: middle;\n",
       "    }\n",
       "\n",
       "    .dataframe tbody tr th {\n",
       "        vertical-align: top;\n",
       "    }\n",
       "\n",
       "    .dataframe thead th {\n",
       "        text-align: right;\n",
       "    }\n",
       "</style>\n",
       "<table border=\"1\" class=\"dataframe\">\n",
       "  <thead>\n",
       "    <tr style=\"text-align: right;\">\n",
       "      <th></th>\n",
       "      <th>HITPARKEDCAR</th>\n",
       "      <th>count</th>\n",
       "    </tr>\n",
       "  </thead>\n",
       "  <tbody>\n",
       "    <tr>\n",
       "      <th>0</th>\n",
       "      <td>N</td>\n",
       "      <td>127512</td>\n",
       "    </tr>\n",
       "    <tr>\n",
       "      <th>1</th>\n",
       "      <td>Y</td>\n",
       "      <td>6569</td>\n",
       "    </tr>\n",
       "  </tbody>\n",
       "</table>\n",
       "</div>"
      ],
      "text/plain": [
       "  HITPARKEDCAR   count\n",
       "0            N  127512\n",
       "1            Y    6569"
      ]
     },
     "execution_count": 116,
     "metadata": {},
     "output_type": "execute_result"
    }
   ],
   "source": [
    "parkedcar = non_severe[['HITPARKEDCAR']]\n",
    "parkedcar = parkedcar['HITPARKEDCAR'].value_counts()\n",
    "parkedcar = parkedcar.to_frame()\n",
    "parkedcar.index.name = 'newhead'\n",
    "parkedcar.reset_index(inplace=True)\n",
    "\n",
    "parkedcar.rename(columns = {'newhead': 'HITPARKEDCAR', 'HITPARKEDCAR': 'count'}, inplace=True)\n",
    "parkedcar.head()"
   ]
  },
  {
   "cell_type": "code",
   "execution_count": 117,
   "metadata": {},
   "outputs": [
    {
     "data": {
      "text/plain": [
       "<matplotlib.axes._subplots.AxesSubplot at 0x149eead4e80>"
      ]
     },
     "execution_count": 117,
     "metadata": {},
     "output_type": "execute_result"
    },
    {
     "data": {
      "image/png": "[encoded data removed]",
      "text/plain": [
       "<Figure size 432x288 with 1 Axes>"
      ]
     },
     "metadata": {
      "needs_background": "light"
     },
     "output_type": "display_data"
    }
   ],
   "source": [
    "sns.barplot(x='HITPARKEDCAR', y='count', data = parkedcar)"
   ]
  },
  {
   "cell_type": "code",
   "execution_count": 118,
   "metadata": {},
   "outputs": [
    {
     "data": {
      "text/html": [
       "<div>\n",
       "<style scoped>\n",
       "    .dataframe tbody tr th:only-of-type {\n",
       "        vertical-align: middle;\n",
       "    }\n",
       "\n",
       "    .dataframe tbody tr th {\n",
       "        vertical-align: top;\n",
       "    }\n",
       "\n",
       "    .dataframe thead th {\n",
       "        text-align: right;\n",
       "    }\n",
       "</style>\n",
       "<table border=\"1\" class=\"dataframe\">\n",
       "  <thead>\n",
       "    <tr style=\"text-align: right;\">\n",
       "      <th></th>\n",
       "      <th>HITPARKEDCAR</th>\n",
       "      <th>count</th>\n",
       "    </tr>\n",
       "  </thead>\n",
       "  <tbody>\n",
       "    <tr>\n",
       "      <th>0</th>\n",
       "      <td>N</td>\n",
       "      <td>57469</td>\n",
       "    </tr>\n",
       "    <tr>\n",
       "      <th>1</th>\n",
       "      <td>Y</td>\n",
       "      <td>446</td>\n",
       "    </tr>\n",
       "  </tbody>\n",
       "</table>\n",
       "</div>"
      ],
      "text/plain": [
       "  HITPARKEDCAR  count\n",
       "0            N  57469\n",
       "1            Y    446"
      ]
     },
     "execution_count": 118,
     "metadata": {},
     "output_type": "execute_result"
    }
   ],
   "source": [
    "parkedcar = severe[['HITPARKEDCAR']]\n",
    "parkedcar = parkedcar['HITPARKEDCAR'].value_counts()\n",
    "parkedcar = parkedcar.to_frame()\n",
    "parkedcar.index.name = 'newhead'\n",
    "parkedcar.reset_index(inplace=True)\n",
    "\n",
    "parkedcar.rename(columns = {'newhead': 'HITPARKEDCAR', 'HITPARKEDCAR': 'count'}, inplace=True)\n",
    "parkedcar.head()"
   ]
  },
  {
   "cell_type": "code",
   "execution_count": 119,
   "metadata": {},
   "outputs": [
    {
     "data": {
      "text/plain": [
       "<matplotlib.axes._subplots.AxesSubplot at 0x149eeb239d0>"
      ]
     },
     "execution_count": 119,
     "metadata": {},
     "output_type": "execute_result"
    },
    {
     "data": {
      "image/png": "[encoded data removed]",
      "text/plain": [
       "<Figure size 432x288 with 1 Axes>"
      ]
     },
     "metadata": {
      "needs_background": "light"
     },
     "output_type": "display_data"
    }
   ],
   "source": [
    "sns.barplot(x='HITPARKEDCAR', y='count', data = parkedcar)"
   ]
  },
  {
   "cell_type": "markdown",
   "metadata": {},
   "source": [
    "There are alot fewer yes responses to injury related collisions even factoring in the higher sample count in non injury cases, so it would appear to be beneficial including this variable in our model. It logically makes sense that collisions which involve hitting a parked car would only cause property damage in many cases. This backs up that theory."
   ]
  },
  {
   "cell_type": "markdown",
   "metadata": {},
   "source": [
    "### Variable Selection for Model\n",
    "\n",
    "Based on our data analysis, the variables we will use are 'PERSONCOUNT', 'PEDCOUNT', 'VEHCOUNT, 'PEDCYLCOUNT', 'ADDRTYPE', 'LOCATION', 'INCDTTM', 'JUNCTIONTYPE', 'SDOT_COLCODE', 'UNDERINFL', 'WEATHER', 'ST_COLCODE', 'HITPARKEDCAR'. We will drop the other columns"
   ]
  },
  {
   "cell_type": "markdown",
   "metadata": {},
   "source": [
    "Lets see the variables we have thus far and drop the variables we don't need"
   ]
  },
  {
   "cell_type": "code",
   "execution_count": 120,
   "metadata": {},
   "outputs": [
    {
     "data": {
      "text/plain": [
       "SEVERITYCODE    object\n",
       "STATUS          object\n",
       "ADDRTYPE        object\n",
       "LOCATION        object\n",
       "PERSONCOUNT      int64\n",
       "PEDCOUNT         int64\n",
       "PEDCYLCOUNT      int64\n",
       "VEHCOUNT         int64\n",
       "INCDTTM         object\n",
       "JUNCTIONTYPE    object\n",
       "SDOT_COLCODE    object\n",
       "UNDERINFL       object\n",
       "WEATHER         object\n",
       "ROADCOND        object\n",
       "LIGHTCOND       object\n",
       "ST_COLCODE      object\n",
       "HITPARKEDCAR    object\n",
       "dtype: object"
      ]
     },
     "execution_count": 120,
     "metadata": {},
     "output_type": "execute_result"
    }
   ],
   "source": [
    "df.dtypes"
   ]
  },
  {
   "cell_type": "code",
   "execution_count": 121,
   "metadata": {},
   "outputs": [
    {
     "data": {
      "text/html": [
       "<div>\n",
       "<style scoped>\n",
       "    .dataframe tbody tr th:only-of-type {\n",
       "        vertical-align: middle;\n",
       "    }\n",
       "\n",
       "    .dataframe tbody tr th {\n",
       "        vertical-align: top;\n",
       "    }\n",
       "\n",
       "    .dataframe thead th {\n",
       "        text-align: right;\n",
       "    }\n",
       "</style>\n",
       "<table border=\"1\" class=\"dataframe\">\n",
       "  <thead>\n",
       "    <tr style=\"text-align: right;\">\n",
       "      <th></th>\n",
       "      <th>SEVERITYCODE</th>\n",
       "      <th>ADDRTYPE</th>\n",
       "      <th>LOCATION</th>\n",
       "      <th>PERSONCOUNT</th>\n",
       "      <th>PEDCOUNT</th>\n",
       "      <th>PEDCYLCOUNT</th>\n",
       "      <th>VEHCOUNT</th>\n",
       "      <th>INCDTTM</th>\n",
       "      <th>JUNCTIONTYPE</th>\n",
       "      <th>SDOT_COLCODE</th>\n",
       "      <th>UNDERINFL</th>\n",
       "      <th>WEATHER</th>\n",
       "      <th>ST_COLCODE</th>\n",
       "      <th>HITPARKEDCAR</th>\n",
       "    </tr>\n",
       "  </thead>\n",
       "  <tbody>\n",
       "    <tr>\n",
       "      <th>0</th>\n",
       "      <td>2</td>\n",
       "      <td>Intersection</td>\n",
       "      <td>5TH AVE NE AND NE 103RD ST</td>\n",
       "      <td>2</td>\n",
       "      <td>0</td>\n",
       "      <td>0</td>\n",
       "      <td>2</td>\n",
       "      <td>2013-03-27</td>\n",
       "      <td>At Intersection (intersection related)</td>\n",
       "      <td>11</td>\n",
       "      <td>N</td>\n",
       "      <td>Overcast</td>\n",
       "      <td>10</td>\n",
       "      <td>N</td>\n",
       "    </tr>\n",
       "    <tr>\n",
       "      <th>1</th>\n",
       "      <td>1</td>\n",
       "      <td>Block</td>\n",
       "      <td>AURORA BR BETWEEN RAYE ST AND BRIDGE WAY N</td>\n",
       "      <td>2</td>\n",
       "      <td>0</td>\n",
       "      <td>0</td>\n",
       "      <td>2</td>\n",
       "      <td>2006-12-20</td>\n",
       "      <td>Mid-Block (not related to intersection)</td>\n",
       "      <td>16</td>\n",
       "      <td>N</td>\n",
       "      <td>Raining</td>\n",
       "      <td>11</td>\n",
       "      <td>N</td>\n",
       "    </tr>\n",
       "    <tr>\n",
       "      <th>2</th>\n",
       "      <td>1</td>\n",
       "      <td>Block</td>\n",
       "      <td>4TH AVE BETWEEN SENECA ST AND UNIVERSITY ST</td>\n",
       "      <td>4</td>\n",
       "      <td>0</td>\n",
       "      <td>0</td>\n",
       "      <td>3</td>\n",
       "      <td>2004-11-18</td>\n",
       "      <td>Mid-Block (not related to intersection)</td>\n",
       "      <td>14</td>\n",
       "      <td>N</td>\n",
       "      <td>Overcast</td>\n",
       "      <td>32</td>\n",
       "      <td>N</td>\n",
       "    </tr>\n",
       "    <tr>\n",
       "      <th>3</th>\n",
       "      <td>1</td>\n",
       "      <td>Block</td>\n",
       "      <td>2ND AVE BETWEEN MARION ST AND MADISON ST</td>\n",
       "      <td>3</td>\n",
       "      <td>0</td>\n",
       "      <td>0</td>\n",
       "      <td>3</td>\n",
       "      <td>2013-03-29</td>\n",
       "      <td>Mid-Block (not related to intersection)</td>\n",
       "      <td>11</td>\n",
       "      <td>N</td>\n",
       "      <td>Clear</td>\n",
       "      <td>23</td>\n",
       "      <td>N</td>\n",
       "    </tr>\n",
       "    <tr>\n",
       "      <th>4</th>\n",
       "      <td>2</td>\n",
       "      <td>Intersection</td>\n",
       "      <td>SWIFT AVE S AND SWIFT AV OFF RP</td>\n",
       "      <td>2</td>\n",
       "      <td>0</td>\n",
       "      <td>0</td>\n",
       "      <td>2</td>\n",
       "      <td>2004-01-28</td>\n",
       "      <td>At Intersection (intersection related)</td>\n",
       "      <td>11</td>\n",
       "      <td>N</td>\n",
       "      <td>Raining</td>\n",
       "      <td>10</td>\n",
       "      <td>N</td>\n",
       "    </tr>\n",
       "    <tr>\n",
       "      <th>...</th>\n",
       "      <td>...</td>\n",
       "      <td>...</td>\n",
       "      <td>...</td>\n",
       "      <td>...</td>\n",
       "      <td>...</td>\n",
       "      <td>...</td>\n",
       "      <td>...</td>\n",
       "      <td>...</td>\n",
       "      <td>...</td>\n",
       "      <td>...</td>\n",
       "      <td>...</td>\n",
       "      <td>...</td>\n",
       "      <td>...</td>\n",
       "      <td>...</td>\n",
       "    </tr>\n",
       "    <tr>\n",
       "      <th>191991</th>\n",
       "      <td>2</td>\n",
       "      <td>Block</td>\n",
       "      <td>34TH AVE S BETWEEN S DAKOTA ST AND S GENESEE ST</td>\n",
       "      <td>3</td>\n",
       "      <td>0</td>\n",
       "      <td>0</td>\n",
       "      <td>2</td>\n",
       "      <td>2018-11-12</td>\n",
       "      <td>Mid-Block (not related to intersection)</td>\n",
       "      <td>11</td>\n",
       "      <td>N</td>\n",
       "      <td>Clear</td>\n",
       "      <td>24</td>\n",
       "      <td>N</td>\n",
       "    </tr>\n",
       "    <tr>\n",
       "      <th>191992</th>\n",
       "      <td>1</td>\n",
       "      <td>Block</td>\n",
       "      <td>AURORA AVE N BETWEEN N 85TH ST AND N 86TH ST</td>\n",
       "      <td>2</td>\n",
       "      <td>0</td>\n",
       "      <td>0</td>\n",
       "      <td>2</td>\n",
       "      <td>2018-12-18</td>\n",
       "      <td>Mid-Block (not related to intersection)</td>\n",
       "      <td>14</td>\n",
       "      <td>N</td>\n",
       "      <td>Raining</td>\n",
       "      <td>13</td>\n",
       "      <td>N</td>\n",
       "    </tr>\n",
       "    <tr>\n",
       "      <th>191993</th>\n",
       "      <td>2</td>\n",
       "      <td>Intersection</td>\n",
       "      <td>20TH AVE NE AND NE 75TH ST</td>\n",
       "      <td>3</td>\n",
       "      <td>0</td>\n",
       "      <td>0</td>\n",
       "      <td>2</td>\n",
       "      <td>2019-01-19</td>\n",
       "      <td>At Intersection (intersection related)</td>\n",
       "      <td>11</td>\n",
       "      <td>N</td>\n",
       "      <td>Clear</td>\n",
       "      <td>28</td>\n",
       "      <td>N</td>\n",
       "    </tr>\n",
       "    <tr>\n",
       "      <th>191994</th>\n",
       "      <td>2</td>\n",
       "      <td>Intersection</td>\n",
       "      <td>GREENWOOD AVE N AND N 68TH ST</td>\n",
       "      <td>2</td>\n",
       "      <td>0</td>\n",
       "      <td>1</td>\n",
       "      <td>1</td>\n",
       "      <td>2019-01-15</td>\n",
       "      <td>At Intersection (intersection related)</td>\n",
       "      <td>51</td>\n",
       "      <td>N</td>\n",
       "      <td>Clear</td>\n",
       "      <td>5</td>\n",
       "      <td>N</td>\n",
       "    </tr>\n",
       "    <tr>\n",
       "      <th>191995</th>\n",
       "      <td>1</td>\n",
       "      <td>Block</td>\n",
       "      <td>34TH AVE BETWEEN E MARION ST AND E SPRING ST</td>\n",
       "      <td>2</td>\n",
       "      <td>0</td>\n",
       "      <td>0</td>\n",
       "      <td>2</td>\n",
       "      <td>2018-11-30</td>\n",
       "      <td>Mid-Block (not related to intersection)</td>\n",
       "      <td>14</td>\n",
       "      <td>N</td>\n",
       "      <td>Clear</td>\n",
       "      <td>14</td>\n",
       "      <td>N</td>\n",
       "    </tr>\n",
       "  </tbody>\n",
       "</table>\n",
       "<p>191996 rows × 14 columns</p>\n",
       "</div>"
      ],
      "text/plain": [
       "       SEVERITYCODE      ADDRTYPE  \\\n",
       "0                 2  Intersection   \n",
       "1                 1         Block   \n",
       "2                 1         Block   \n",
       "3                 1         Block   \n",
       "4                 2  Intersection   \n",
       "...             ...           ...   \n",
       "191991            2         Block   \n",
       "191992            1         Block   \n",
       "191993            2  Intersection   \n",
       "191994            2  Intersection   \n",
       "191995            1         Block   \n",
       "\n",
       "                                               LOCATION  PERSONCOUNT  \\\n",
       "0                            5TH AVE NE AND NE 103RD ST            2   \n",
       "1            AURORA BR BETWEEN RAYE ST AND BRIDGE WAY N            2   \n",
       "2           4TH AVE BETWEEN SENECA ST AND UNIVERSITY ST            4   \n",
       "3              2ND AVE BETWEEN MARION ST AND MADISON ST            3   \n",
       "4                       SWIFT AVE S AND SWIFT AV OFF RP            2   \n",
       "...                                                 ...          ...   \n",
       "191991  34TH AVE S BETWEEN S DAKOTA ST AND S GENESEE ST            3   \n",
       "191992     AURORA AVE N BETWEEN N 85TH ST AND N 86TH ST            2   \n",
       "191993                       20TH AVE NE AND NE 75TH ST            3   \n",
       "191994                    GREENWOOD AVE N AND N 68TH ST            2   \n",
       "191995     34TH AVE BETWEEN E MARION ST AND E SPRING ST            2   \n",
       "\n",
       "        PEDCOUNT  PEDCYLCOUNT  VEHCOUNT     INCDTTM  \\\n",
       "0              0            0         2  2013-03-27   \n",
       "1              0            0         2  2006-12-20   \n",
       "2              0            0         3  2004-11-18   \n",
       "3              0            0         3  2013-03-29   \n",
       "4              0            0         2  2004-01-28   \n",
       "...          ...          ...       ...         ...   \n",
       "191991         0            0         2  2018-11-12   \n",
       "191992         0            0         2  2018-12-18   \n",
       "191993         0            0         2  2019-01-19   \n",
       "191994         0            1         1  2019-01-15   \n",
       "191995         0            0         2  2018-11-30   \n",
       "\n",
       "                                   JUNCTIONTYPE SDOT_COLCODE UNDERINFL  \\\n",
       "0        At Intersection (intersection related)           11         N   \n",
       "1       Mid-Block (not related to intersection)           16         N   \n",
       "2       Mid-Block (not related to intersection)           14         N   \n",
       "3       Mid-Block (not related to intersection)           11         N   \n",
       "4        At Intersection (intersection related)           11         N   \n",
       "...                                         ...          ...       ...   \n",
       "191991  Mid-Block (not related to intersection)           11         N   \n",
       "191992  Mid-Block (not related to intersection)           14         N   \n",
       "191993   At Intersection (intersection related)           11         N   \n",
       "191994   At Intersection (intersection related)           51         N   \n",
       "191995  Mid-Block (not related to intersection)           14         N   \n",
       "\n",
       "         WEATHER ST_COLCODE HITPARKEDCAR  \n",
       "0       Overcast         10            N  \n",
       "1        Raining         11            N  \n",
       "2       Overcast         32            N  \n",
       "3          Clear         23            N  \n",
       "4        Raining         10            N  \n",
       "...          ...        ...          ...  \n",
       "191991     Clear         24            N  \n",
       "191992   Raining         13            N  \n",
       "191993     Clear         28            N  \n",
       "191994     Clear          5            N  \n",
       "191995     Clear         14            N  \n",
       "\n",
       "[191996 rows x 14 columns]"
      ]
     },
     "execution_count": 121,
     "metadata": {},
     "output_type": "execute_result"
    }
   ],
   "source": [
    "drop_list = ['STATUS',  'ROADCOND', 'LIGHTCOND']\n",
    "new_df = df\n",
    "new_df.drop(drop_list, axis=1, inplace=True)\n",
    "new_df"
   ]
  },
  {
   "cell_type": "markdown",
   "metadata": {},
   "source": [
    "Now we must convert our categorical values into numbers since they must be able to be used in our model. To do this, we use the factorize method in pandas to convert categorical columns in numerical columns"
   ]
  },
  {
   "cell_type": "code",
   "execution_count": 122,
   "metadata": {},
   "outputs": [
    {
     "data": {
      "text/plain": [
       "SEVERITYCODE    object\n",
       "ADDRTYPE        object\n",
       "LOCATION        object\n",
       "PERSONCOUNT      int64\n",
       "PEDCOUNT         int64\n",
       "PEDCYLCOUNT      int64\n",
       "VEHCOUNT         int64\n",
       "INCDTTM         object\n",
       "JUNCTIONTYPE    object\n",
       "SDOT_COLCODE    object\n",
       "UNDERINFL       object\n",
       "WEATHER         object\n",
       "ST_COLCODE      object\n",
       "HITPARKEDCAR    object\n",
       "dtype: object"
      ]
     },
     "execution_count": 122,
     "metadata": {},
     "output_type": "execute_result"
    }
   ],
   "source": [
    "new_df.dtypes"
   ]
  },
  {
   "cell_type": "code",
   "execution_count": 123,
   "metadata": {},
   "outputs": [],
   "source": [
    "addr = new_df['ADDRTYPE']\n",
    "codes_addr, uniques_addr = pd.factorize(addr)\n",
    "new_df['ADDRTYPE'] = codes_addr"
   ]
  },
  {
   "cell_type": "code",
   "execution_count": 124,
   "metadata": {},
   "outputs": [],
   "source": [
    "location = new_df['LOCATION']\n",
    "codes_location, uniques_location = pd.factorize(location)\n",
    "new_df['LOCATION'] = codes_location"
   ]
  },
  {
   "cell_type": "code",
   "execution_count": 125,
   "metadata": {},
   "outputs": [],
   "source": [
    "date = new_df['INCDTTM']\n",
    "codes_date, uniques_date = pd.factorize(date)\n",
    "new_df['INCDTTM'] = codes_date"
   ]
  },
  {
   "cell_type": "code",
   "execution_count": 126,
   "metadata": {},
   "outputs": [],
   "source": [
    "junc = new_df['JUNCTIONTYPE']\n",
    "codes_junc, uniques_junc = pd.factorize(junc)\n",
    "new_df['JUNCTIONTYPE'] = codes_junc"
   ]
  },
  {
   "cell_type": "code",
   "execution_count": 127,
   "metadata": {},
   "outputs": [],
   "source": [
    "sdot = new_df['SDOT_COLCODE']\n",
    "codes_sdot, uniques_sdot = pd.factorize(sdot)\n",
    "new_df['SDOT_COLCODE'] = codes_sdot"
   ]
  },
  {
   "cell_type": "code",
   "execution_count": 128,
   "metadata": {},
   "outputs": [],
   "source": [
    "infl = new_df['UNDERINFL']\n",
    "codes_infl, uniques_infl = pd.factorize(infl)\n",
    "new_df['UNDERINFL'] = codes_infl"
   ]
  },
  {
   "cell_type": "code",
   "execution_count": 129,
   "metadata": {},
   "outputs": [],
   "source": [
    "weather = new_df['WEATHER']\n",
    "codes_weather, uniques_weather = pd.factorize(weather)\n",
    "new_df['WEATHER'] = codes_weather"
   ]
  },
  {
   "cell_type": "code",
   "execution_count": 130,
   "metadata": {},
   "outputs": [],
   "source": [
    "st_colcode = new_df['ST_COLCODE']\n",
    "codes_st_colcode, uniques_st_colcode = pd.factorize(st_colcode)\n",
    "new_df['ST_COLCODE'] = codes_st_colcode"
   ]
  },
  {
   "cell_type": "code",
   "execution_count": 131,
   "metadata": {},
   "outputs": [],
   "source": [
    "parked = new_df['HITPARKEDCAR']\n",
    "codes_parked, uniques_parked = pd.factorize(parked)\n",
    "new_df['HITPARKEDCAR'] = codes_parked"
   ]
  },
  {
   "cell_type": "markdown",
   "metadata": {},
   "source": [
    "Now we get our y vector. This vector contains the labels for every row in our dataset. The dependent variable in our model is the 'SEVERITYCODE' column. We will use this column as our y vector and convert it to integer values "
   ]
  },
  {
   "cell_type": "code",
   "execution_count": 132,
   "metadata": {},
   "outputs": [
    {
     "data": {
      "text/plain": [
       "0    2\n",
       "1    1\n",
       "2    1\n",
       "3    1\n",
       "4    2\n",
       "Name: SEVERITYCODE, dtype: int32"
      ]
     },
     "execution_count": 132,
     "metadata": {},
     "output_type": "execute_result"
    }
   ],
   "source": [
    "y = new_df['SEVERITYCODE']\n",
    "y = y.astype(int)\n",
    "y.head()"
   ]
  },
  {
   "cell_type": "markdown",
   "metadata": {},
   "source": [
    "We can now drop the SEVERITYCODE column from our matrix and label it as X"
   ]
  },
  {
   "cell_type": "code",
   "execution_count": 133,
   "metadata": {},
   "outputs": [],
   "source": [
    "X = new_df.drop('SEVERITYCODE', axis=1)"
   ]
  },
  {
   "cell_type": "markdown",
   "metadata": {},
   "source": [
    "Let's have a look at the data"
   ]
  },
  {
   "cell_type": "code",
   "execution_count": 134,
   "metadata": {},
   "outputs": [
    {
     "data": {
      "text/html": [
       "<div>\n",
       "<style scoped>\n",
       "    .dataframe tbody tr th:only-of-type {\n",
       "        vertical-align: middle;\n",
       "    }\n",
       "\n",
       "    .dataframe tbody tr th {\n",
       "        vertical-align: top;\n",
       "    }\n",
       "\n",
       "    .dataframe thead th {\n",
       "        text-align: right;\n",
       "    }\n",
       "</style>\n",
       "<table border=\"1\" class=\"dataframe\">\n",
       "  <thead>\n",
       "    <tr style=\"text-align: right;\">\n",
       "      <th></th>\n",
       "      <th>ADDRTYPE</th>\n",
       "      <th>LOCATION</th>\n",
       "      <th>PERSONCOUNT</th>\n",
       "      <th>PEDCOUNT</th>\n",
       "      <th>PEDCYLCOUNT</th>\n",
       "      <th>VEHCOUNT</th>\n",
       "      <th>INCDTTM</th>\n",
       "      <th>JUNCTIONTYPE</th>\n",
       "      <th>SDOT_COLCODE</th>\n",
       "      <th>UNDERINFL</th>\n",
       "      <th>WEATHER</th>\n",
       "      <th>ST_COLCODE</th>\n",
       "      <th>HITPARKEDCAR</th>\n",
       "    </tr>\n",
       "  </thead>\n",
       "  <tbody>\n",
       "    <tr>\n",
       "      <th>0</th>\n",
       "      <td>0</td>\n",
       "      <td>0</td>\n",
       "      <td>2</td>\n",
       "      <td>0</td>\n",
       "      <td>0</td>\n",
       "      <td>2</td>\n",
       "      <td>0</td>\n",
       "      <td>0</td>\n",
       "      <td>0</td>\n",
       "      <td>0</td>\n",
       "      <td>0</td>\n",
       "      <td>0</td>\n",
       "      <td>0</td>\n",
       "    </tr>\n",
       "    <tr>\n",
       "      <th>1</th>\n",
       "      <td>1</td>\n",
       "      <td>1</td>\n",
       "      <td>2</td>\n",
       "      <td>0</td>\n",
       "      <td>0</td>\n",
       "      <td>2</td>\n",
       "      <td>1</td>\n",
       "      <td>1</td>\n",
       "      <td>1</td>\n",
       "      <td>0</td>\n",
       "      <td>1</td>\n",
       "      <td>1</td>\n",
       "      <td>0</td>\n",
       "    </tr>\n",
       "    <tr>\n",
       "      <th>2</th>\n",
       "      <td>1</td>\n",
       "      <td>2</td>\n",
       "      <td>4</td>\n",
       "      <td>0</td>\n",
       "      <td>0</td>\n",
       "      <td>3</td>\n",
       "      <td>2</td>\n",
       "      <td>1</td>\n",
       "      <td>2</td>\n",
       "      <td>0</td>\n",
       "      <td>0</td>\n",
       "      <td>2</td>\n",
       "      <td>0</td>\n",
       "    </tr>\n",
       "    <tr>\n",
       "      <th>3</th>\n",
       "      <td>1</td>\n",
       "      <td>3</td>\n",
       "      <td>3</td>\n",
       "      <td>0</td>\n",
       "      <td>0</td>\n",
       "      <td>3</td>\n",
       "      <td>3</td>\n",
       "      <td>1</td>\n",
       "      <td>0</td>\n",
       "      <td>0</td>\n",
       "      <td>2</td>\n",
       "      <td>3</td>\n",
       "      <td>0</td>\n",
       "    </tr>\n",
       "    <tr>\n",
       "      <th>4</th>\n",
       "      <td>0</td>\n",
       "      <td>4</td>\n",
       "      <td>2</td>\n",
       "      <td>0</td>\n",
       "      <td>0</td>\n",
       "      <td>2</td>\n",
       "      <td>4</td>\n",
       "      <td>0</td>\n",
       "      <td>0</td>\n",
       "      <td>0</td>\n",
       "      <td>1</td>\n",
       "      <td>0</td>\n",
       "      <td>0</td>\n",
       "    </tr>\n",
       "  </tbody>\n",
       "</table>\n",
       "</div>"
      ],
      "text/plain": [
       "   ADDRTYPE  LOCATION  PERSONCOUNT  PEDCOUNT  PEDCYLCOUNT  VEHCOUNT  INCDTTM  \\\n",
       "0         0         0            2         0            0         2        0   \n",
       "1         1         1            2         0            0         2        1   \n",
       "2         1         2            4         0            0         3        2   \n",
       "3         1         3            3         0            0         3        3   \n",
       "4         0         4            2         0            0         2        4   \n",
       "\n",
       "   JUNCTIONTYPE  SDOT_COLCODE  UNDERINFL  WEATHER  ST_COLCODE  HITPARKEDCAR  \n",
       "0             0             0          0        0           0             0  \n",
       "1             1             1          0        1           1             0  \n",
       "2             1             2          0        0           2             0  \n",
       "3             1             0          0        2           3             0  \n",
       "4             0             0          0        1           0             0  "
      ]
     },
     "execution_count": 134,
     "metadata": {},
     "output_type": "execute_result"
    }
   ],
   "source": [
    "X.head()"
   ]
  },
  {
   "cell_type": "markdown",
   "metadata": {},
   "source": [
    "First let's split the data into train and test data. We will then balance the training data so that there is not bias in prediction towards property damage severity cases, but we will leave the test data as is so that it imitates real life. Afterwards we will preprocess our data so that all the values are normalized. We do this because columns like ST_COLCODE have high values which when left unnormalized, can result in heavier weight in ST_COLCODE over other variables."
   ]
  },
  {
   "cell_type": "code",
   "execution_count": 135,
   "metadata": {},
   "outputs": [],
   "source": [
    "from sklearn import preprocessing\n",
    "from sklearn.model_selection import train_test_split"
   ]
  },
  {
   "cell_type": "code",
   "execution_count": 136,
   "metadata": {},
   "outputs": [],
   "source": [
    "X_train, X_test, y_train, y_test = train_test_split(X, y, test_size=0.1, random_state=4)"
   ]
  },
  {
   "cell_type": "code",
   "execution_count": 137,
   "metadata": {},
   "outputs": [
    {
     "data": {
      "text/html": [
       "<div>\n",
       "<style scoped>\n",
       "    .dataframe tbody tr th:only-of-type {\n",
       "        vertical-align: middle;\n",
       "    }\n",
       "\n",
       "    .dataframe tbody tr th {\n",
       "        vertical-align: top;\n",
       "    }\n",
       "\n",
       "    .dataframe thead th {\n",
       "        text-align: right;\n",
       "    }\n",
       "</style>\n",
       "<table border=\"1\" class=\"dataframe\">\n",
       "  <thead>\n",
       "    <tr style=\"text-align: right;\">\n",
       "      <th></th>\n",
       "      <th>ADDRTYPE</th>\n",
       "      <th>LOCATION</th>\n",
       "      <th>PERSONCOUNT</th>\n",
       "      <th>PEDCOUNT</th>\n",
       "      <th>PEDCYLCOUNT</th>\n",
       "      <th>VEHCOUNT</th>\n",
       "      <th>INCDTTM</th>\n",
       "      <th>JUNCTIONTYPE</th>\n",
       "      <th>SDOT_COLCODE</th>\n",
       "      <th>UNDERINFL</th>\n",
       "      <th>WEATHER</th>\n",
       "      <th>ST_COLCODE</th>\n",
       "      <th>HITPARKEDCAR</th>\n",
       "    </tr>\n",
       "  </thead>\n",
       "  <tbody>\n",
       "    <tr>\n",
       "      <th>164341</th>\n",
       "      <td>1</td>\n",
       "      <td>7330</td>\n",
       "      <td>3</td>\n",
       "      <td>0</td>\n",
       "      <td>0</td>\n",
       "      <td>2</td>\n",
       "      <td>862</td>\n",
       "      <td>1</td>\n",
       "      <td>0</td>\n",
       "      <td>0</td>\n",
       "      <td>1</td>\n",
       "      <td>1</td>\n",
       "      <td>0</td>\n",
       "    </tr>\n",
       "    <tr>\n",
       "      <th>31213</th>\n",
       "      <td>0</td>\n",
       "      <td>522</td>\n",
       "      <td>2</td>\n",
       "      <td>0</td>\n",
       "      <td>0</td>\n",
       "      <td>2</td>\n",
       "      <td>358</td>\n",
       "      <td>0</td>\n",
       "      <td>2</td>\n",
       "      <td>0</td>\n",
       "      <td>1</td>\n",
       "      <td>8</td>\n",
       "      <td>0</td>\n",
       "    </tr>\n",
       "    <tr>\n",
       "      <th>174748</th>\n",
       "      <td>0</td>\n",
       "      <td>4682</td>\n",
       "      <td>2</td>\n",
       "      <td>0</td>\n",
       "      <td>0</td>\n",
       "      <td>2</td>\n",
       "      <td>5480</td>\n",
       "      <td>0</td>\n",
       "      <td>0</td>\n",
       "      <td>0</td>\n",
       "      <td>2</td>\n",
       "      <td>0</td>\n",
       "      <td>0</td>\n",
       "    </tr>\n",
       "    <tr>\n",
       "      <th>64402</th>\n",
       "      <td>1</td>\n",
       "      <td>16486</td>\n",
       "      <td>2</td>\n",
       "      <td>0</td>\n",
       "      <td>0</td>\n",
       "      <td>2</td>\n",
       "      <td>3095</td>\n",
       "      <td>3</td>\n",
       "      <td>2</td>\n",
       "      <td>0</td>\n",
       "      <td>2</td>\n",
       "      <td>5</td>\n",
       "      <td>0</td>\n",
       "    </tr>\n",
       "    <tr>\n",
       "      <th>110660</th>\n",
       "      <td>0</td>\n",
       "      <td>1710</td>\n",
       "      <td>2</td>\n",
       "      <td>0</td>\n",
       "      <td>0</td>\n",
       "      <td>2</td>\n",
       "      <td>370</td>\n",
       "      <td>0</td>\n",
       "      <td>0</td>\n",
       "      <td>0</td>\n",
       "      <td>2</td>\n",
       "      <td>8</td>\n",
       "      <td>0</td>\n",
       "    </tr>\n",
       "  </tbody>\n",
       "</table>\n",
       "</div>"
      ],
      "text/plain": [
       "        ADDRTYPE  LOCATION  PERSONCOUNT  PEDCOUNT  PEDCYLCOUNT  VEHCOUNT  \\\n",
       "164341         1      7330            3         0            0         2   \n",
       "31213          0       522            2         0            0         2   \n",
       "174748         0      4682            2         0            0         2   \n",
       "64402          1     16486            2         0            0         2   \n",
       "110660         0      1710            2         0            0         2   \n",
       "\n",
       "        INCDTTM  JUNCTIONTYPE  SDOT_COLCODE  UNDERINFL  WEATHER  ST_COLCODE  \\\n",
       "164341      862             1             0          0        1           1   \n",
       "31213       358             0             2          0        1           8   \n",
       "174748     5480             0             0          0        2           0   \n",
       "64402      3095             3             2          0        2           5   \n",
       "110660      370             0             0          0        2           8   \n",
       "\n",
       "        HITPARKEDCAR  \n",
       "164341             0  \n",
       "31213              0  \n",
       "174748             0  \n",
       "64402              0  \n",
       "110660             0  "
      ]
     },
     "execution_count": 137,
     "metadata": {},
     "output_type": "execute_result"
    }
   ],
   "source": [
    "type(X_train)\n",
    "type(y_train)\n",
    "X_train.head()"
   ]
  },
  {
   "cell_type": "code",
   "execution_count": 138,
   "metadata": {},
   "outputs": [
    {
     "name": "stderr",
     "output_type": "stream",
     "text": [
      "<ipython-input-138-0eb03758b1a0>:1: SettingWithCopyWarning: \n",
      "A value is trying to be set on a copy of a slice from a DataFrame.\n",
      "Try using .loc[row_indexer,col_indexer] = value instead\n",
      "\n",
      "See the caveats in the documentation: https://pandas.pydata.org/pandas-docs/stable/user_guide/indexing.html#returning-a-view-versus-a-copy\n",
      "  X_train['SEVERITYCODE'] = y_train\n"
     ]
    }
   ],
   "source": [
    "X_train['SEVERITYCODE'] = y_train"
   ]
  },
  {
   "cell_type": "code",
   "execution_count": 139,
   "metadata": {},
   "outputs": [],
   "source": [
    "df_property = X_train[X_train.SEVERITYCODE==1]\n",
    "df_injury = X_train[X_train.SEVERITYCODE==2]\n",
    "df_property_resample = df_property.sample(replace=False, n=df_injury.shape[0], random_state=2)\n",
    "X_train = pd.concat([df_property_resample, df_injury])"
   ]
  },
  {
   "cell_type": "code",
   "execution_count": 140,
   "metadata": {},
   "outputs": [
    {
     "data": {
      "text/html": [
       "<div>\n",
       "<style scoped>\n",
       "    .dataframe tbody tr th:only-of-type {\n",
       "        vertical-align: middle;\n",
       "    }\n",
       "\n",
       "    .dataframe tbody tr th {\n",
       "        vertical-align: top;\n",
       "    }\n",
       "\n",
       "    .dataframe thead th {\n",
       "        text-align: right;\n",
       "    }\n",
       "</style>\n",
       "<table border=\"1\" class=\"dataframe\">\n",
       "  <thead>\n",
       "    <tr style=\"text-align: right;\">\n",
       "      <th></th>\n",
       "      <th>ADDRTYPE</th>\n",
       "      <th>LOCATION</th>\n",
       "      <th>PERSONCOUNT</th>\n",
       "      <th>PEDCOUNT</th>\n",
       "      <th>PEDCYLCOUNT</th>\n",
       "      <th>VEHCOUNT</th>\n",
       "      <th>INCDTTM</th>\n",
       "      <th>JUNCTIONTYPE</th>\n",
       "      <th>SDOT_COLCODE</th>\n",
       "      <th>UNDERINFL</th>\n",
       "      <th>WEATHER</th>\n",
       "      <th>ST_COLCODE</th>\n",
       "      <th>HITPARKEDCAR</th>\n",
       "      <th>SEVERITYCODE</th>\n",
       "    </tr>\n",
       "  </thead>\n",
       "  <tbody>\n",
       "    <tr>\n",
       "      <th>52878</th>\n",
       "      <td>1</td>\n",
       "      <td>3053</td>\n",
       "      <td>3</td>\n",
       "      <td>0</td>\n",
       "      <td>0</td>\n",
       "      <td>3</td>\n",
       "      <td>887</td>\n",
       "      <td>1</td>\n",
       "      <td>2</td>\n",
       "      <td>1</td>\n",
       "      <td>2</td>\n",
       "      <td>2</td>\n",
       "      <td>0</td>\n",
       "      <td>1</td>\n",
       "    </tr>\n",
       "    <tr>\n",
       "      <th>189915</th>\n",
       "      <td>0</td>\n",
       "      <td>2786</td>\n",
       "      <td>2</td>\n",
       "      <td>0</td>\n",
       "      <td>0</td>\n",
       "      <td>0</td>\n",
       "      <td>2038</td>\n",
       "      <td>0</td>\n",
       "      <td>2</td>\n",
       "      <td>0</td>\n",
       "      <td>2</td>\n",
       "      <td>7</td>\n",
       "      <td>0</td>\n",
       "      <td>1</td>\n",
       "    </tr>\n",
       "    <tr>\n",
       "      <th>96204</th>\n",
       "      <td>0</td>\n",
       "      <td>12625</td>\n",
       "      <td>2</td>\n",
       "      <td>0</td>\n",
       "      <td>0</td>\n",
       "      <td>2</td>\n",
       "      <td>3897</td>\n",
       "      <td>0</td>\n",
       "      <td>0</td>\n",
       "      <td>0</td>\n",
       "      <td>2</td>\n",
       "      <td>8</td>\n",
       "      <td>0</td>\n",
       "      <td>1</td>\n",
       "    </tr>\n",
       "    <tr>\n",
       "      <th>115803</th>\n",
       "      <td>0</td>\n",
       "      <td>10321</td>\n",
       "      <td>2</td>\n",
       "      <td>0</td>\n",
       "      <td>0</td>\n",
       "      <td>2</td>\n",
       "      <td>4213</td>\n",
       "      <td>0</td>\n",
       "      <td>0</td>\n",
       "      <td>0</td>\n",
       "      <td>1</td>\n",
       "      <td>0</td>\n",
       "      <td>0</td>\n",
       "      <td>1</td>\n",
       "    </tr>\n",
       "    <tr>\n",
       "      <th>22825</th>\n",
       "      <td>1</td>\n",
       "      <td>6476</td>\n",
       "      <td>6</td>\n",
       "      <td>0</td>\n",
       "      <td>0</td>\n",
       "      <td>3</td>\n",
       "      <td>2297</td>\n",
       "      <td>1</td>\n",
       "      <td>0</td>\n",
       "      <td>0</td>\n",
       "      <td>1</td>\n",
       "      <td>1</td>\n",
       "      <td>0</td>\n",
       "      <td>1</td>\n",
       "    </tr>\n",
       "  </tbody>\n",
       "</table>\n",
       "</div>"
      ],
      "text/plain": [
       "        ADDRTYPE  LOCATION  PERSONCOUNT  PEDCOUNT  PEDCYLCOUNT  VEHCOUNT  \\\n",
       "52878          1      3053            3         0            0         3   \n",
       "189915         0      2786            2         0            0         0   \n",
       "96204          0     12625            2         0            0         2   \n",
       "115803         0     10321            2         0            0         2   \n",
       "22825          1      6476            6         0            0         3   \n",
       "\n",
       "        INCDTTM  JUNCTIONTYPE  SDOT_COLCODE  UNDERINFL  WEATHER  ST_COLCODE  \\\n",
       "52878       887             1             2          1        2           2   \n",
       "189915     2038             0             2          0        2           7   \n",
       "96204      3897             0             0          0        2           8   \n",
       "115803     4213             0             0          0        1           0   \n",
       "22825      2297             1             0          0        1           1   \n",
       "\n",
       "        HITPARKEDCAR  SEVERITYCODE  \n",
       "52878              0             1  \n",
       "189915             0             1  \n",
       "96204              0             1  \n",
       "115803             0             1  \n",
       "22825              0             1  "
      ]
     },
     "execution_count": 140,
     "metadata": {},
     "output_type": "execute_result"
    }
   ],
   "source": [
    "X_train.head()"
   ]
  },
  {
   "cell_type": "code",
   "execution_count": 141,
   "metadata": {},
   "outputs": [],
   "source": [
    "y_train = X_train['SEVERITYCODE']\n",
    "del X_train['SEVERITYCODE']"
   ]
  },
  {
   "cell_type": "markdown",
   "metadata": {},
   "source": [
    "Here we preprocess the train and test data"
   ]
  },
  {
   "cell_type": "code",
   "execution_count": 142,
   "metadata": {},
   "outputs": [
    {
     "data": {
      "text/plain": [
       "array([[ 7.80787144e-01, -5.54368807e-01,  3.37826210e-01,\n",
       "        -2.38138550e-01, -2.13897922e-01,  1.63549097e+00,\n",
       "        -1.14262010e+00,  3.39667693e-02, -1.39184301e-01,\n",
       "         4.29810469e+00,  5.74437190e-01, -6.50590166e-01,\n",
       "        -1.71326289e-01],\n",
       "       [-1.28075879e+00, -6.02097089e-01, -3.74060972e-01,\n",
       "        -2.38138550e-01, -2.13897922e-01, -2.85340518e+00,\n",
       "        -4.66487886e-01, -9.58778851e-01, -1.39184301e-01,\n",
       "        -2.32660689e-01,  5.74437190e-01,  4.64288026e-04,\n",
       "        -1.71326289e-01],\n",
       "       [-1.28075879e+00,  1.15669905e+00, -3.74060972e-01,\n",
       "        -2.38138550e-01, -2.13897922e-01,  1.39192250e-01,\n",
       "         6.25544947e-01, -9.58778851e-01, -6.73037958e-01,\n",
       "        -2.32660689e-01,  5.74437190e-01,  1.30675179e-01,\n",
       "        -1.71326289e-01],\n",
       "       [-1.28075879e+00,  7.44841516e-01, -3.74060972e-01,\n",
       "        -2.38138550e-01, -2.13897922e-01,  1.39192250e-01,\n",
       "         8.11172905e-01, -9.58778851e-01, -6.73037958e-01,\n",
       "        -2.32660689e-01, -6.75804218e-01, -9.11011948e-01,\n",
       "        -1.71326289e-01],\n",
       "       [ 7.80787144e-01,  5.75184984e-02,  2.47348775e+00,\n",
       "        -2.38138550e-01, -2.13897922e-01,  1.63549097e+00,\n",
       "        -3.14343452e-01,  3.39667693e-02, -6.73037958e-01,\n",
       "        -2.32660689e-01, -6.75804218e-01, -7.80801057e-01,\n",
       "        -1.71326289e-01]])"
      ]
     },
     "execution_count": 142,
     "metadata": {},
     "output_type": "execute_result"
    }
   ],
   "source": [
    "X_train = preprocessing.StandardScaler().fit(X_train).transform(X_train.astype(float))\n",
    "X_test = preprocessing.StandardScaler().fit(X_test).transform(X_test.astype(float))\n",
    "X_train[0:5]"
   ]
  },
  {
   "cell_type": "markdown",
   "metadata": {},
   "source": [
    "# Model Selection and Evaluation\n",
    "\n",
    "Our problem is a classification problem. We must choose between KNN, SVM, Decision Trees or Logistic Regression for our model. We can try each model and test the results, then we can select the model which yields the highest accuracy."
   ]
  },
  {
   "cell_type": "markdown",
   "metadata": {},
   "source": [
    "## Decision Trees"
   ]
  },
  {
   "cell_type": "code",
   "execution_count": 143,
   "metadata": {},
   "outputs": [],
   "source": [
    "from sklearn.tree import DecisionTreeClassifier\n",
    "from sklearn.metrics import classification_report"
   ]
  },
  {
   "cell_type": "code",
   "execution_count": 144,
   "metadata": {},
   "outputs": [
    {
     "name": "stdout",
     "output_type": "stream",
     "text": [
      "Depth of the tree is: 1\n",
      "              precision    recall  f1-score   support\n",
      "\n",
      "           1       0.81      0.58      0.67     13309\n",
      "           2       0.42      0.69      0.52      5891\n",
      "\n",
      "    accuracy                           0.61     19200\n",
      "   macro avg       0.61      0.63      0.60     19200\n",
      "weighted avg       0.69      0.61      0.63     19200\n",
      "\n",
      "Depth of the tree is: 2\n",
      "              precision    recall  f1-score   support\n",
      "\n",
      "           1       0.92      0.42      0.58     13309\n",
      "           2       0.41      0.92      0.57      5891\n",
      "\n",
      "    accuracy                           0.57     19200\n",
      "   macro avg       0.67      0.67      0.57     19200\n",
      "weighted avg       0.77      0.57      0.58     19200\n",
      "\n",
      "Depth of the tree is: 3\n",
      "              precision    recall  f1-score   support\n",
      "\n",
      "           1       0.92      0.42      0.58     13309\n",
      "           2       0.41      0.92      0.57      5891\n",
      "\n",
      "    accuracy                           0.57     19200\n",
      "   macro avg       0.67      0.67      0.57     19200\n",
      "weighted avg       0.77      0.57      0.58     19200\n",
      "\n",
      "Depth of the tree is: 4\n",
      "              precision    recall  f1-score   support\n",
      "\n",
      "           1       0.84      0.67      0.75     13309\n",
      "           2       0.49      0.70      0.58      5891\n",
      "\n",
      "    accuracy                           0.68     19200\n",
      "   macro avg       0.66      0.69      0.66     19200\n",
      "weighted avg       0.73      0.68      0.69     19200\n",
      "\n",
      "Depth of the tree is: 5\n",
      "              precision    recall  f1-score   support\n",
      "\n",
      "           1       0.84      0.68      0.75     13309\n",
      "           2       0.49      0.70      0.58      5891\n",
      "\n",
      "    accuracy                           0.68     19200\n",
      "   macro avg       0.66      0.69      0.66     19200\n",
      "weighted avg       0.73      0.68      0.70     19200\n",
      "\n",
      "Depth of the tree is: 6\n",
      "              precision    recall  f1-score   support\n",
      "\n",
      "           1       0.84      0.69      0.76     13309\n",
      "           2       0.50      0.70      0.59      5891\n",
      "\n",
      "    accuracy                           0.70     19200\n",
      "   macro avg       0.67      0.70      0.67     19200\n",
      "weighted avg       0.74      0.70      0.71     19200\n",
      "\n",
      "Depth of the tree is: 7\n",
      "              precision    recall  f1-score   support\n",
      "\n",
      "           1       0.85      0.69      0.76     13309\n",
      "           2       0.50      0.72      0.59      5891\n",
      "\n",
      "    accuracy                           0.70     19200\n",
      "   macro avg       0.67      0.70      0.68     19200\n",
      "weighted avg       0.74      0.70      0.71     19200\n",
      "\n",
      "Depth of the tree is: 8\n",
      "              precision    recall  f1-score   support\n",
      "\n",
      "           1       0.86      0.66      0.75     13309\n",
      "           2       0.50      0.76      0.60      5891\n",
      "\n",
      "    accuracy                           0.69     19200\n",
      "   macro avg       0.68      0.71      0.68     19200\n",
      "weighted avg       0.75      0.69      0.70     19200\n",
      "\n",
      "Depth of the tree is: 9\n",
      "              precision    recall  f1-score   support\n",
      "\n",
      "           1       0.87      0.64      0.73     13309\n",
      "           2       0.49      0.78      0.60      5891\n",
      "\n",
      "    accuracy                           0.68     19200\n",
      "   macro avg       0.68      0.71      0.67     19200\n",
      "weighted avg       0.75      0.68      0.69     19200\n",
      "\n",
      "Depth of the tree is: 10\n",
      "              precision    recall  f1-score   support\n",
      "\n",
      "           1       0.86      0.63      0.73     13309\n",
      "           2       0.48      0.77      0.60      5891\n",
      "\n",
      "    accuracy                           0.68     19200\n",
      "   macro avg       0.67      0.70      0.66     19200\n",
      "weighted avg       0.75      0.68      0.69     19200\n",
      "\n"
     ]
    }
   ],
   "source": [
    "from IPython.core.interactiveshell import InteractiveShell\n",
    "InteractiveShell.ast_node_interactivity = \"all\"\n",
    "for i in range(1,11):\n",
    "    severityTree = DecisionTreeClassifier(criterion=\"entropy\", max_depth = i)\n",
    "    severityTree.fit(X_train,y_train)\n",
    "    prediction = severityTree.predict(X_test)\n",
    "    print ('Depth of the tree is: ' + str(i))\n",
    "    print (classification_report(y_test, prediction))"
   ]
  },
  {
   "cell_type": "code",
   "execution_count": 145,
   "metadata": {},
   "outputs": [
    {
     "data": {
      "text/plain": [
       "DecisionTreeClassifier(criterion='entropy', max_depth=50)"
      ]
     },
     "execution_count": 145,
     "metadata": {},
     "output_type": "execute_result"
    },
    {
     "name": "stdout",
     "output_type": "stream",
     "text": [
      "              precision    recall  f1-score   support\n",
      "\n",
      "           1       0.80      0.63      0.70     13309\n",
      "           2       0.43      0.64      0.52      5891\n",
      "\n",
      "    accuracy                           0.63     19200\n",
      "   macro avg       0.62      0.63      0.61     19200\n",
      "weighted avg       0.69      0.63      0.65     19200\n",
      "\n"
     ]
    }
   ],
   "source": [
    "severityTree = DecisionTreeClassifier(criterion=\"entropy\", max_depth = 50)\n",
    "severityTree.fit(X_train,y_train)\n",
    "prediction = severityTree.predict(X_test)\n",
    "print (classification_report(y_test, prediction))"
   ]
  },
  {
   "cell_type": "code",
   "execution_count": 146,
   "metadata": {},
   "outputs": [
    {
     "data": {
      "text/plain": [
       "DecisionTreeClassifier(criterion='entropy', max_depth=100)"
      ]
     },
     "execution_count": 146,
     "metadata": {},
     "output_type": "execute_result"
    },
    {
     "name": "stdout",
     "output_type": "stream",
     "text": [
      "              precision    recall  f1-score   support\n",
      "\n",
      "           1       0.79      0.64      0.71     13309\n",
      "           2       0.43      0.62      0.51      5891\n",
      "\n",
      "    accuracy                           0.63     19200\n",
      "   macro avg       0.61      0.63      0.61     19200\n",
      "weighted avg       0.68      0.63      0.65     19200\n",
      "\n"
     ]
    }
   ],
   "source": [
    "severityTree = DecisionTreeClassifier(criterion=\"entropy\", max_depth = 100)\n",
    "severityTree.fit(X_train,y_train)\n",
    "prediction = severityTree.predict(X_test)\n",
    "print (classification_report(y_test, prediction))"
   ]
  },
  {
   "cell_type": "code",
   "execution_count": 147,
   "metadata": {},
   "outputs": [
    {
     "data": {
      "text/plain": [
       "DecisionTreeClassifier(criterion='entropy', max_depth=7)"
      ]
     },
     "execution_count": 147,
     "metadata": {},
     "output_type": "execute_result"
    },
    {
     "name": "stdout",
     "output_type": "stream",
     "text": [
      "              precision    recall  f1-score   support\n",
      "\n",
      "           1       0.85      0.69      0.76     13309\n",
      "           2       0.50      0.72      0.59      5891\n",
      "\n",
      "    accuracy                           0.70     19200\n",
      "   macro avg       0.67      0.70      0.68     19200\n",
      "weighted avg       0.74      0.70      0.71     19200\n",
      "\n"
     ]
    }
   ],
   "source": [
    "severityTree = DecisionTreeClassifier(criterion=\"entropy\", max_depth = 7)\n",
    "severityTree.fit(X_train,y_train)\n",
    "prediction = severityTree.predict(X_test)\n",
    "print (classification_report(y_test, prediction))"
   ]
  },
  {
   "cell_type": "markdown",
   "metadata": {},
   "source": [
    "We tested our data on many depths for our decision trees. Ultimately, the best score was obtained by the tree with a max depth of 7. We received an overall average f1-score of 0.7. The model was able to correctly identify 72% of all injury causing accidents and 69% of all property damage accidents. The model was also 85% correct when it labelled an accident as a property damage accident, and 50% correct when it labelled an accident as an injury related accident. "
   ]
  },
  {
   "cell_type": "markdown",
   "metadata": {},
   "source": [
    "## K Nearest Neighbours"
   ]
  },
  {
   "cell_type": "markdown",
   "metadata": {},
   "source": [
    "We will be creating the K Nearest Neighbours model now. We will be testing models with k values equal to 1 up to k values equal to 10."
   ]
  },
  {
   "cell_type": "code",
   "execution_count": 148,
   "metadata": {},
   "outputs": [],
   "source": [
    "from sklearn.neighbors import KNeighborsClassifier"
   ]
  },
  {
   "cell_type": "code",
   "execution_count": 149,
   "metadata": {},
   "outputs": [
    {
     "name": "stdout",
     "output_type": "stream",
     "text": [
      "KNN results for K value: 1\n",
      "              precision    recall  f1-score   support\n",
      "\n",
      "           1       0.80      0.64      0.71     13309\n",
      "           2       0.44      0.64      0.52      5891\n",
      "\n",
      "    accuracy                           0.64     19200\n",
      "   macro avg       0.62      0.64      0.62     19200\n",
      "weighted avg       0.69      0.64      0.66     19200\n",
      "\n",
      "KNN results for K value: 2\n",
      "              precision    recall  f1-score   support\n",
      "\n",
      "           1       0.77      0.81      0.79     13309\n",
      "           2       0.52      0.46      0.48      5891\n",
      "\n",
      "    accuracy                           0.70     19200\n",
      "   macro avg       0.64      0.63      0.64     19200\n",
      "weighted avg       0.69      0.70      0.70     19200\n",
      "\n",
      "KNN results for K value: 3\n",
      "              precision    recall  f1-score   support\n",
      "\n",
      "           1       0.82      0.66      0.73     13309\n",
      "           2       0.47      0.68      0.55      5891\n",
      "\n",
      "    accuracy                           0.66     19200\n",
      "   macro avg       0.64      0.67      0.64     19200\n",
      "weighted avg       0.71      0.66      0.67     19200\n",
      "\n",
      "KNN results for K value: 4\n",
      "              precision    recall  f1-score   support\n",
      "\n",
      "           1       0.79      0.76      0.78     13309\n",
      "           2       0.51      0.55      0.53      5891\n",
      "\n",
      "    accuracy                           0.70     19200\n",
      "   macro avg       0.65      0.66      0.65     19200\n",
      "weighted avg       0.70      0.70      0.70     19200\n",
      "\n",
      "KNN results for K value: 5\n",
      "              precision    recall  f1-score   support\n",
      "\n",
      "           1       0.83      0.66      0.73     13309\n",
      "           2       0.47      0.70      0.56      5891\n",
      "\n",
      "    accuracy                           0.67     19200\n",
      "   macro avg       0.65      0.68      0.65     19200\n",
      "weighted avg       0.72      0.67      0.68     19200\n",
      "\n",
      "KNN results for K value: 6\n",
      "              precision    recall  f1-score   support\n",
      "\n",
      "           1       0.81      0.74      0.77     13309\n",
      "           2       0.51      0.60      0.55      5891\n",
      "\n",
      "    accuracy                           0.70     19200\n",
      "   macro avg       0.66      0.67      0.66     19200\n",
      "weighted avg       0.72      0.70      0.71     19200\n",
      "\n",
      "KNN results for K value: 7\n",
      "              precision    recall  f1-score   support\n",
      "\n",
      "           1       0.84      0.66      0.74     13309\n",
      "           2       0.48      0.71      0.57      5891\n",
      "\n",
      "    accuracy                           0.67     19200\n",
      "   macro avg       0.66      0.68      0.65     19200\n",
      "weighted avg       0.73      0.67      0.69     19200\n",
      "\n",
      "KNN results for K value: 8\n",
      "              precision    recall  f1-score   support\n",
      "\n",
      "           1       0.82      0.73      0.77     13309\n",
      "           2       0.50      0.63      0.56      5891\n",
      "\n",
      "    accuracy                           0.70     19200\n",
      "   macro avg       0.66      0.68      0.66     19200\n",
      "weighted avg       0.72      0.70      0.70     19200\n",
      "\n",
      "KNN results for K value: 9\n",
      "              precision    recall  f1-score   support\n",
      "\n",
      "           1       0.84      0.65      0.73     13309\n",
      "           2       0.48      0.71      0.57      5891\n",
      "\n",
      "    accuracy                           0.67     19200\n",
      "   macro avg       0.66      0.68      0.65     19200\n",
      "weighted avg       0.73      0.67      0.68     19200\n",
      "\n",
      "KNN results for K value: 10\n",
      "              precision    recall  f1-score   support\n",
      "\n",
      "           1       0.82      0.72      0.76     13309\n",
      "           2       0.50      0.64      0.56      5891\n",
      "\n",
      "    accuracy                           0.69     19200\n",
      "   macro avg       0.66      0.68      0.66     19200\n",
      "weighted avg       0.72      0.69      0.70     19200\n",
      "\n"
     ]
    }
   ],
   "source": [
    "from IPython.core.interactiveshell import InteractiveShell\n",
    "InteractiveShell.ast_node_interactivity = \"all\"\n",
    "k = 11\n",
    "means = []\n",
    "for i in range(1,k):\n",
    "    knn = KNeighborsClassifier(n_neighbors = i).fit(X_train, y_train)\n",
    "    knn_prediction = knn.predict(X_test)\n",
    "    print('KNN results for K value: '+str(i))\n",
    "    print(classification_report(y_test, knn_prediction))\n",
    "    \n",
    "    "
   ]
  },
  {
   "cell_type": "markdown",
   "metadata": {},
   "source": [
    "The model with the highest average f1-score and best results from all of our KNN models was the model with a K value of 8. There were many models which got an average f1-score of 0.70, like the K value = 8 model. The distinguishing factor is that the k value = 8 model had the highest recall score when considering all outputs. The model was able to predict 73% of all property damage accidents and 63% of all injury accidents while being 82% correct in it's prediction when it labelled an accident as a property damage accident and 50% correct when it labelled an accident as an injury related accident."
   ]
  },
  {
   "cell_type": "code",
   "execution_count": 150,
   "metadata": {},
   "outputs": [
    {
     "data": {
      "text/plain": [
       "SVC()"
      ]
     },
     "execution_count": 150,
     "metadata": {},
     "output_type": "execute_result"
    }
   ],
   "source": [
    "from sklearn import svm\n",
    "clf = svm.SVC(kernel='rbf')\n",
    "clf.fit(X_train, y_train) "
   ]
  },
  {
   "cell_type": "code",
   "execution_count": 151,
   "metadata": {},
   "outputs": [],
   "source": [
    "yhat_clf = clf.predict(X_test)"
   ]
  },
  {
   "cell_type": "code",
   "execution_count": 152,
   "metadata": {},
   "outputs": [
    {
     "name": "stdout",
     "output_type": "stream",
     "text": [
      "              precision    recall  f1-score   support\n",
      "\n",
      "           1       0.85      0.65      0.74     13309\n",
      "           2       0.49      0.75      0.59      5891\n",
      "\n",
      "    accuracy                           0.68     19200\n",
      "   macro avg       0.67      0.70      0.66     19200\n",
      "weighted avg       0.74      0.68      0.69     19200\n",
      "\n"
     ]
    }
   ],
   "source": [
    "from sklearn.metrics import classification_report\n",
    "print (classification_report(y_test, yhat_clf))"
   ]
  },
  {
   "cell_type": "markdown",
   "metadata": {},
   "source": [
    "The SVM model was able to predict 75% of all injury related accidents and was 49% correct when it labelled an accident as an injury related accident. Additionally, it was able to predict 65% of all property damage accidents and was 85% correct when it labelled an accident as property damage. The f1 score was 0.74 and 0.59 for property damage accidents and injury accidents respectively earning it an average f1 score of 0.68."
   ]
  },
  {
   "cell_type": "code",
   "execution_count": 153,
   "metadata": {},
   "outputs": [
    {
     "name": "stdout",
     "output_type": "stream",
     "text": [
      "              precision    recall  f1-score   support\n",
      "\n",
      "           1       0.81      0.66      0.72     13309\n",
      "           2       0.46      0.65      0.54      5891\n",
      "\n",
      "    accuracy                           0.65     19200\n",
      "   macro avg       0.63      0.65      0.63     19200\n",
      "weighted avg       0.70      0.65      0.67     19200\n",
      "\n"
     ]
    }
   ],
   "source": [
    "from sklearn.linear_model import LogisticRegression\n",
    "LR = LogisticRegression(C=0.01).fit(X_train,y_train)\n",
    "yhat = LR.predict(X_test)\n",
    "yhat_prob = LR.predict_proba(X_test)\n",
    "from sklearn.metrics import classification_report\n",
    "print (classification_report(y_test, yhat))"
   ]
  },
  {
   "cell_type": "markdown",
   "metadata": {},
   "source": [
    "The logistic regression model was able to predict 66% of all property damage accidents and 65% of all injury related accidents. It was also 81% correct when it labelled an accident as a property damage accident and 46% correct when it labelled an accident as an injury related accident. This model did worse than the SVM model but did a decent job overall as a severity predictor."
   ]
  },
  {
   "cell_type": "markdown",
   "metadata": {},
   "source": [
    "The decision tree model was the best model we were able to create since it has the highest precision and recall of all the models we have created. This will be the model which should be chosen to perform accident severity prediction with the available data."
   ]
  },
  {
   "cell_type": "markdown",
   "metadata": {},
   "source": [
    "# Results\n",
    "\n",
    "Our analysis was able to show us that the relevant variables we should use in our models were 'PERSONCOUNT', 'PEDCOUNT', 'VEHCOUNT, 'PEDCYLCOUNT', 'ADDRTYPE', 'LOCATION', 'INCDTTM', 'JUNCTIONTYPE', 'SDOT_COLCODE', 'UNDERINFL', 'WEATHER', 'ST_COLCODE', and 'HITPARKEDCAR'. Then we dropped all other variables and factorized the categorical variables so that they can be used in fitting and testing for our models. A range of values were used in our decision tree and knn models for the number of trees and K neighbours, respectively. An SVM and Logistic Regression model was also created for the data but ultimately the decision tree with a depth of 7 was the most successful model.\n",
    "\n",
    "The decision tree was able to give us a precision score of 0.85 and a recall score of 0.69 for the prediction of a property damage accident and a precision score of 0.50 and a recall score of 0.72 for the prediction of an injury accident. Other models were able to obtain similar results, with the second-best model being a KNN model with a k value of 8. The KNN model was able to give us precision and recall scores of 0.82 and 0.73 for property damage accidents, and 0.50 and 0.63 for injury causing accidents. \n",
    "\n",
    "The decision tree's accuracy in plain English, can identify 69% of all property damage accidents and 72% of all injury causing accidents. Furthermore, when it did predict an accident as a property damage accident, it was correct 85% of the time. In the case of injury causing accidents, it was correct 50% of the time. These were collectively, the highest numbers we were able to obtain from any model, giving us confidence that this is the best model to use given the data we have.\n"
   ]
  },
  {
   "cell_type": "markdown",
   "metadata": {},
   "source": [
    "# Discussion\n",
    "Our findings do not solely rely on recall as our focus is not to save individuals who are in the accident, but to assist GPS navigation systems in predicting routes around the accident. As a result, it is important for us to factor in precision, recall and the f1-score. Our findings were able to point us towards the direction of our decision tree with a depth of 7 branches. This was able to provide us with the most accurate model of all our models we created.\n",
    "\n",
    "It is important to note that our model is not as reliable as we had hoped considering the model still makes a mistake in identifying 31% of property damage accidents and 28% of injury related accidents, but it does point us towards the right direction. It would be helpful to include more information to better predict the severity of an accident. Car information, number of officers, number of ambulances, and number of tow trucks could help us increase the reliability of our models thus increase the reliability in a GPS not directing drivers towards traffic."
   ]
  },
  {
   "cell_type": "markdown",
   "metadata": {},
   "source": [
    "# Conclusion\n",
    "\n",
    "The purpose of this project was to be able to create a model which would be able to correctly label an accident as a property damage accident or an injury related accident. Determining this severity would ultimately be able to assist GPS companies in routing users away from an accident scene if the accident is severe enough. Our model was able to detect 72% of all injury related accidents and 69% of all property related accidents, however it still has room for improvement. This report should be used as a base point for which an even reliable model can be created upon. Ultimately, the model was limited due to the lack of information available to us by the given data. With a greater amount of information, a more reliable model should be able to be created, giving great benefit to the company providing directions, and the customers using the software following the directions."
   ]
  }
 ],
 "metadata": {
  "kernelspec": {
   "display_name": "Python 3",
   "language": "python",
   "name": "python3"
  },
  "language_info": {
   "codemirror_mode": {
    "name": "ipython",
    "version": 3
   },
   "file_extension": ".py",
   "mimetype": "text/x-python",
   "name": "python",
   "nbconvert_exporter": "python",
   "pygments_lexer": "ipython3",
   "version": "3.8.3"
  }
 },
 "nbformat": 4,
 "nbformat_minor": 4
}
